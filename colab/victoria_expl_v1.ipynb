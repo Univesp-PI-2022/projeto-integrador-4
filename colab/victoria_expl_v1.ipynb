{
 "cells": [
  {
   "cell_type": "markdown",
   "id": "6f3d4574-fea0-4bd7-ad1b-c1cb683c3f68",
   "metadata": {},
   "source": [
    "# Análise Exploratória e Feature Engineering"
   ]
  },
  {
   "cell_type": "code",
   "execution_count": 166,
   "id": "56bb4629-88d3-4f64-b6c3-2d2839138f69",
   "metadata": {},
   "outputs": [],
   "source": [
    "# Importando bibliotecas\n",
    "import sweetviz as sv\n",
    "import pandas as pd\n",
    "import numpy as np\n",
    "import matplotlib.pyplot as plt\n",
    "import seaborn as sns\n",
    "import statsmodels\n",
    "from statsmodels.stats.outliers_influence import variance_inflation_factor\n",
    "from unidecode import unidecode\n",
    "pd.set_option('display.float_format', '{:.2f}'.format)\n",
    "pd.set_option('display.max_columns', None)"
   ]
  },
  {
   "cell_type": "code",
   "execution_count": 167,
   "id": "a8138df0-1855-43a2-91be-83112089eb63",
   "metadata": {},
   "outputs": [
    {
     "data": {
      "text/html": [
       "<div>\n",
       "<style scoped>\n",
       "    .dataframe tbody tr th:only-of-type {\n",
       "        vertical-align: middle;\n",
       "    }\n",
       "\n",
       "    .dataframe tbody tr th {\n",
       "        vertical-align: top;\n",
       "    }\n",
       "\n",
       "    .dataframe thead th {\n",
       "        text-align: right;\n",
       "    }\n",
       "</style>\n",
       "<table border=\"1\" class=\"dataframe\">\n",
       "  <thead>\n",
       "    <tr style=\"text-align: right;\">\n",
       "      <th></th>\n",
       "      <th>ID</th>\n",
       "      <th>Situação de rua</th>\n",
       "      <th>Onde dormiu ontem</th>\n",
       "      <th>Tempo de permanência</th>\n",
       "      <th>Sexo</th>\n",
       "      <th>Identifica com o sexo nasceu</th>\n",
       "      <th>Idade</th>\n",
       "      <th>Faixa de idade</th>\n",
       "      <th>Classificação de idade</th>\n",
       "      <th>Cor_Raça_Etnia</th>\n",
       "      <th>Parentes no CA</th>\n",
       "      <th>Tempo na situação</th>\n",
       "      <th>Tipo de ponto</th>\n",
       "      <th>Presença_Moradia_Improvisada</th>\n",
       "      <th>Criança_acomp_Adulto</th>\n",
       "      <th>Criança_Sozinha</th>\n",
       "      <th>Latitude</th>\n",
       "      <th>Longitude</th>\n",
       "      <th>Data</th>\n",
       "      <th>Subprefeitura</th>\n",
       "      <th>Distrito</th>\n",
       "    </tr>\n",
       "  </thead>\n",
       "  <tbody>\n",
       "    <tr>\n",
       "      <th>0</th>\n",
       "      <td>1</td>\n",
       "      <td>Rua</td>\n",
       "      <td>Não se aplica</td>\n",
       "      <td>Não se aplica</td>\n",
       "      <td>Feminino</td>\n",
       "      <td>Não respondeu</td>\n",
       "      <td>Não respondeu</td>\n",
       "      <td>Sem informação</td>\n",
       "      <td>Sem informação</td>\n",
       "      <td>Sem identificação</td>\n",
       "      <td>Não informado</td>\n",
       "      <td>NR/NS</td>\n",
       "      <td>Praça</td>\n",
       "      <td>Não</td>\n",
       "      <td>Não</td>\n",
       "      <td>Não</td>\n",
       "      <td>-23,4962781999999</td>\n",
       "      <td>-46,391831</td>\n",
       "      <td>10/25/21</td>\n",
       "      <td>Itaim Paulista</td>\n",
       "      <td>Itaim Paulista</td>\n",
       "    </tr>\n",
       "    <tr>\n",
       "      <th>1</th>\n",
       "      <td>2</td>\n",
       "      <td>Acolhido</td>\n",
       "      <td>Rua</td>\n",
       "      <td>Não se aplica</td>\n",
       "      <td>Masculino</td>\n",
       "      <td>Homem Cisgênero</td>\n",
       "      <td>38</td>\n",
       "      <td>31 a 49</td>\n",
       "      <td>Adulto</td>\n",
       "      <td>Parda</td>\n",
       "      <td>Sim</td>\n",
       "      <td>Mais de 10 anos</td>\n",
       "      <td>Não se aplica</td>\n",
       "      <td>Não se aplica</td>\n",
       "      <td>Não se aplica</td>\n",
       "      <td>Não se aplica</td>\n",
       "      <td>-23,5225168</td>\n",
       "      <td>-46,522712</td>\n",
       "      <td>10/25/21</td>\n",
       "      <td>Penha</td>\n",
       "      <td>Penha</td>\n",
       "    </tr>\n",
       "    <tr>\n",
       "      <th>2</th>\n",
       "      <td>3</td>\n",
       "      <td>Rua</td>\n",
       "      <td>Não se aplica</td>\n",
       "      <td>Não se aplica</td>\n",
       "      <td>Feminino</td>\n",
       "      <td>Mulher Cisgênero</td>\n",
       "      <td>27</td>\n",
       "      <td>18 a 30</td>\n",
       "      <td>Juventude</td>\n",
       "      <td>Parda</td>\n",
       "      <td>Sim</td>\n",
       "      <td>Mais de 2 anos até 5 anos</td>\n",
       "      <td>Praça</td>\n",
       "      <td>Sim</td>\n",
       "      <td>Não</td>\n",
       "      <td>Não</td>\n",
       "      <td>-23,5232932</td>\n",
       "      <td>-46,6549845</td>\n",
       "      <td>11/3/21</td>\n",
       "      <td>Sé</td>\n",
       "      <td>Santa Cecília</td>\n",
       "    </tr>\n",
       "  </tbody>\n",
       "</table>\n",
       "</div>"
      ],
      "text/plain": [
       "   ID Situação de rua Onde dormiu ontem Tempo de permanência       Sexo  \\\n",
       "0   1             Rua     Não se aplica        Não se aplica   Feminino   \n",
       "1   2        Acolhido               Rua        Não se aplica  Masculino   \n",
       "2   3             Rua     Não se aplica        Não se aplica   Feminino   \n",
       "\n",
       "  Identifica com o sexo nasceu          Idade  Faixa de idade  \\\n",
       "0                Não respondeu  Não respondeu  Sem informação   \n",
       "1              Homem Cisgênero             38         31 a 49   \n",
       "2             Mulher Cisgênero             27         18 a 30   \n",
       "\n",
       "  Classificação de idade     Cor_Raça_Etnia Parentes no CA  \\\n",
       "0         Sem informação  Sem identificação  Não informado   \n",
       "1                 Adulto              Parda            Sim   \n",
       "2              Juventude              Parda            Sim   \n",
       "\n",
       "           Tempo na situação  Tipo de ponto Presença_Moradia_Improvisada  \\\n",
       "0                      NR/NS          Praça                          Não   \n",
       "1            Mais de 10 anos  Não se aplica                Não se aplica   \n",
       "2  Mais de 2 anos até 5 anos          Praça                          Sim   \n",
       "\n",
       "  Criança_acomp_Adulto Criança_Sozinha           Latitude    Longitude  \\\n",
       "0                  Não             Não  -23,4962781999999   -46,391831   \n",
       "1        Não se aplica   Não se aplica        -23,5225168   -46,522712   \n",
       "2                  Não             Não        -23,5232932  -46,6549845   \n",
       "\n",
       "       Data   Subprefeitura        Distrito  \n",
       "0  10/25/21  Itaim Paulista  Itaim Paulista  \n",
       "1  10/25/21           Penha           Penha  \n",
       "2   11/3/21              Sé   Santa Cecília  "
      ]
     },
     "execution_count": 167,
     "metadata": {},
     "output_type": "execute_result"
    }
   ],
   "source": [
    "# Ler o arquivo CSV\n",
    "df = pd.read_csv('https://raw.githubusercontent.com/Univesp-PI-2022/projeto-integrador-4/main/dados/censo1.csv',sep=\";\")\n",
    "df.head(3)"
   ]
  },
  {
   "cell_type": "code",
   "execution_count": 168,
   "id": "c3386324-6e88-48f0-ab3a-c6179032b8da",
   "metadata": {},
   "outputs": [
    {
     "data": {
      "text/plain": [
       "(31884, 21)"
      ]
     },
     "execution_count": 168,
     "metadata": {},
     "output_type": "execute_result"
    }
   ],
   "source": [
    "df.shape"
   ]
  },
  {
   "cell_type": "code",
   "execution_count": 169,
   "id": "3305add9-7d27-4765-b5d7-b68d1f52ed4a",
   "metadata": {},
   "outputs": [
    {
     "name": "stdout",
     "output_type": "stream",
     "text": [
      "data mínima: 10/11/21\n",
      "data máxima: 11/9/21\n"
     ]
    }
   ],
   "source": [
    "#Verificando período da base\n",
    "print(f'data mínima: {df.Data.min()}')\n",
    "print(f'data máxima: {df.Data.max()}')"
   ]
  },
  {
   "cell_type": "code",
   "execution_count": 170,
   "id": "f902af8f-c5c0-4027-bfa4-d7ee0e43a3fb",
   "metadata": {},
   "outputs": [
    {
     "data": {
      "text/plain": [
       "Index(['ID', 'Situação de rua', 'Onde dormiu ontem', 'Tempo de permanência',\n",
       "       'Sexo', 'Identifica com o sexo nasceu', 'Idade', 'Faixa de idade',\n",
       "       'Classificação de idade', 'Cor_Raça_Etnia', 'Parentes no CA',\n",
       "       'Tempo na situação', 'Tipo de ponto', 'Presença_Moradia_Improvisada',\n",
       "       'Criança_acomp_Adulto', 'Criança_Sozinha', 'Latitude', 'Longitude',\n",
       "       'Data', 'Subprefeitura', 'Distrito'],\n",
       "      dtype='object')"
      ]
     },
     "execution_count": 170,
     "metadata": {},
     "output_type": "execute_result"
    }
   ],
   "source": [
    "df.columns"
   ]
  },
  {
   "cell_type": "code",
   "execution_count": 171,
   "id": "e4d3208c-367e-4ae8-855b-00d6d4d1677a",
   "metadata": {},
   "outputs": [],
   "source": [
    "# Renomeando colunas (as originais possuem elementos que podem dificultar na evolução do trabalho)\n",
    "new_column_names = {\n",
    "    'ID': 'id',\n",
    "    'Situação de rua': 'situac',\n",
    "    'Onde dormiu ontem': 'onde_dormiu_ontem',\n",
    "    'Tempo de permanência': 'tempo_perman',\n",
    "    'Sexo': 'sexo',\n",
    "    'Identifica com o sexo nasceu': 'sexo_nasc',\n",
    "    'Idade': 'idade',\n",
    "    'Faixa de idade': 'faixa_idade',\n",
    "    'Classificação de idade': 'class_idade',\n",
    "    'Cor_Raça_Etnia': 'cor_raca_etnia',\n",
    "    'Parentes no CA': 'parentes_ca',\n",
    "    'Tempo na situação': 'tempo_situac',\n",
    "    'Tipo de ponto': 'tipo_ponto',\n",
    "    'Presença_Moradia_Improvisada': 'moradia_impro',\n",
    "    'Criança_acomp_Adulto': 'crianca_acomp',\n",
    "    'Criança_Sozinha': 'crianca_sozinha',\n",
    "    'Latitude': 'lat',\n",
    "    'Longitude': 'lon',\n",
    "    'Data': 'Data',\n",
    "    'Subprefeitura': 'subpref',\n",
    "    'Distrito': 'distrito'\n",
    "}\n",
    "\n",
    "df = df.rename(columns=new_column_names)"
   ]
  },
  {
   "cell_type": "code",
   "execution_count": 172,
   "id": "9c198811-be01-4701-823f-1f343ddea2ad",
   "metadata": {},
   "outputs": [
    {
     "data": {
      "text/plain": [
       "id                    int64\n",
       "situac               object\n",
       "onde_dormiu_ontem    object\n",
       "tempo_perman         object\n",
       "sexo                 object\n",
       "sexo_nasc            object\n",
       "idade                object\n",
       "faixa_idade          object\n",
       "class_idade          object\n",
       "cor_raca_etnia       object\n",
       "parentes_ca          object\n",
       "tempo_situac         object\n",
       "tipo_ponto           object\n",
       "moradia_impro        object\n",
       "crianca_acomp        object\n",
       "crianca_sozinha      object\n",
       "lat                  object\n",
       "lon                  object\n",
       "Data                 object\n",
       "subpref              object\n",
       "distrito             object\n",
       "dtype: object"
      ]
     },
     "execution_count": 172,
     "metadata": {},
     "output_type": "execute_result"
    }
   ],
   "source": [
    "df.dtypes"
   ]
  },
  {
   "cell_type": "code",
   "execution_count": 173,
   "id": "13ddd3b8-a964-4e59-a84c-c0115993a4ef",
   "metadata": {},
   "outputs": [],
   "source": [
    "df['Data'] = pd.to_datetime(df['Data'])"
   ]
  },
  {
   "cell_type": "code",
   "execution_count": 174,
   "id": "11b01b4f-469e-4e3d-bff2-1f827b90b22e",
   "metadata": {},
   "outputs": [
    {
     "data": {
      "text/html": [
       "<div>\n",
       "<style scoped>\n",
       "    .dataframe tbody tr th:only-of-type {\n",
       "        vertical-align: middle;\n",
       "    }\n",
       "\n",
       "    .dataframe tbody tr th {\n",
       "        vertical-align: top;\n",
       "    }\n",
       "\n",
       "    .dataframe thead th {\n",
       "        text-align: right;\n",
       "    }\n",
       "</style>\n",
       "<table border=\"1\" class=\"dataframe\">\n",
       "  <thead>\n",
       "    <tr style=\"text-align: right;\">\n",
       "      <th></th>\n",
       "      <th>id</th>\n",
       "      <th>situac</th>\n",
       "      <th>onde_dormiu_ontem</th>\n",
       "      <th>tempo_perman</th>\n",
       "      <th>sexo</th>\n",
       "      <th>sexo_nasc</th>\n",
       "      <th>idade</th>\n",
       "      <th>faixa_idade</th>\n",
       "      <th>class_idade</th>\n",
       "      <th>cor_raca_etnia</th>\n",
       "      <th>parentes_ca</th>\n",
       "      <th>tempo_situac</th>\n",
       "      <th>tipo_ponto</th>\n",
       "      <th>moradia_impro</th>\n",
       "      <th>crianca_acomp</th>\n",
       "      <th>crianca_sozinha</th>\n",
       "      <th>lat</th>\n",
       "      <th>lon</th>\n",
       "      <th>Data</th>\n",
       "      <th>subpref</th>\n",
       "      <th>distrito</th>\n",
       "    </tr>\n",
       "  </thead>\n",
       "  <tbody>\n",
       "    <tr>\n",
       "      <th>0</th>\n",
       "      <td>1</td>\n",
       "      <td>Rua</td>\n",
       "      <td>Não se aplica</td>\n",
       "      <td>Não se aplica</td>\n",
       "      <td>Feminino</td>\n",
       "      <td>Não respondeu</td>\n",
       "      <td>Não respondeu</td>\n",
       "      <td>Sem informação</td>\n",
       "      <td>Sem informação</td>\n",
       "      <td>Sem identificação</td>\n",
       "      <td>Não informado</td>\n",
       "      <td>NR/NS</td>\n",
       "      <td>Praça</td>\n",
       "      <td>Não</td>\n",
       "      <td>Não</td>\n",
       "      <td>Não</td>\n",
       "      <td>-23,4962781999999</td>\n",
       "      <td>-46,391831</td>\n",
       "      <td>2021-10-25</td>\n",
       "      <td>Itaim Paulista</td>\n",
       "      <td>Itaim Paulista</td>\n",
       "    </tr>\n",
       "    <tr>\n",
       "      <th>1</th>\n",
       "      <td>2</td>\n",
       "      <td>Acolhido</td>\n",
       "      <td>Rua</td>\n",
       "      <td>Não se aplica</td>\n",
       "      <td>Masculino</td>\n",
       "      <td>Homem Cisgênero</td>\n",
       "      <td>38</td>\n",
       "      <td>31 a 49</td>\n",
       "      <td>Adulto</td>\n",
       "      <td>Parda</td>\n",
       "      <td>Sim</td>\n",
       "      <td>Mais de 10 anos</td>\n",
       "      <td>Não se aplica</td>\n",
       "      <td>Não se aplica</td>\n",
       "      <td>Não se aplica</td>\n",
       "      <td>Não se aplica</td>\n",
       "      <td>-23,5225168</td>\n",
       "      <td>-46,522712</td>\n",
       "      <td>2021-10-25</td>\n",
       "      <td>Penha</td>\n",
       "      <td>Penha</td>\n",
       "    </tr>\n",
       "    <tr>\n",
       "      <th>2</th>\n",
       "      <td>3</td>\n",
       "      <td>Rua</td>\n",
       "      <td>Não se aplica</td>\n",
       "      <td>Não se aplica</td>\n",
       "      <td>Feminino</td>\n",
       "      <td>Mulher Cisgênero</td>\n",
       "      <td>27</td>\n",
       "      <td>18 a 30</td>\n",
       "      <td>Juventude</td>\n",
       "      <td>Parda</td>\n",
       "      <td>Sim</td>\n",
       "      <td>Mais de 2 anos até 5 anos</td>\n",
       "      <td>Praça</td>\n",
       "      <td>Sim</td>\n",
       "      <td>Não</td>\n",
       "      <td>Não</td>\n",
       "      <td>-23,5232932</td>\n",
       "      <td>-46,6549845</td>\n",
       "      <td>2021-11-03</td>\n",
       "      <td>Sé</td>\n",
       "      <td>Santa Cecília</td>\n",
       "    </tr>\n",
       "  </tbody>\n",
       "</table>\n",
       "</div>"
      ],
      "text/plain": [
       "   id    situac onde_dormiu_ontem   tempo_perman       sexo         sexo_nasc  \\\n",
       "0   1       Rua     Não se aplica  Não se aplica   Feminino     Não respondeu   \n",
       "1   2  Acolhido               Rua  Não se aplica  Masculino   Homem Cisgênero   \n",
       "2   3       Rua     Não se aplica  Não se aplica   Feminino  Mulher Cisgênero   \n",
       "\n",
       "           idade     faixa_idade     class_idade     cor_raca_etnia  \\\n",
       "0  Não respondeu  Sem informação  Sem informação  Sem identificação   \n",
       "1             38         31 a 49          Adulto              Parda   \n",
       "2             27         18 a 30       Juventude              Parda   \n",
       "\n",
       "     parentes_ca               tempo_situac     tipo_ponto  moradia_impro  \\\n",
       "0  Não informado                      NR/NS          Praça            Não   \n",
       "1            Sim            Mais de 10 anos  Não se aplica  Não se aplica   \n",
       "2            Sim  Mais de 2 anos até 5 anos          Praça            Sim   \n",
       "\n",
       "   crianca_acomp crianca_sozinha                lat          lon       Data  \\\n",
       "0            Não             Não  -23,4962781999999   -46,391831 2021-10-25   \n",
       "1  Não se aplica   Não se aplica        -23,5225168   -46,522712 2021-10-25   \n",
       "2            Não             Não        -23,5232932  -46,6549845 2021-11-03   \n",
       "\n",
       "          subpref        distrito  \n",
       "0  Itaim Paulista  Itaim Paulista  \n",
       "1           Penha           Penha  \n",
       "2              Sé   Santa Cecília  "
      ]
     },
     "execution_count": 174,
     "metadata": {},
     "output_type": "execute_result"
    }
   ],
   "source": [
    "df.head(3)"
   ]
  },
  {
   "cell_type": "code",
   "execution_count": 175,
   "id": "f5d57ec1-fe20-41e9-93c0-e4191f2ad36d",
   "metadata": {},
   "outputs": [
    {
     "data": {
      "text/html": [
       "<div>\n",
       "<style scoped>\n",
       "    .dataframe tbody tr th:only-of-type {\n",
       "        vertical-align: middle;\n",
       "    }\n",
       "\n",
       "    .dataframe tbody tr th {\n",
       "        vertical-align: top;\n",
       "    }\n",
       "\n",
       "    .dataframe thead th {\n",
       "        text-align: right;\n",
       "    }\n",
       "</style>\n",
       "<table border=\"1\" class=\"dataframe\">\n",
       "  <thead>\n",
       "    <tr style=\"text-align: right;\">\n",
       "      <th></th>\n",
       "      <th>id</th>\n",
       "      <th>situac</th>\n",
       "      <th>onde_dormiu_ontem</th>\n",
       "      <th>tempo_perman</th>\n",
       "      <th>sexo</th>\n",
       "      <th>sexo_nasc</th>\n",
       "      <th>idade</th>\n",
       "      <th>faixa_idade</th>\n",
       "      <th>class_idade</th>\n",
       "      <th>cor_raca_etnia</th>\n",
       "      <th>parentes_ca</th>\n",
       "      <th>tempo_situac</th>\n",
       "      <th>tipo_ponto</th>\n",
       "      <th>moradia_impro</th>\n",
       "      <th>crianca_acomp</th>\n",
       "      <th>crianca_sozinha</th>\n",
       "      <th>lat</th>\n",
       "      <th>lon</th>\n",
       "      <th>Data</th>\n",
       "      <th>subpref</th>\n",
       "      <th>distrito</th>\n",
       "    </tr>\n",
       "  </thead>\n",
       "  <tbody>\n",
       "  </tbody>\n",
       "</table>\n",
       "</div>"
      ],
      "text/plain": [
       "Empty DataFrame\n",
       "Columns: [id, situac, onde_dormiu_ontem, tempo_perman, sexo, sexo_nasc, idade, faixa_idade, class_idade, cor_raca_etnia, parentes_ca, tempo_situac, tipo_ponto, moradia_impro, crianca_acomp, crianca_sozinha, lat, lon, Data, subpref, distrito]\n",
       "Index: []"
      ]
     },
     "execution_count": 175,
     "metadata": {},
     "output_type": "execute_result"
    }
   ],
   "source": [
    "df[df.duplicated()]"
   ]
  },
  {
   "cell_type": "markdown",
   "id": "06c7e4f5-b4da-4820-9068-057b57ad1695",
   "metadata": {},
   "source": [
    "Não existem ocorrências duplicadas"
   ]
  },
  {
   "cell_type": "markdown",
   "id": "18390b8a-597d-4216-9e30-b172812ba401",
   "metadata": {},
   "source": [
    "# Nulos"
   ]
  },
  {
   "cell_type": "code",
   "execution_count": 176,
   "id": "46829c2d-aac3-4105-83ef-731fab0d05a8",
   "metadata": {},
   "outputs": [
    {
     "data": {
      "text/plain": [
       "id                     0\n",
       "situac                 0\n",
       "onde_dormiu_ontem      0\n",
       "tempo_perman           0\n",
       "sexo                   0\n",
       "sexo_nasc              0\n",
       "idade                  0\n",
       "faixa_idade            0\n",
       "class_idade            0\n",
       "cor_raca_etnia         0\n",
       "parentes_ca            0\n",
       "tempo_situac           0\n",
       "tipo_ponto             0\n",
       "moradia_impro          0\n",
       "crianca_acomp          0\n",
       "crianca_sozinha        0\n",
       "lat                  167\n",
       "lon                  167\n",
       "Data                   0\n",
       "subpref                0\n",
       "distrito               0\n",
       "dtype: int64"
      ]
     },
     "execution_count": 176,
     "metadata": {},
     "output_type": "execute_result"
    }
   ],
   "source": [
    "df.isnull().sum()"
   ]
  },
  {
   "cell_type": "markdown",
   "id": "4f6f2b93-6b30-4f5e-8134-5aad2f01afa5",
   "metadata": {},
   "source": [
    "Parece que temos nulos apenas em latitude e longitude, porém se faz necessário observar mais profundamente"
   ]
  },
  {
   "cell_type": "code",
   "execution_count": 177,
   "id": "1dc55140-7442-4158-a942-568c2a2ea6e0",
   "metadata": {},
   "outputs": [
    {
     "name": "stdout",
     "output_type": "stream",
     "text": [
      "id\n",
      "[    1     2     3 ... 31882 31883 31884]\n",
      "\n",
      "\n",
      "situac\n",
      "['Rua' 'Acolhido']\n",
      "\n",
      "\n",
      "onde_dormiu_ontem\n",
      "['Não se aplica' 'Rua' 'Neste centro de acolhida (aqui)'\n",
      " 'Não respondeu/Não sabe' 'Outro' 'Casa própria' 'Casa de amigos/parentes'\n",
      " 'Outro centro de acolhida']\n",
      "\n",
      "\n",
      "tempo_perman\n",
      "['Não se aplica' 'Mais de 6 meses' 'Entre 1 e 2 semanas'\n",
      " 'Entre 1 mês e 3 meses' 'Entre 3 meses e 6 meses'\n",
      " 'Não respondeu/Não sabe' 'Até 1 semana' 'Entre 2 semanas e 1 mês']\n",
      "\n",
      "\n",
      "sexo\n",
      "['Feminino' 'Masculino' 'Sem identificação']\n",
      "\n",
      "\n",
      "sexo_nasc\n",
      "['Não respondeu' 'Homem Cisgênero' 'Mulher Cisgênero' 'Agênero' 'Outra'\n",
      " 'Mulher Transexual' 'Travesti' 'Homem Transexual' 'Não Binário']\n",
      "\n",
      "\n",
      "idade\n",
      "['Não respondeu' '38' '27' '15' '43' '44' '50' '64' '53' '32' '65' '40'\n",
      " '35' '22' '6' '39' '54' '46' '11' '51' '19' '20' '47' '41' '60' '70' '45'\n",
      " '23' '34' '1' '49' '52' '30' '68' '37' '42' '58' '25' '67' '29' '56' '36'\n",
      " '55' '28' '57' '33' '31' '72' '26' '66' '48' '69' '24' '59' '61' '84'\n",
      " '76' '21' '63' '18' '7' '73' '75' '14' '62' '81' '78' '79' '10' '17' '86'\n",
      " '12' '4' '16' '74' '13' '3' '71' '77' '9' '2' '5' '83' '0' '88' '85' '8'\n",
      " '80' '94' '82' '91' '89']\n",
      "\n",
      "\n",
      "faixa_idade\n",
      "['Sem informação' '31 a 49' '18 a 30' '12 a 17' '50 a 59' '60 a 69'\n",
      " 'Até 11' '70 a 79' '80 a 89' '90 a 99']\n",
      "\n",
      "\n",
      "class_idade\n",
      "['Sem informação' 'Adulto' 'Juventude' 'Adolescente' 'Idoso' 'Criança']\n",
      "\n",
      "\n",
      "cor_raca_etnia\n",
      "['Sem identificação' 'Parda' 'Branca' 'Preta' 'Indígena' 'Não respondeu'\n",
      " 'Amarela']\n",
      "\n",
      "\n",
      "parentes_ca\n",
      "['Não informado' 'Sim' 'Não']\n",
      "\n",
      "\n",
      "tempo_situac\n",
      "['NR/NS' 'Mais de 10 anos' 'Mais de 2 anos até 5 anos'\n",
      " 'Mais de 5 anos até 10 anos' 'Mais de 6 meses até 1 ano'\n",
      " 'Mais de 1 mês até 6 meses' 'Mais de 1 ano até 2 anos' 'Até 1 semana'\n",
      " 'Entre 1 semana e 1 mês']\n",
      "\n",
      "\n",
      "tipo_ponto\n",
      "['Praça' 'Não se aplica' 'Calçada' 'Canteiro central' 'Baixos de Viaduto'\n",
      " 'Estação de trem/metrô' 'Marquise' 'Outro' 'Terreno baldio' 'Mocó'\n",
      " 'Terminal de ônibus' 'Cemitério' 'Veículo'\n",
      " 'Área externa de imóvel (recuo de garagem)' 'Parque']\n",
      "\n",
      "\n",
      "moradia_impro\n",
      "['Não' 'Não se aplica' 'Sim' 'Não observado']\n",
      "\n",
      "\n",
      "crianca_acomp\n",
      "['Não' 'Não se aplica' 'Sim' 'Não observado']\n",
      "\n",
      "\n",
      "crianca_sozinha\n",
      "['Não' 'Não se aplica' 'Sim' 'Não observado']\n",
      "\n",
      "\n",
      "lat\n",
      "['-23,4962781999999' '-23,5225168' '-23,5232932' ... '-23,5607087'\n",
      " '-23,583643' '-23,6711424']\n",
      "\n",
      "\n",
      "lon\n",
      "['-46,391831' '-46,522712' '-46,6549845' ... '-46,6550119' '-46,7387614'\n",
      " '-46,7688611']\n",
      "\n",
      "\n",
      "Data\n",
      "['2021-10-25T00:00:00.000000000' '2021-11-03T00:00:00.000000000'\n",
      " '2021-10-27T00:00:00.000000000' '2021-11-09T00:00:00.000000000'\n",
      " '2021-11-04T00:00:00.000000000' '2021-10-21T00:00:00.000000000'\n",
      " '2021-11-08T00:00:00.000000000' '2021-11-10T00:00:00.000000000'\n",
      " '2021-10-26T00:00:00.000000000' '2021-10-15T00:00:00.000000000'\n",
      " '2021-11-11T00:00:00.000000000' '2021-10-22T00:00:00.000000000'\n",
      " '2021-11-05T00:00:00.000000000' '2021-10-20T00:00:00.000000000'\n",
      " '2021-10-23T00:00:00.000000000' '2021-11-13T00:00:00.000000000'\n",
      " '2021-10-14T00:00:00.000000000' '2021-10-16T00:00:00.000000000'\n",
      " '2021-10-11T00:00:00.000000000' '2021-10-28T00:00:00.000000000']\n",
      "\n",
      "\n",
      "subpref\n",
      "['Itaim Paulista' 'Penha' 'Sé' 'Capela do Socorro' 'Mooca'\n",
      " 'Santana-Tucuruvi' 'Ipiranga' 'Aricanduva-Formosa-Carrão' 'Lapa'\n",
      " 'Itaquera' 'Vila Mariana' 'Santo Amaro' 'Ermelino Matarazzo'\n",
      " 'Vila Maria-Vila Guilherme' 'Guaianases' 'Jabaquara' 'São Miguel'\n",
      " 'Pinheiros' 'Pirituba-Jaraguá' 'Cidade Tiradentes' 'Vila Prudente'\n",
      " 'Campo Limpo' 'São Mateus' 'Casa Verde-Cachoeirinha' 'Perus'\n",
      " 'Jaçanã-Tremembé' 'Freguesia-Brasilândia' 'Cidade Ademar' 'Sapopemba'\n",
      " 'Butantã' \"M'boi Mirim\" 'Parelheiros' \"M'Boi Mirim\"]\n",
      "\n",
      "\n",
      "distrito\n",
      "['Itaim Paulista' 'Penha' 'Santa Cecília' 'Grajaú' 'Pari' 'Sé' 'Santana'\n",
      " 'Belém' 'Brás' 'Sacomã' 'Aricanduva' 'Bela Vista' 'República' 'Mooca'\n",
      " 'Vila Leopoldina' 'Itaquera' 'Consolação' 'Saúde' 'Moema'\n",
      " 'José Bonifácio' 'Campo Belo' 'Ermelino Matarazzo' 'Vila Guilherme'\n",
      " 'Bom Retiro' 'Lapa' 'Liberdade' 'Campo Grande' 'Lajeado' 'Jabaquara'\n",
      " 'Água Rasa' 'São Miguel' 'Jardim Paulista' 'Tucuruvi' 'Pirituba'\n",
      " 'Jardim Helena' 'Guaianases' 'Cidade Tiradentes' 'Vila Prudente'\n",
      " 'Parque do Carmo' 'Ipiranga' 'Pinheiros' 'Campo Limpo' 'Artur Alvim'\n",
      " 'Jaraguá' 'Cambuci' 'Tatuapé' 'Santo Amaro' 'Vila Maria' 'Mandaqui'\n",
      " 'São Mateus' 'Vila Mariana' 'Cachoeirinha' 'Limão' 'Barra Funda' 'Perus'\n",
      " 'Vila Andrade' 'Jaçanã' 'Cidade Dutra' 'Casa Verde' 'Freguesia do Ó'\n",
      " 'Cidade Ademar' 'Vila Matilde' 'Carrão' 'Itaim Bibi' 'Sapopemba'\n",
      " 'Butantã' 'Vila Medeiros' 'Vila Jacuí' 'Brasilândia' 'Jaguaré' 'Perdizes'\n",
      " 'Cursino' 'Raposo Tavares' 'Jardim São Luís' 'Ponte Rasa' 'Tremembé'\n",
      " 'Cidade Líder' 'Capão Redondo' 'Jardim Ângela' 'Socorro' 'São Rafael'\n",
      " 'Pedreira' 'Vila Curuca' 'Morumbi' 'Vila Formosa' 'São Domingos'\n",
      " 'Parelheiros' 'Cangaíba' 'Rio Pequeno' 'São Lucas' 'Vila Sônia' 'Jaguara'\n",
      " 'Iguatemi' 'Alto de Pinheiros']\n",
      "\n",
      "\n"
     ]
    }
   ],
   "source": [
    "for coluna in df.columns:\n",
    "    print(f'{coluna}\\n{df[coluna].unique()}\\n\\n')"
   ]
  },
  {
   "cell_type": "markdown",
   "id": "6f2babd9-2c12-4cf0-8ece-338730795949",
   "metadata": {},
   "source": [
    "Mesmo parecendo ter nulos só em latitude e longitude, podemos ver que na verdade temos cateegorias dentro de praticamente todas as colunas que poderiam ser consideradas nulas"
   ]
  },
  {
   "cell_type": "markdown",
   "id": "d03a0e28-5145-4421-82a7-f14069633547",
   "metadata": {},
   "source": [
    "### Transformando em nulo"
   ]
  },
  {
   "cell_type": "markdown",
   "id": "69431b3e-ee53-42d2-ac43-9ef0862acab1",
   "metadata": {},
   "source": [
    "sexo - 'Sem identificação'<br>\n",
    "sexo_nasc - 'Não respondeu'<br>\n",
    "idade - 'Não respondeu'<br>\n",
    "faixa_idade - 'Sem informação'<br>\n",
    "class_idade - 'Sem informação'<br>\n",
    "cor_raca_etnia - 'Sem informação', 'Não respondeu'<br>\n",
    "parentes_ca - 'Não informado'<br>\n",
    "tempo_situac - 'NR/NS'<br>\n",
    "modaria_impro - 'Não observado' <br>\n",
    "crianca_acomp -  'Não observado'<br>\n",
    "crianca_sozinha - 'Não observado'<br>\n",
    "[*] Ver se vale juntar o \"não se aplica\" com o \"não\"<br>"
   ]
  },
  {
   "cell_type": "code",
   "execution_count": 178,
   "id": "df8dcd2e-53c5-45be-9885-acc66a64d105",
   "metadata": {},
   "outputs": [],
   "source": [
    "# removendo acentos e caracteres especiais\n",
    "object_columns = df.select_dtypes(include=['object']).columns\n",
    "df[object_columns] = df[object_columns].applymap(lambda x: unidecode(str(x)))"
   ]
  },
  {
   "cell_type": "code",
   "execution_count": 179,
   "id": "2bf9b5e9-95cd-4448-a694-db47678726c4",
   "metadata": {},
   "outputs": [],
   "source": [
    "alteracoes_nulo = {\n",
    "    'onde_dormiu_ontem': ['Nao respondeu/Nao sabe'],\n",
    "    'tempo_perman': ['Nao respondeu/Nao sabe'],\n",
    "    'sexo': ['Sem identificacao'],\n",
    "    'sexo_nasc': ['Nao respondeu'],\n",
    "    'idade': ['Nao respondeu'],\n",
    "    'faixa_idade': ['Sem informacao'],\n",
    "    'class_idade': ['Sem informacao'],\n",
    "    'cor_raca_etnia': ['Sem informacao', 'Nao respondeu'],\n",
    "    'parentes_ca': ['Nao informado'],\n",
    "    'tempo_situac': ['NR/NS'],    \n",
    "    'moradia_impro': ['Nao observado'],\n",
    "    'crianca_acomp': ['Nao observado'],\n",
    "    'crianca_sozinha': ['Nao observado']\n",
    "}\n",
    "\n",
    "for column, values in alteracoes_nulo.items():\n",
    "    df.loc[df[column].isin(values), column] = None"
   ]
  },
  {
   "cell_type": "code",
   "execution_count": 180,
   "id": "61cc87e0-4abe-46af-9f35-6516003b39b2",
   "metadata": {},
   "outputs": [],
   "source": [
    "# Substituindo os valores\n",
    "df.loc[df[\"moradia_impro\"] == \"Nao se aplica\", \"moradia_impro\"] = \"Nao\"\n",
    "df.loc[df[\"crianca_acomp\"] == \"Nao se aplica\", \"crianca_acomp\"] = \"Nao\"\n",
    "df.loc[df[\"crianca_sozinha\"] == \"Nao se aplica\", \"crianca_sozinha\"] = \"Nao\""
   ]
  },
  {
   "cell_type": "code",
   "execution_count": 181,
   "id": "e4c5171c-7cca-441c-9135-aec4172e554a",
   "metadata": {},
   "outputs": [
    {
     "data": {
      "text/plain": [
       "id                   0.00\n",
       "situac               0.00\n",
       "onde_dormiu_ontem    4.87\n",
       "tempo_perman         5.70\n",
       "sexo                 3.32\n",
       "sexo_nasc           31.42\n",
       "idade               30.75\n",
       "faixa_idade         30.75\n",
       "class_idade         30.75\n",
       "cor_raca_etnia       1.24\n",
       "parentes_ca         33.31\n",
       "tempo_situac        28.04\n",
       "tipo_ponto           0.00\n",
       "moradia_impro        0.59\n",
       "crianca_acomp        1.77\n",
       "crianca_sozinha      2.24\n",
       "lat                  0.00\n",
       "lon                  0.00\n",
       "Data                 0.00\n",
       "subpref              0.00\n",
       "distrito             0.00\n",
       "dtype: float64"
      ]
     },
     "execution_count": 181,
     "metadata": {},
     "output_type": "execute_result"
    }
   ],
   "source": [
    "100 * df.isnull().sum() / len(df)"
   ]
  },
  {
   "cell_type": "code",
   "execution_count": 182,
   "id": "5bacf1d2-7aa6-44a0-bec2-574076ed5edd",
   "metadata": {},
   "outputs": [
    {
     "data": {
      "text/plain": [
       "id                       0\n",
       "situac                   0\n",
       "onde_dormiu_ontem     1552\n",
       "tempo_perman          1817\n",
       "sexo                  1058\n",
       "sexo_nasc            10017\n",
       "idade                 9805\n",
       "faixa_idade           9805\n",
       "class_idade           9805\n",
       "cor_raca_etnia         395\n",
       "parentes_ca          10619\n",
       "tempo_situac          8940\n",
       "tipo_ponto               0\n",
       "moradia_impro          188\n",
       "crianca_acomp          563\n",
       "crianca_sozinha        714\n",
       "lat                      0\n",
       "lon                      0\n",
       "Data                     0\n",
       "subpref                  0\n",
       "distrito                 0\n",
       "dtype: int64"
      ]
     },
     "execution_count": 182,
     "metadata": {},
     "output_type": "execute_result"
    }
   ],
   "source": [
    "df.isnull().sum()"
   ]
  },
  {
   "cell_type": "markdown",
   "id": "2284480b-3da0-430b-8268-85417b29a5f6",
   "metadata": {},
   "source": [
    "Agora vemos a real distribuição de nulos. Podemos acabar perdendo muita informação ao excluir os nulos, pois a idade, por exemplo, tem 30% de nulos, então para alguns casos, teremos que inviabilizar o uso da coluna para a modelagem.<br>\n",
    "- sexo: excluir nulos (1058 ocorrências)\n",
    "- cor_raca_etnia: excluir nulos (395 ocorrências)\n",
    "- moradia_impro: excluir nulos (188 ocorrências)\n",
    "- crianca_acomp: excluir nulos (563 ocorrências)\n",
    "- crianca_sozinha: excluir nulos (714 ocorrências)\n",
    "- onde_dormiu_ontem: excluir nulos (1552 ocorrências)\n",
    "- tempo_perman: excluir nulos (1817 ocorrências)\n",
    "\n",
    "- sexo_nasc: não utilizar a coluna\n",
    "- idade: não utilizar a coluna\n",
    "- faixa_idade: não utilizar a coluna\n",
    "- class_idade: não utilizar a coluna\n",
    "- parentes_ca: não utilizar a coluna\n",
    "- tempo_situac: não utilizar a coluna\n",
    "\n",
    "\n",
    "Acabamos perdendo 2 informações que poderiam ser interessantes para um modelo, então podemos ver de fazer um segundo modelo só com aqueles que tem informação de idade e tempo em situação de rua."
   ]
  },
  {
   "cell_type": "markdown",
   "id": "26eb91c6-7f56-4dbe-a516-a90ffc0c3e42",
   "metadata": {},
   "source": [
    "### Tratando nulos"
   ]
  },
  {
   "cell_type": "code",
   "execution_count": 183,
   "id": "7335c824-fc89-404e-aa05-589c65bb3b7b",
   "metadata": {},
   "outputs": [
    {
     "name": "stdout",
     "output_type": "stream",
     "text": [
      "Quantidade inicial: 31884 \n",
      "Quantidade final: 27749\n",
      "% diminuição:12.968887216158578\n"
     ]
    }
   ],
   "source": [
    "qtd_inc = len(df)\n",
    "\n",
    "df.dropna(subset=['sexo', 'cor_raca_etnia', 'moradia_impro', 'crianca_acomp', 'crianca_sozinha', 'onde_dormiu_ontem', 'tempo_perman'], inplace=True)\n",
    "\n",
    "print(f'Quantidade inicial: {qtd_inc} \\nQuantidade final: {len(df)}\\n% diminuição:{100 - (len(df)/qtd_inc * 100)}')"
   ]
  },
  {
   "cell_type": "code",
   "execution_count": 184,
   "id": "9874c815-dadd-47a7-9787-fd82b5676b54",
   "metadata": {},
   "outputs": [
    {
     "data": {
      "text/html": [
       "<div>\n",
       "<style scoped>\n",
       "    .dataframe tbody tr th:only-of-type {\n",
       "        vertical-align: middle;\n",
       "    }\n",
       "\n",
       "    .dataframe tbody tr th {\n",
       "        vertical-align: top;\n",
       "    }\n",
       "\n",
       "    .dataframe thead th {\n",
       "        text-align: right;\n",
       "    }\n",
       "</style>\n",
       "<table border=\"1\" class=\"dataframe\">\n",
       "  <thead>\n",
       "    <tr style=\"text-align: right;\">\n",
       "      <th></th>\n",
       "      <th>id</th>\n",
       "      <th>situac</th>\n",
       "      <th>onde_dormiu_ontem</th>\n",
       "      <th>tempo_perman</th>\n",
       "      <th>sexo</th>\n",
       "      <th>sexo_nasc</th>\n",
       "      <th>idade</th>\n",
       "      <th>faixa_idade</th>\n",
       "      <th>class_idade</th>\n",
       "      <th>cor_raca_etnia</th>\n",
       "      <th>parentes_ca</th>\n",
       "      <th>tempo_situac</th>\n",
       "      <th>tipo_ponto</th>\n",
       "      <th>moradia_impro</th>\n",
       "      <th>crianca_acomp</th>\n",
       "      <th>crianca_sozinha</th>\n",
       "      <th>lat</th>\n",
       "      <th>lon</th>\n",
       "      <th>Data</th>\n",
       "      <th>subpref</th>\n",
       "      <th>distrito</th>\n",
       "    </tr>\n",
       "  </thead>\n",
       "  <tbody>\n",
       "    <tr>\n",
       "      <th>0</th>\n",
       "      <td>1</td>\n",
       "      <td>Rua</td>\n",
       "      <td>Nao se aplica</td>\n",
       "      <td>Nao se aplica</td>\n",
       "      <td>Feminino</td>\n",
       "      <td>None</td>\n",
       "      <td>None</td>\n",
       "      <td>None</td>\n",
       "      <td>None</td>\n",
       "      <td>Sem identificacao</td>\n",
       "      <td>None</td>\n",
       "      <td>None</td>\n",
       "      <td>Praca</td>\n",
       "      <td>Nao</td>\n",
       "      <td>Nao</td>\n",
       "      <td>Nao</td>\n",
       "      <td>-23,4962781999999</td>\n",
       "      <td>-46,391831</td>\n",
       "      <td>2021-10-25</td>\n",
       "      <td>Itaim Paulista</td>\n",
       "      <td>Itaim Paulista</td>\n",
       "    </tr>\n",
       "    <tr>\n",
       "      <th>1</th>\n",
       "      <td>2</td>\n",
       "      <td>Acolhido</td>\n",
       "      <td>Rua</td>\n",
       "      <td>Nao se aplica</td>\n",
       "      <td>Masculino</td>\n",
       "      <td>Homem Cisgenero</td>\n",
       "      <td>38</td>\n",
       "      <td>31 a 49</td>\n",
       "      <td>Adulto</td>\n",
       "      <td>Parda</td>\n",
       "      <td>Sim</td>\n",
       "      <td>Mais de 10 anos</td>\n",
       "      <td>Nao se aplica</td>\n",
       "      <td>Nao</td>\n",
       "      <td>Nao</td>\n",
       "      <td>Nao</td>\n",
       "      <td>-23,5225168</td>\n",
       "      <td>-46,522712</td>\n",
       "      <td>2021-10-25</td>\n",
       "      <td>Penha</td>\n",
       "      <td>Penha</td>\n",
       "    </tr>\n",
       "    <tr>\n",
       "      <th>2</th>\n",
       "      <td>3</td>\n",
       "      <td>Rua</td>\n",
       "      <td>Nao se aplica</td>\n",
       "      <td>Nao se aplica</td>\n",
       "      <td>Feminino</td>\n",
       "      <td>Mulher Cisgenero</td>\n",
       "      <td>27</td>\n",
       "      <td>18 a 30</td>\n",
       "      <td>Juventude</td>\n",
       "      <td>Parda</td>\n",
       "      <td>Sim</td>\n",
       "      <td>Mais de 2 anos ate 5 anos</td>\n",
       "      <td>Praca</td>\n",
       "      <td>Sim</td>\n",
       "      <td>Nao</td>\n",
       "      <td>Nao</td>\n",
       "      <td>-23,5232932</td>\n",
       "      <td>-46,6549845</td>\n",
       "      <td>2021-11-03</td>\n",
       "      <td>Se</td>\n",
       "      <td>Santa Cecilia</td>\n",
       "    </tr>\n",
       "  </tbody>\n",
       "</table>\n",
       "</div>"
      ],
      "text/plain": [
       "   id    situac onde_dormiu_ontem   tempo_perman       sexo         sexo_nasc  \\\n",
       "0   1       Rua     Nao se aplica  Nao se aplica   Feminino              None   \n",
       "1   2  Acolhido               Rua  Nao se aplica  Masculino   Homem Cisgenero   \n",
       "2   3       Rua     Nao se aplica  Nao se aplica   Feminino  Mulher Cisgenero   \n",
       "\n",
       "  idade faixa_idade class_idade     cor_raca_etnia parentes_ca  \\\n",
       "0  None        None        None  Sem identificacao        None   \n",
       "1    38     31 a 49      Adulto              Parda         Sim   \n",
       "2    27     18 a 30   Juventude              Parda         Sim   \n",
       "\n",
       "                tempo_situac     tipo_ponto moradia_impro crianca_acomp  \\\n",
       "0                       None          Praca           Nao           Nao   \n",
       "1            Mais de 10 anos  Nao se aplica           Nao           Nao   \n",
       "2  Mais de 2 anos ate 5 anos          Praca           Sim           Nao   \n",
       "\n",
       "  crianca_sozinha                lat          lon       Data         subpref  \\\n",
       "0             Nao  -23,4962781999999   -46,391831 2021-10-25  Itaim Paulista   \n",
       "1             Nao        -23,5225168   -46,522712 2021-10-25           Penha   \n",
       "2             Nao        -23,5232932  -46,6549845 2021-11-03              Se   \n",
       "\n",
       "         distrito  \n",
       "0  Itaim Paulista  \n",
       "1           Penha  \n",
       "2   Santa Cecilia  "
      ]
     },
     "execution_count": 184,
     "metadata": {},
     "output_type": "execute_result"
    }
   ],
   "source": [
    "df.head(3)"
   ]
  },
  {
   "cell_type": "markdown",
   "id": "f11ab97b-3484-4562-9bab-175c6f87fa06",
   "metadata": {},
   "source": [
    "Até aqui, a preparação dos dados está correta e finalizada"
   ]
  },
  {
   "cell_type": "markdown",
   "id": "9724ea1c-817a-4954-a299-86b779c57478",
   "metadata": {},
   "source": [
    "## Inserindo dados meteorológicos extraídos do INMET\n",
    "https://portal.inmet.gov.br/dadoshistoricos"
   ]
  },
  {
   "cell_type": "code",
   "execution_count": 185,
   "id": "4bd8992f-81cd-4517-8a75-4869da542108",
   "metadata": {},
   "outputs": [],
   "source": [
    "df_temp = pd.read_csv('dado_meteorologico.csv', sep = ';')"
   ]
  },
  {
   "cell_type": "code",
   "execution_count": 186,
   "id": "d5290914-79ce-40e1-b1b1-c5f9235b4eba",
   "metadata": {},
   "outputs": [
    {
     "data": {
      "text/html": [
       "<div>\n",
       "<style scoped>\n",
       "    .dataframe tbody tr th:only-of-type {\n",
       "        vertical-align: middle;\n",
       "    }\n",
       "\n",
       "    .dataframe tbody tr th {\n",
       "        vertical-align: top;\n",
       "    }\n",
       "\n",
       "    .dataframe thead th {\n",
       "        text-align: right;\n",
       "    }\n",
       "</style>\n",
       "<table border=\"1\" class=\"dataframe\">\n",
       "  <thead>\n",
       "    <tr style=\"text-align: right;\">\n",
       "      <th></th>\n",
       "      <th>Data</th>\n",
       "      <th>PRECIPITACAO_TOTAL_MM</th>\n",
       "      <th>TEMP_AR_C</th>\n",
       "      <th>PCT_UMIDADE_RELATIVA_AR</th>\n",
       "      <th>VENTO_m_s</th>\n",
       "    </tr>\n",
       "  </thead>\n",
       "  <tbody>\n",
       "    <tr>\n",
       "      <th>0</th>\n",
       "      <td>01/01/2021</td>\n",
       "      <td>0.00</td>\n",
       "      <td>20.10</td>\n",
       "      <td>96.00</td>\n",
       "      <td>2.00</td>\n",
       "    </tr>\n",
       "    <tr>\n",
       "      <th>1</th>\n",
       "      <td>01/01/2021</td>\n",
       "      <td>0.00</td>\n",
       "      <td>19.60</td>\n",
       "      <td>96.00</td>\n",
       "      <td>1.60</td>\n",
       "    </tr>\n",
       "    <tr>\n",
       "      <th>2</th>\n",
       "      <td>01/01/2021</td>\n",
       "      <td>0.00</td>\n",
       "      <td>19.60</td>\n",
       "      <td>96.00</td>\n",
       "      <td>1.20</td>\n",
       "    </tr>\n",
       "  </tbody>\n",
       "</table>\n",
       "</div>"
      ],
      "text/plain": [
       "         Data  PRECIPITACAO_TOTAL_MM  TEMP_AR_C  PCT_UMIDADE_RELATIVA_AR  \\\n",
       "0  01/01/2021                   0.00      20.10                    96.00   \n",
       "1  01/01/2021                   0.00      19.60                    96.00   \n",
       "2  01/01/2021                   0.00      19.60                    96.00   \n",
       "\n",
       "   VENTO_m_s  \n",
       "0       2.00  \n",
       "1       1.60  \n",
       "2       1.20  "
      ]
     },
     "execution_count": 186,
     "metadata": {},
     "output_type": "execute_result"
    }
   ],
   "source": [
    "df_temp.head(3)"
   ]
  },
  {
   "cell_type": "code",
   "execution_count": 187,
   "id": "037f03b8-252a-4fa2-8798-f88f522df0b7",
   "metadata": {},
   "outputs": [],
   "source": [
    "df_temp['Data'] = pd.to_datetime(df_temp['Data'], format='%d/%m/%Y')\n",
    "\n",
    "# agrupar os dados por dia\n",
    "df_temp_dia = df_temp.groupby(df_temp['Data'].dt.date).agg({\n",
    "    'PRECIPITACAO_TOTAL_MM': 'sum',\n",
    "    'TEMP_AR_C': ['max', 'min'],\n",
    "    'PCT_UMIDADE_RELATIVA_AR': ['max', 'min'],\n",
    "    'VENTO_m_s': 'max'\n",
    "})\n",
    "\n",
    "# renomear as colunas\n",
    "df_temp_dia.columns = ['precipitacao_total', 'temp_max', 'temp_min', 'umidade_max', 'umidade_min', 'vel_max_vento']\n",
    "df_temp_dia = df_temp_dia.reset_index()\n",
    "df_temp_dia['Data'] = pd.to_datetime(df_temp_dia['Data'], format='%Y/%m/%d')"
   ]
  },
  {
   "cell_type": "code",
   "execution_count": 188,
   "id": "76afea89-2127-4675-a92f-4494f8ee5576",
   "metadata": {},
   "outputs": [
    {
     "data": {
      "text/plain": [
       "Data                  datetime64[ns]\n",
       "precipitacao_total           float64\n",
       "temp_max                     float64\n",
       "temp_min                     float64\n",
       "umidade_max                  float64\n",
       "umidade_min                  float64\n",
       "vel_max_vento                float64\n",
       "dtype: object"
      ]
     },
     "execution_count": 188,
     "metadata": {},
     "output_type": "execute_result"
    }
   ],
   "source": [
    "df_temp_dia.dtypes"
   ]
  },
  {
   "cell_type": "code",
   "execution_count": 189,
   "id": "34f3a722-3c07-4843-b235-7dbab175c84a",
   "metadata": {},
   "outputs": [
    {
     "data": {
      "text/html": [
       "<div>\n",
       "<style scoped>\n",
       "    .dataframe tbody tr th:only-of-type {\n",
       "        vertical-align: middle;\n",
       "    }\n",
       "\n",
       "    .dataframe tbody tr th {\n",
       "        vertical-align: top;\n",
       "    }\n",
       "\n",
       "    .dataframe thead th {\n",
       "        text-align: right;\n",
       "    }\n",
       "</style>\n",
       "<table border=\"1\" class=\"dataframe\">\n",
       "  <thead>\n",
       "    <tr style=\"text-align: right;\">\n",
       "      <th></th>\n",
       "      <th>Data</th>\n",
       "      <th>precipitacao_total</th>\n",
       "      <th>temp_max</th>\n",
       "      <th>temp_min</th>\n",
       "      <th>umidade_max</th>\n",
       "      <th>umidade_min</th>\n",
       "      <th>vel_max_vento</th>\n",
       "    </tr>\n",
       "  </thead>\n",
       "  <tbody>\n",
       "    <tr>\n",
       "      <th>0</th>\n",
       "      <td>2021-01-01</td>\n",
       "      <td>0.40</td>\n",
       "      <td>26.50</td>\n",
       "      <td>19.20</td>\n",
       "      <td>98.00</td>\n",
       "      <td>64.00</td>\n",
       "      <td>3.70</td>\n",
       "    </tr>\n",
       "    <tr>\n",
       "      <th>1</th>\n",
       "      <td>2021-01-02</td>\n",
       "      <td>1.00</td>\n",
       "      <td>21.40</td>\n",
       "      <td>18.60</td>\n",
       "      <td>98.00</td>\n",
       "      <td>85.00</td>\n",
       "      <td>3.40</td>\n",
       "    </tr>\n",
       "    <tr>\n",
       "      <th>2</th>\n",
       "      <td>2021-01-03</td>\n",
       "      <td>0.40</td>\n",
       "      <td>23.40</td>\n",
       "      <td>17.50</td>\n",
       "      <td>96.00</td>\n",
       "      <td>71.00</td>\n",
       "      <td>4.70</td>\n",
       "    </tr>\n",
       "  </tbody>\n",
       "</table>\n",
       "</div>"
      ],
      "text/plain": [
       "        Data  precipitacao_total  temp_max  temp_min  umidade_max  \\\n",
       "0 2021-01-01                0.40     26.50     19.20        98.00   \n",
       "1 2021-01-02                1.00     21.40     18.60        98.00   \n",
       "2 2021-01-03                0.40     23.40     17.50        96.00   \n",
       "\n",
       "   umidade_min  vel_max_vento  \n",
       "0        64.00           3.70  \n",
       "1        85.00           3.40  \n",
       "2        71.00           4.70  "
      ]
     },
     "execution_count": 189,
     "metadata": {},
     "output_type": "execute_result"
    }
   ],
   "source": [
    "df_temp_dia.head(3)"
   ]
  },
  {
   "cell_type": "code",
   "execution_count": 190,
   "id": "6e644bbb-6ba3-49e4-93f5-aa56d48f3f0d",
   "metadata": {},
   "outputs": [],
   "source": [
    "df = pd.merge(df, df_temp_dia, on='Data', how='left')"
   ]
  },
  {
   "cell_type": "code",
   "execution_count": 191,
   "id": "23629a45-1058-44c3-aa48-a4d6f6365f30",
   "metadata": {},
   "outputs": [
    {
     "data": {
      "text/html": [
       "<div>\n",
       "<style scoped>\n",
       "    .dataframe tbody tr th:only-of-type {\n",
       "        vertical-align: middle;\n",
       "    }\n",
       "\n",
       "    .dataframe tbody tr th {\n",
       "        vertical-align: top;\n",
       "    }\n",
       "\n",
       "    .dataframe thead th {\n",
       "        text-align: right;\n",
       "    }\n",
       "</style>\n",
       "<table border=\"1\" class=\"dataframe\">\n",
       "  <thead>\n",
       "    <tr style=\"text-align: right;\">\n",
       "      <th></th>\n",
       "      <th>id</th>\n",
       "      <th>situac</th>\n",
       "      <th>onde_dormiu_ontem</th>\n",
       "      <th>tempo_perman</th>\n",
       "      <th>sexo</th>\n",
       "      <th>sexo_nasc</th>\n",
       "      <th>idade</th>\n",
       "      <th>faixa_idade</th>\n",
       "      <th>class_idade</th>\n",
       "      <th>cor_raca_etnia</th>\n",
       "      <th>parentes_ca</th>\n",
       "      <th>tempo_situac</th>\n",
       "      <th>tipo_ponto</th>\n",
       "      <th>moradia_impro</th>\n",
       "      <th>crianca_acomp</th>\n",
       "      <th>crianca_sozinha</th>\n",
       "      <th>lat</th>\n",
       "      <th>lon</th>\n",
       "      <th>Data</th>\n",
       "      <th>subpref</th>\n",
       "      <th>distrito</th>\n",
       "      <th>precipitacao_total</th>\n",
       "      <th>temp_max</th>\n",
       "      <th>temp_min</th>\n",
       "      <th>umidade_max</th>\n",
       "      <th>umidade_min</th>\n",
       "      <th>vel_max_vento</th>\n",
       "    </tr>\n",
       "  </thead>\n",
       "  <tbody>\n",
       "    <tr>\n",
       "      <th>0</th>\n",
       "      <td>1</td>\n",
       "      <td>Rua</td>\n",
       "      <td>Nao se aplica</td>\n",
       "      <td>Nao se aplica</td>\n",
       "      <td>Feminino</td>\n",
       "      <td>None</td>\n",
       "      <td>None</td>\n",
       "      <td>None</td>\n",
       "      <td>None</td>\n",
       "      <td>Sem identificacao</td>\n",
       "      <td>None</td>\n",
       "      <td>None</td>\n",
       "      <td>Praca</td>\n",
       "      <td>Nao</td>\n",
       "      <td>Nao</td>\n",
       "      <td>Nao</td>\n",
       "      <td>-23,4962781999999</td>\n",
       "      <td>-46,391831</td>\n",
       "      <td>2021-10-25</td>\n",
       "      <td>Itaim Paulista</td>\n",
       "      <td>Itaim Paulista</td>\n",
       "      <td>0.00</td>\n",
       "      <td>18.40</td>\n",
       "      <td>13.90</td>\n",
       "      <td>100.00</td>\n",
       "      <td>72.00</td>\n",
       "      <td>4.20</td>\n",
       "    </tr>\n",
       "    <tr>\n",
       "      <th>1</th>\n",
       "      <td>2</td>\n",
       "      <td>Acolhido</td>\n",
       "      <td>Rua</td>\n",
       "      <td>Nao se aplica</td>\n",
       "      <td>Masculino</td>\n",
       "      <td>Homem Cisgenero</td>\n",
       "      <td>38</td>\n",
       "      <td>31 a 49</td>\n",
       "      <td>Adulto</td>\n",
       "      <td>Parda</td>\n",
       "      <td>Sim</td>\n",
       "      <td>Mais de 10 anos</td>\n",
       "      <td>Nao se aplica</td>\n",
       "      <td>Nao</td>\n",
       "      <td>Nao</td>\n",
       "      <td>Nao</td>\n",
       "      <td>-23,5225168</td>\n",
       "      <td>-46,522712</td>\n",
       "      <td>2021-10-25</td>\n",
       "      <td>Penha</td>\n",
       "      <td>Penha</td>\n",
       "      <td>0.00</td>\n",
       "      <td>18.40</td>\n",
       "      <td>13.90</td>\n",
       "      <td>100.00</td>\n",
       "      <td>72.00</td>\n",
       "      <td>4.20</td>\n",
       "    </tr>\n",
       "    <tr>\n",
       "      <th>2</th>\n",
       "      <td>3</td>\n",
       "      <td>Rua</td>\n",
       "      <td>Nao se aplica</td>\n",
       "      <td>Nao se aplica</td>\n",
       "      <td>Feminino</td>\n",
       "      <td>Mulher Cisgenero</td>\n",
       "      <td>27</td>\n",
       "      <td>18 a 30</td>\n",
       "      <td>Juventude</td>\n",
       "      <td>Parda</td>\n",
       "      <td>Sim</td>\n",
       "      <td>Mais de 2 anos ate 5 anos</td>\n",
       "      <td>Praca</td>\n",
       "      <td>Sim</td>\n",
       "      <td>Nao</td>\n",
       "      <td>Nao</td>\n",
       "      <td>-23,5232932</td>\n",
       "      <td>-46,6549845</td>\n",
       "      <td>2021-11-03</td>\n",
       "      <td>Se</td>\n",
       "      <td>Santa Cecilia</td>\n",
       "      <td>1.00</td>\n",
       "      <td>22.20</td>\n",
       "      <td>16.80</td>\n",
       "      <td>100.00</td>\n",
       "      <td>69.00</td>\n",
       "      <td>4.60</td>\n",
       "    </tr>\n",
       "  </tbody>\n",
       "</table>\n",
       "</div>"
      ],
      "text/plain": [
       "   id    situac onde_dormiu_ontem   tempo_perman       sexo         sexo_nasc  \\\n",
       "0   1       Rua     Nao se aplica  Nao se aplica   Feminino              None   \n",
       "1   2  Acolhido               Rua  Nao se aplica  Masculino   Homem Cisgenero   \n",
       "2   3       Rua     Nao se aplica  Nao se aplica   Feminino  Mulher Cisgenero   \n",
       "\n",
       "  idade faixa_idade class_idade     cor_raca_etnia parentes_ca  \\\n",
       "0  None        None        None  Sem identificacao        None   \n",
       "1    38     31 a 49      Adulto              Parda         Sim   \n",
       "2    27     18 a 30   Juventude              Parda         Sim   \n",
       "\n",
       "                tempo_situac     tipo_ponto moradia_impro crianca_acomp  \\\n",
       "0                       None          Praca           Nao           Nao   \n",
       "1            Mais de 10 anos  Nao se aplica           Nao           Nao   \n",
       "2  Mais de 2 anos ate 5 anos          Praca           Sim           Nao   \n",
       "\n",
       "  crianca_sozinha                lat          lon       Data         subpref  \\\n",
       "0             Nao  -23,4962781999999   -46,391831 2021-10-25  Itaim Paulista   \n",
       "1             Nao        -23,5225168   -46,522712 2021-10-25           Penha   \n",
       "2             Nao        -23,5232932  -46,6549845 2021-11-03              Se   \n",
       "\n",
       "         distrito  precipitacao_total  temp_max  temp_min  umidade_max  \\\n",
       "0  Itaim Paulista                0.00     18.40     13.90       100.00   \n",
       "1           Penha                0.00     18.40     13.90       100.00   \n",
       "2   Santa Cecilia                1.00     22.20     16.80       100.00   \n",
       "\n",
       "   umidade_min  vel_max_vento  \n",
       "0        72.00           4.20  \n",
       "1        72.00           4.20  \n",
       "2        69.00           4.60  "
      ]
     },
     "execution_count": 191,
     "metadata": {},
     "output_type": "execute_result"
    }
   ],
   "source": [
    "df.head(3)"
   ]
  },
  {
   "cell_type": "code",
   "execution_count": 126,
   "id": "515b3a33-e051-40fa-92b8-af4ee0becce7",
   "metadata": {},
   "outputs": [
    {
     "data": {
      "application/vnd.jupyter.widget-view+json": {
       "model_id": "66a580cfdf5b46f18de17ae66b39cb81",
       "version_major": 2,
       "version_minor": 0
      },
      "text/plain": [
       "                                             |                                             | [  0%]   00:00 ->…"
      ]
     },
     "metadata": {},
     "output_type": "display_data"
    },
    {
     "name": "stdout",
     "output_type": "stream",
     "text": [
      "Report relatorio_pi_4.html was generated! NOTEBOOK/COLAB USERS: the web browser MAY not pop up, regardless, the report IS saved in your notebook/colab files.\n"
     ]
    }
   ],
   "source": [
    "report_pi_4 = sv.analyze(df)\n",
    "# salvando o relatório em um arquivo HTML\n",
    "report_pi_4.show_html('relatorio_pi_4.html')"
   ]
  },
  {
   "cell_type": "code",
   "execution_count": 194,
   "id": "2739491f-36fd-4e6e-b1d7-73cc2b17d68c",
   "metadata": {},
   "outputs": [],
   "source": [
    "df = df.sort_values(by='Data')\n",
    "count_by_date = pd.DataFrame(df.groupby('Data').size().reset_index())\n",
    "count_by_date['Data'] = count_by_date['Data'].dt.strftime('%d/%m/%Y')"
   ]
  },
  {
   "cell_type": "code",
   "execution_count": 195,
   "id": "35c32fd2-2faa-4b43-90b5-bd9ebc251e08",
   "metadata": {},
   "outputs": [
    {
     "data": {
      "text/html": [
       "<div>\n",
       "<style scoped>\n",
       "    .dataframe tbody tr th:only-of-type {\n",
       "        vertical-align: middle;\n",
       "    }\n",
       "\n",
       "    .dataframe tbody tr th {\n",
       "        vertical-align: top;\n",
       "    }\n",
       "\n",
       "    .dataframe thead th {\n",
       "        text-align: right;\n",
       "    }\n",
       "</style>\n",
       "<table border=\"1\" class=\"dataframe\">\n",
       "  <thead>\n",
       "    <tr style=\"text-align: right;\">\n",
       "      <th></th>\n",
       "      <th>Data</th>\n",
       "      <th>0</th>\n",
       "    </tr>\n",
       "  </thead>\n",
       "  <tbody>\n",
       "    <tr>\n",
       "      <th>0</th>\n",
       "      <td>11/10/2021</td>\n",
       "      <td>3</td>\n",
       "    </tr>\n",
       "    <tr>\n",
       "      <th>1</th>\n",
       "      <td>14/10/2021</td>\n",
       "      <td>138</td>\n",
       "    </tr>\n",
       "    <tr>\n",
       "      <th>2</th>\n",
       "      <td>15/10/2021</td>\n",
       "      <td>292</td>\n",
       "    </tr>\n",
       "    <tr>\n",
       "      <th>3</th>\n",
       "      <td>16/10/2021</td>\n",
       "      <td>40</td>\n",
       "    </tr>\n",
       "    <tr>\n",
       "      <th>4</th>\n",
       "      <td>20/10/2021</td>\n",
       "      <td>453</td>\n",
       "    </tr>\n",
       "    <tr>\n",
       "      <th>5</th>\n",
       "      <td>21/10/2021</td>\n",
       "      <td>1768</td>\n",
       "    </tr>\n",
       "    <tr>\n",
       "      <th>6</th>\n",
       "      <td>22/10/2021</td>\n",
       "      <td>716</td>\n",
       "    </tr>\n",
       "    <tr>\n",
       "      <th>7</th>\n",
       "      <td>23/10/2021</td>\n",
       "      <td>11</td>\n",
       "    </tr>\n",
       "    <tr>\n",
       "      <th>8</th>\n",
       "      <td>25/10/2021</td>\n",
       "      <td>1281</td>\n",
       "    </tr>\n",
       "    <tr>\n",
       "      <th>9</th>\n",
       "      <td>26/10/2021</td>\n",
       "      <td>1710</td>\n",
       "    </tr>\n",
       "    <tr>\n",
       "      <th>10</th>\n",
       "      <td>27/10/2021</td>\n",
       "      <td>676</td>\n",
       "    </tr>\n",
       "    <tr>\n",
       "      <th>11</th>\n",
       "      <td>28/10/2021</td>\n",
       "      <td>1</td>\n",
       "    </tr>\n",
       "    <tr>\n",
       "      <th>12</th>\n",
       "      <td>03/11/2021</td>\n",
       "      <td>5249</td>\n",
       "    </tr>\n",
       "    <tr>\n",
       "      <th>13</th>\n",
       "      <td>04/11/2021</td>\n",
       "      <td>4660</td>\n",
       "    </tr>\n",
       "    <tr>\n",
       "      <th>14</th>\n",
       "      <td>05/11/2021</td>\n",
       "      <td>1724</td>\n",
       "    </tr>\n",
       "    <tr>\n",
       "      <th>15</th>\n",
       "      <td>08/11/2021</td>\n",
       "      <td>4204</td>\n",
       "    </tr>\n",
       "    <tr>\n",
       "      <th>16</th>\n",
       "      <td>09/11/2021</td>\n",
       "      <td>2099</td>\n",
       "    </tr>\n",
       "    <tr>\n",
       "      <th>17</th>\n",
       "      <td>10/11/2021</td>\n",
       "      <td>1865</td>\n",
       "    </tr>\n",
       "    <tr>\n",
       "      <th>18</th>\n",
       "      <td>11/11/2021</td>\n",
       "      <td>855</td>\n",
       "    </tr>\n",
       "    <tr>\n",
       "      <th>19</th>\n",
       "      <td>13/11/2021</td>\n",
       "      <td>4</td>\n",
       "    </tr>\n",
       "  </tbody>\n",
       "</table>\n",
       "</div>"
      ],
      "text/plain": [
       "          Data     0\n",
       "0   11/10/2021     3\n",
       "1   14/10/2021   138\n",
       "2   15/10/2021   292\n",
       "3   16/10/2021    40\n",
       "4   20/10/2021   453\n",
       "5   21/10/2021  1768\n",
       "6   22/10/2021   716\n",
       "7   23/10/2021    11\n",
       "8   25/10/2021  1281\n",
       "9   26/10/2021  1710\n",
       "10  27/10/2021   676\n",
       "11  28/10/2021     1\n",
       "12  03/11/2021  5249\n",
       "13  04/11/2021  4660\n",
       "14  05/11/2021  1724\n",
       "15  08/11/2021  4204\n",
       "16  09/11/2021  2099\n",
       "17  10/11/2021  1865\n",
       "18  11/11/2021   855\n",
       "19  13/11/2021     4"
      ]
     },
     "execution_count": 195,
     "metadata": {},
     "output_type": "execute_result"
    }
   ],
   "source": [
    "count_by_date"
   ]
  },
  {
   "cell_type": "code",
   "execution_count": 200,
   "id": "c1957477-e6c8-4757-a697-18ce2868db8d",
   "metadata": {},
   "outputs": [
    {
     "data": {
      "text/plain": [
       "Index(['Data', 0], dtype='object')"
      ]
     },
     "execution_count": 200,
     "metadata": {},
     "output_type": "execute_result"
    }
   ],
   "source": [
    "count_by_date.columns"
   ]
  },
  {
   "cell_type": "code",
   "execution_count": 196,
   "id": "ef98eb52-49ab-49c0-80b4-d28723b14f77",
   "metadata": {},
   "outputs": [],
   "source": [
    "\n",
    "df['Data'] = df['Data'].dt.strftime('%d/%m/%Y')"
   ]
  },
  {
   "cell_type": "code",
   "execution_count": 202,
   "id": "4e5916ff-c463-4c4e-9f03-5d8fe4d9e2ea",
   "metadata": {},
   "outputs": [
    {
     "data": {
      "image/png": "[encoded data removed]",
      "text/plain": [
       "<Figure size 600x400 with 1 Axes>"
      ]
     },
     "metadata": {},
     "output_type": "display_data"
    }
   ],
   "source": [
    "plt.plot(df['Data'], df['temp_min'])\n",
    "plt.plot(df['Data'], df['temp_max'])\n",
    "plt.xticks(rotation=90)\n",
    "plt.title('Temperatura ao longo dos dias')\n",
    "plt.xlabel('Dias')\n",
    "plt.ylabel('Temperatura (°C)')\n",
    "plt.legend(['Temperatura mínima', 'Temperatura máxima'])\n",
    "plt.show()"
   ]
  },
  {
   "cell_type": "code",
   "execution_count": 210,
   "id": "92868717-1758-4866-a110-a6e1df4179b7",
   "metadata": {},
   "outputs": [
    {
     "data": {
      "image/png": "[encoded data removed]",
      "text/plain": [
       "<Figure size 600x400 with 1 Axes>"
      ]
     },
     "metadata": {},
     "output_type": "display_data"
    }
   ],
   "source": [
    "plt.plot(count_by_date['Data'], count_by_date[0], color='green')\n",
    "plt.xticks(rotation=90)\n",
    "plt.title('Quantidade de pessoas que deram entrada em abrigos ao longo dos dias')\n",
    "plt.xlabel('Dias')\n",
    "plt.ylabel('Quantidade de pessoas')\n",
    "plt.show()"
   ]
  },
  {
   "cell_type": "code",
   "execution_count": 205,
   "id": "92306399-488f-4947-82e4-a08aadfa7469",
   "metadata": {},
   "outputs": [
    {
     "data": {
      "image/png": "[encoded data removed]",
      "text/plain": [
       "<Figure size 600x400 with 1 Axes>"
      ]
     },
     "metadata": {},
     "output_type": "display_data"
    }
   ],
   "source": [
    "plt.plot(df['Data'], df['vel_max_vento'])\n",
    "plt.xticks(rotation=90)\n",
    "plt.title('Velocidade máxima do vento ao longo dos dias')\n",
    "plt.xlabel('Dias')\n",
    "plt.ylabel('Velocidade do vento (m/s)')\n",
    "plt.show()"
   ]
  },
  {
   "cell_type": "code",
   "execution_count": 66,
   "id": "5c05c7db-b682-461b-b26a-9153ab35a837",
   "metadata": {},
   "outputs": [
    {
     "data": {
      "text/plain": [
       "Index(['id', 'situac', 'onde_dormiu_ontem', 'tempo_perman', 'sexo',\n",
       "       'sexo_nasc', 'idade', 'faixa_idade', 'class_idade', 'cor_raca_etnia',\n",
       "       'parentes_ca', 'tempo_situac', 'tipo_ponto', 'moradia_impro',\n",
       "       'crianca_acomp', 'crianca_sozinha', 'lat', 'lon', 'Data', 'subpref',\n",
       "       'distrito', 'precipitacao_total', 'temp_max', 'temp_min', 'umidade_max',\n",
       "       'umidade_min', 'vel_max_vento'],\n",
       "      dtype='object')"
      ]
     },
     "execution_count": 66,
     "metadata": {},
     "output_type": "execute_result"
    }
   ],
   "source": [
    "df.columns"
   ]
  },
  {
   "cell_type": "code",
   "execution_count": 70,
   "id": "fe092e7e-39b8-4f0d-8d5e-e393b10dc0c6",
   "metadata": {},
   "outputs": [
    {
     "data": {
      "text/plain": [
       "Data\n",
       "03/11/2021    5249\n",
       "04/11/2021    4660\n",
       "05/11/2021    1724\n",
       "08/11/2021    4204\n",
       "09/11/2021    2099\n",
       "10/11/2021    1865\n",
       "11/10/2021       3\n",
       "11/11/2021     855\n",
       "13/11/2021       4\n",
       "14/10/2021     138\n",
       "15/10/2021     292\n",
       "16/10/2021      40\n",
       "20/10/2021     453\n",
       "21/10/2021    1768\n",
       "22/10/2021     716\n",
       "23/10/2021      11\n",
       "25/10/2021    1281\n",
       "26/10/2021    1710\n",
       "27/10/2021     676\n",
       "28/10/2021       1\n",
       "dtype: int64"
      ]
     },
     "execution_count": 70,
     "metadata": {},
     "output_type": "execute_result"
    }
   ],
   "source": [
    "count_by_date"
   ]
  },
  {
   "cell_type": "code",
   "execution_count": 207,
   "id": "9c089556-4d7e-4ed1-b088-74f617b2e41f",
   "metadata": {},
   "outputs": [
    {
     "data": {
      "image/png": "[encoded data removed]",
      "text/plain": [
       "<Figure size 600x400 with 1 Axes>"
      ]
     },
     "metadata": {},
     "output_type": "display_data"
    }
   ],
   "source": [
    "plt.plot(df['Data'], df['umidade_min'])\n",
    "plt.plot(df['Data'], df['umidade_max'])\n",
    "plt.xticks(rotation=90)\n",
    "plt.title('Umidade relativa do ar ao longo dos dias')\n",
    "plt.xlabel('Dias')\n",
    "plt.ylabel('Umidade relativa do ar (%)')\n",
    "plt.legend(['Umidade mínima', 'Umidade máxima'])\n",
    "plt.show()"
   ]
  },
  {
   "cell_type": "code",
   "execution_count": null,
   "id": "b2c5996f-12b7-4ed6-89db-b7c34d9dc975",
   "metadata": {},
   "outputs": [],
   "source": []
  }
 ],
 "metadata": {
  "kernelspec": {
   "display_name": "Python 3 (ipykernel)",
   "language": "python",
   "name": "python3"
  },
  "language_info": {
   "codemirror_mode": {
    "name": "ipython",
    "version": 3
   },
   "file_extension": ".py",
   "mimetype": "text/x-python",
   "name": "python",
   "nbconvert_exporter": "python",
   "pygments_lexer": "ipython3",
   "version": "3.9.12"
  }
 },
 "nbformat": 4,
 "nbformat_minor": 5
}
