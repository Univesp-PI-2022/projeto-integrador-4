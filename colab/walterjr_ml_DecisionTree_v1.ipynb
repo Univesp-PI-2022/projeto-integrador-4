{
  "nbformat": 4,
  "nbformat_minor": 0,
  "metadata": {
    "colab": {
      "provenance": []
    },
    "kernelspec": {
      "name": "python3",
      "display_name": "Python 3"
    },
    "language_info": {
      "name": "python"
    }
  },
  "cells": [
    {
      "cell_type": "markdown",
      "source": [
        "Importando bibliotecas \n"
      ],
      "metadata": {
        "id": "mdWvsOFGAnfU"
      }
    },
    {
      "cell_type": "code",
      "execution_count": null,
      "metadata": {
        "id": "DJmaiwCuAJm-"
      },
      "outputs": [],
      "source": [
        "import pandas as pd\n",
        "import matplotlib.pyplot as plt"
      ]
    },
    {
      "cell_type": "code",
      "source": [
        "\n",
        "\n",
        "# Ler o arquivo CSV\n",
        "df = pd.read_csv('https://raw.githubusercontent.com/Univesp-PI-2022/projeto-integrador-4/main/dados/censo1.csv',sep=\";\")\n",
        "\n",
        "# Exibir o DataFrame resultante\n",
        "df.head()\n"
      ],
      "metadata": {
        "colab": {
          "base_uri": "https://localhost:8080/",
          "height": 455
        },
        "id": "JSMIGRZqHzE6",
        "outputId": "336efd8d-5b32-4789-a318-fe83e4909f64"
      },
      "execution_count": null,
      "outputs": [
        {
          "output_type": "execute_result",
          "data": {
            "text/plain": [
              "   ID Situação de rua Onde dormiu ontem Tempo de permanência       Sexo  \\\n",
              "0   1             Rua     Não se aplica        Não se aplica   Feminino   \n",
              "1   2        Acolhido               Rua        Não se aplica  Masculino   \n",
              "2   3             Rua     Não se aplica        Não se aplica   Feminino   \n",
              "3   4             Rua     Não se aplica        Não se aplica  Masculino   \n",
              "4   5             Rua     Não se aplica        Não se aplica   Feminino   \n",
              "\n",
              "  Identifica com o sexo nasceu          Idade  Faixa de idade  \\\n",
              "0                Não respondeu  Não respondeu  Sem informação   \n",
              "1              Homem Cisgênero             38         31 a 49   \n",
              "2             Mulher Cisgênero             27         18 a 30   \n",
              "3              Homem Cisgênero             15         12 a 17   \n",
              "4             Mulher Cisgênero  Não respondeu  Sem informação   \n",
              "\n",
              "  Classificação de idade     Cor_Raça_Etnia  ...           Tempo na situação  \\\n",
              "0         Sem informação  Sem identificação  ...                       NR/NS   \n",
              "1                 Adulto              Parda  ...             Mais de 10 anos   \n",
              "2              Juventude              Parda  ...   Mais de 2 anos até 5 anos   \n",
              "3            Adolescente             Branca  ...  Mais de 5 anos até 10 anos   \n",
              "4         Sem informação  Sem identificação  ...                       NR/NS   \n",
              "\n",
              "      Tipo de ponto Presença_Moradia_Improvisada Criança_acomp_Adulto  \\\n",
              "0             Praça                          Não                  Não   \n",
              "1     Não se aplica                Não se aplica        Não se aplica   \n",
              "2             Praça                          Sim                  Não   \n",
              "3           Calçada                          Sim                  Não   \n",
              "4  Canteiro central                          Sim                  Não   \n",
              "\n",
              "  Criança_Sozinha           Latitude          Longitude      Data  \\\n",
              "0             Não  -23,4962781999999         -46,391831  10/25/21   \n",
              "1   Não se aplica        -23,5225168         -46,522712  10/25/21   \n",
              "2             Não        -23,5232932        -46,6549845   11/3/21   \n",
              "3             Não  -23,7430783949666  -46,6929477602377  10/27/21   \n",
              "4             Não        -23,5251419        -46,6255225   11/9/21   \n",
              "\n",
              "       Subprefeitura        Distrito  \n",
              "0     Itaim Paulista  Itaim Paulista  \n",
              "1              Penha           Penha  \n",
              "2                 Sé   Santa Cecília  \n",
              "3  Capela do Socorro          Grajaú  \n",
              "4              Mooca            Pari  \n",
              "\n",
              "[5 rows x 21 columns]"
            ],
            "text/html": [
              "\n",
              "  <div id=\"df-99fa1502-0a2f-41c4-877e-e125e98f2bef\">\n",
              "    <div class=\"colab-df-container\">\n",
              "      <div>\n",
              "<style scoped>\n",
              "    .dataframe tbody tr th:only-of-type {\n",
              "        vertical-align: middle;\n",
              "    }\n",
              "\n",
              "    .dataframe tbody tr th {\n",
              "        vertical-align: top;\n",
              "    }\n",
              "\n",
              "    .dataframe thead th {\n",
              "        text-align: right;\n",
              "    }\n",
              "</style>\n",
              "<table border=\"1\" class=\"dataframe\">\n",
              "  <thead>\n",
              "    <tr style=\"text-align: right;\">\n",
              "      <th></th>\n",
              "      <th>ID</th>\n",
              "      <th>Situação de rua</th>\n",
              "      <th>Onde dormiu ontem</th>\n",
              "      <th>Tempo de permanência</th>\n",
              "      <th>Sexo</th>\n",
              "      <th>Identifica com o sexo nasceu</th>\n",
              "      <th>Idade</th>\n",
              "      <th>Faixa de idade</th>\n",
              "      <th>Classificação de idade</th>\n",
              "      <th>Cor_Raça_Etnia</th>\n",
              "      <th>...</th>\n",
              "      <th>Tempo na situação</th>\n",
              "      <th>Tipo de ponto</th>\n",
              "      <th>Presença_Moradia_Improvisada</th>\n",
              "      <th>Criança_acomp_Adulto</th>\n",
              "      <th>Criança_Sozinha</th>\n",
              "      <th>Latitude</th>\n",
              "      <th>Longitude</th>\n",
              "      <th>Data</th>\n",
              "      <th>Subprefeitura</th>\n",
              "      <th>Distrito</th>\n",
              "    </tr>\n",
              "  </thead>\n",
              "  <tbody>\n",
              "    <tr>\n",
              "      <th>0</th>\n",
              "      <td>1</td>\n",
              "      <td>Rua</td>\n",
              "      <td>Não se aplica</td>\n",
              "      <td>Não se aplica</td>\n",
              "      <td>Feminino</td>\n",
              "      <td>Não respondeu</td>\n",
              "      <td>Não respondeu</td>\n",
              "      <td>Sem informação</td>\n",
              "      <td>Sem informação</td>\n",
              "      <td>Sem identificação</td>\n",
              "      <td>...</td>\n",
              "      <td>NR/NS</td>\n",
              "      <td>Praça</td>\n",
              "      <td>Não</td>\n",
              "      <td>Não</td>\n",
              "      <td>Não</td>\n",
              "      <td>-23,4962781999999</td>\n",
              "      <td>-46,391831</td>\n",
              "      <td>10/25/21</td>\n",
              "      <td>Itaim Paulista</td>\n",
              "      <td>Itaim Paulista</td>\n",
              "    </tr>\n",
              "    <tr>\n",
              "      <th>1</th>\n",
              "      <td>2</td>\n",
              "      <td>Acolhido</td>\n",
              "      <td>Rua</td>\n",
              "      <td>Não se aplica</td>\n",
              "      <td>Masculino</td>\n",
              "      <td>Homem Cisgênero</td>\n",
              "      <td>38</td>\n",
              "      <td>31 a 49</td>\n",
              "      <td>Adulto</td>\n",
              "      <td>Parda</td>\n",
              "      <td>...</td>\n",
              "      <td>Mais de 10 anos</td>\n",
              "      <td>Não se aplica</td>\n",
              "      <td>Não se aplica</td>\n",
              "      <td>Não se aplica</td>\n",
              "      <td>Não se aplica</td>\n",
              "      <td>-23,5225168</td>\n",
              "      <td>-46,522712</td>\n",
              "      <td>10/25/21</td>\n",
              "      <td>Penha</td>\n",
              "      <td>Penha</td>\n",
              "    </tr>\n",
              "    <tr>\n",
              "      <th>2</th>\n",
              "      <td>3</td>\n",
              "      <td>Rua</td>\n",
              "      <td>Não se aplica</td>\n",
              "      <td>Não se aplica</td>\n",
              "      <td>Feminino</td>\n",
              "      <td>Mulher Cisgênero</td>\n",
              "      <td>27</td>\n",
              "      <td>18 a 30</td>\n",
              "      <td>Juventude</td>\n",
              "      <td>Parda</td>\n",
              "      <td>...</td>\n",
              "      <td>Mais de 2 anos até 5 anos</td>\n",
              "      <td>Praça</td>\n",
              "      <td>Sim</td>\n",
              "      <td>Não</td>\n",
              "      <td>Não</td>\n",
              "      <td>-23,5232932</td>\n",
              "      <td>-46,6549845</td>\n",
              "      <td>11/3/21</td>\n",
              "      <td>Sé</td>\n",
              "      <td>Santa Cecília</td>\n",
              "    </tr>\n",
              "    <tr>\n",
              "      <th>3</th>\n",
              "      <td>4</td>\n",
              "      <td>Rua</td>\n",
              "      <td>Não se aplica</td>\n",
              "      <td>Não se aplica</td>\n",
              "      <td>Masculino</td>\n",
              "      <td>Homem Cisgênero</td>\n",
              "      <td>15</td>\n",
              "      <td>12 a 17</td>\n",
              "      <td>Adolescente</td>\n",
              "      <td>Branca</td>\n",
              "      <td>...</td>\n",
              "      <td>Mais de 5 anos até 10 anos</td>\n",
              "      <td>Calçada</td>\n",
              "      <td>Sim</td>\n",
              "      <td>Não</td>\n",
              "      <td>Não</td>\n",
              "      <td>-23,7430783949666</td>\n",
              "      <td>-46,6929477602377</td>\n",
              "      <td>10/27/21</td>\n",
              "      <td>Capela do Socorro</td>\n",
              "      <td>Grajaú</td>\n",
              "    </tr>\n",
              "    <tr>\n",
              "      <th>4</th>\n",
              "      <td>5</td>\n",
              "      <td>Rua</td>\n",
              "      <td>Não se aplica</td>\n",
              "      <td>Não se aplica</td>\n",
              "      <td>Feminino</td>\n",
              "      <td>Mulher Cisgênero</td>\n",
              "      <td>Não respondeu</td>\n",
              "      <td>Sem informação</td>\n",
              "      <td>Sem informação</td>\n",
              "      <td>Sem identificação</td>\n",
              "      <td>...</td>\n",
              "      <td>NR/NS</td>\n",
              "      <td>Canteiro central</td>\n",
              "      <td>Sim</td>\n",
              "      <td>Não</td>\n",
              "      <td>Não</td>\n",
              "      <td>-23,5251419</td>\n",
              "      <td>-46,6255225</td>\n",
              "      <td>11/9/21</td>\n",
              "      <td>Mooca</td>\n",
              "      <td>Pari</td>\n",
              "    </tr>\n",
              "  </tbody>\n",
              "</table>\n",
              "<p>5 rows × 21 columns</p>\n",
              "</div>\n",
              "      <button class=\"colab-df-convert\" onclick=\"convertToInteractive('df-99fa1502-0a2f-41c4-877e-e125e98f2bef')\"\n",
              "              title=\"Convert this dataframe to an interactive table.\"\n",
              "              style=\"display:none;\">\n",
              "        \n",
              "  <svg xmlns=\"http://www.w3.org/2000/svg\" height=\"24px\"viewBox=\"0 0 24 24\"\n",
              "       width=\"24px\">\n",
              "    <path d=\"M0 0h24v24H0V0z\" fill=\"none\"/>\n",
              "    <path d=\"M18.56 5.44l.94 2.06.94-2.06 2.06-.94-2.06-.94-.94-2.06-.94 2.06-2.06.94zm-11 1L8.5 8.5l.94-2.06 2.06-.94-2.06-.94L8.5 2.5l-.94 2.06-2.06.94zm10 10l.94 2.06.94-2.06 2.06-.94-2.06-.94-.94-2.06-.94 2.06-2.06.94z\"/><path d=\"M17.41 7.96l-1.37-1.37c-.4-.4-.92-.59-1.43-.59-.52 0-1.04.2-1.43.59L10.3 9.45l-7.72 7.72c-.78.78-.78 2.05 0 2.83L4 21.41c.39.39.9.59 1.41.59.51 0 1.02-.2 1.41-.59l7.78-7.78 2.81-2.81c.8-.78.8-2.07 0-2.86zM5.41 20L4 18.59l7.72-7.72 1.47 1.35L5.41 20z\"/>\n",
              "  </svg>\n",
              "      </button>\n",
              "      \n",
              "  <style>\n",
              "    .colab-df-container {\n",
              "      display:flex;\n",
              "      flex-wrap:wrap;\n",
              "      gap: 12px;\n",
              "    }\n",
              "\n",
              "    .colab-df-convert {\n",
              "      background-color: #E8F0FE;\n",
              "      border: none;\n",
              "      border-radius: 50%;\n",
              "      cursor: pointer;\n",
              "      display: none;\n",
              "      fill: #1967D2;\n",
              "      height: 32px;\n",
              "      padding: 0 0 0 0;\n",
              "      width: 32px;\n",
              "    }\n",
              "\n",
              "    .colab-df-convert:hover {\n",
              "      background-color: #E2EBFA;\n",
              "      box-shadow: 0px 1px 2px rgba(60, 64, 67, 0.3), 0px 1px 3px 1px rgba(60, 64, 67, 0.15);\n",
              "      fill: #174EA6;\n",
              "    }\n",
              "\n",
              "    [theme=dark] .colab-df-convert {\n",
              "      background-color: #3B4455;\n",
              "      fill: #D2E3FC;\n",
              "    }\n",
              "\n",
              "    [theme=dark] .colab-df-convert:hover {\n",
              "      background-color: #434B5C;\n",
              "      box-shadow: 0px 1px 3px 1px rgba(0, 0, 0, 0.15);\n",
              "      filter: drop-shadow(0px 1px 2px rgba(0, 0, 0, 0.3));\n",
              "      fill: #FFFFFF;\n",
              "    }\n",
              "  </style>\n",
              "\n",
              "      <script>\n",
              "        const buttonEl =\n",
              "          document.querySelector('#df-99fa1502-0a2f-41c4-877e-e125e98f2bef button.colab-df-convert');\n",
              "        buttonEl.style.display =\n",
              "          google.colab.kernel.accessAllowed ? 'block' : 'none';\n",
              "\n",
              "        async function convertToInteractive(key) {\n",
              "          const element = document.querySelector('#df-99fa1502-0a2f-41c4-877e-e125e98f2bef');\n",
              "          const dataTable =\n",
              "            await google.colab.kernel.invokeFunction('convertToInteractive',\n",
              "                                                     [key], {});\n",
              "          if (!dataTable) return;\n",
              "\n",
              "          const docLinkHtml = 'Like what you see? Visit the ' +\n",
              "            '<a target=\"_blank\" href=https://colab.research.google.com/notebooks/data_table.ipynb>data table notebook</a>'\n",
              "            + ' to learn more about interactive tables.';\n",
              "          element.innerHTML = '';\n",
              "          dataTable['output_type'] = 'display_data';\n",
              "          await google.colab.output.renderOutput(dataTable, element);\n",
              "          const docLink = document.createElement('div');\n",
              "          docLink.innerHTML = docLinkHtml;\n",
              "          element.appendChild(docLink);\n",
              "        }\n",
              "      </script>\n",
              "    </div>\n",
              "  </div>\n",
              "  "
            ]
          },
          "metadata": {},
          "execution_count": 3
        }
      ]
    },
    {
      "cell_type": "code",
      "source": [
        "df.shape"
      ],
      "metadata": {
        "colab": {
          "base_uri": "https://localhost:8080/"
        },
        "id": "5CuzVM5-IGqS",
        "outputId": "ffcb909b-7bc2-4cac-81e6-be88d8d18cbc"
      },
      "execution_count": null,
      "outputs": [
        {
          "output_type": "execute_result",
          "data": {
            "text/plain": [
              "(31884, 21)"
            ]
          },
          "metadata": {},
          "execution_count": 4
        }
      ]
    },
    {
      "cell_type": "code",
      "source": [
        "df['Sexo'].count()\n"
      ],
      "metadata": {
        "colab": {
          "base_uri": "https://localhost:8080/"
        },
        "id": "nXQ459ubJTfQ",
        "outputId": "c5809cc7-8c51-4030-dda1-91922013f1ae"
      },
      "execution_count": null,
      "outputs": [
        {
          "output_type": "execute_result",
          "data": {
            "text/plain": [
              "31884"
            ]
          },
          "metadata": {},
          "execution_count": 5
        }
      ]
    },
    {
      "cell_type": "code",
      "source": [
        "df['Sexo'].value_counts()"
      ],
      "metadata": {
        "colab": {
          "base_uri": "https://localhost:8080/"
        },
        "id": "b4xK94QTKLaK",
        "outputId": "1d98dc49-5736-458e-b6a4-11141424185e"
      },
      "execution_count": null,
      "outputs": [
        {
          "output_type": "execute_result",
          "data": {
            "text/plain": [
              "Masculino            25717\n",
              "Feminino              5109\n",
              "Sem identificação     1058\n",
              "Name: Sexo, dtype: int64"
            ]
          },
          "metadata": {},
          "execution_count": 6
        }
      ]
    },
    {
      "cell_type": "code",
      "source": [
        "counts = df['Sexo'].value_counts()"
      ],
      "metadata": {
        "id": "HBXJs5bbKj8v"
      },
      "execution_count": null,
      "outputs": []
    },
    {
      "cell_type": "code",
      "source": [
        "# gráfico de barras\n",
        "fig, ax = plt.subplots()\n",
        "ax.bar(counts.index, counts.values)\n",
        "\n",
        "# Configurar os rótulos do eixo x e do título\n",
        "\n",
        "ax.set_xlabel('Classes')\n",
        "ax.set_ylabel('Frequência')\n",
        "ax.set_title('Distribuição [or Sexo]')\n",
        "\n",
        "# Mostrar o gráfico\n",
        "plt.show()"
      ],
      "metadata": {
        "colab": {
          "base_uri": "https://localhost:8080/",
          "height": 295
        },
        "id": "VBl5QuwMIJw_",
        "outputId": "67d2b301-bcfc-49aa-f4f5-f78ceda99a75"
      },
      "execution_count": null,
      "outputs": [
        {
          "output_type": "display_data",
          "data": {
            "text/plain": [
              "<Figure size 432x288 with 1 Axes>"
            ],
            "image/png": "[encoded data removed]"
          },
          "metadata": {
            "needs_background": "light"
          }
        }
      ]
    },
    {
      "cell_type": "code",
      "source": [
        "df.groupby('Subprefeitura')['Subprefeitura'].size().sort_values(ascending=False)"
      ],
      "metadata": {
        "colab": {
          "base_uri": "https://localhost:8080/"
        },
        "id": "oCaST_nN2CMR",
        "outputId": "9f8dbe1c-3b69-4ce5-babf-3573119b3a7b"
      },
      "execution_count": null,
      "outputs": [
        {
          "output_type": "execute_result",
          "data": {
            "text/plain": [
              "Subprefeitura\n",
              "Sé                           12851\n",
              "Mooca                         5811\n",
              "Vila Maria-Vila Guilherme     1238\n",
              "Santana-Tucuruvi              1232\n",
              "Santo Amaro                   1090\n",
              "Lapa                          1062\n",
              "Vila Mariana                   972\n",
              "Penha                          583\n",
              "Itaquera                       549\n",
              "Pinheiros                      545\n",
              "Ipiranga                       544\n",
              "Casa Verde-Cachoeirinha        539\n",
              "São Miguel                     417\n",
              "Aricanduva-Formosa-Carrão      407\n",
              "Guaianases                     391\n",
              "Campo Limpo                    348\n",
              "Ermelino Matarazzo             346\n",
              "Jabaquara                      345\n",
              "Capela do Socorro              340\n",
              "Vila Prudente                  303\n",
              "Jaçanã-Tremembé                297\n",
              "São Mateus                     288\n",
              "Butantã                        263\n",
              "Cidade Ademar                  193\n",
              "Itaim Paulista                 186\n",
              "Freguesia-Brasilândia          165\n",
              "Cidade Tiradentes              134\n",
              "M'boi Mirim                    130\n",
              "Perus                          118\n",
              "Pirituba-Jaraguá               100\n",
              "Sapopemba                       44\n",
              "Parelheiros                     40\n",
              "M'Boi Mirim                     13\n",
              "Name: Subprefeitura, dtype: int64"
            ]
          },
          "metadata": {},
          "execution_count": 9
        }
      ]
    },
    {
      "cell_type": "code",
      "source": [
        "grouped = df.groupby('Subprefeitura')['Subprefeitura'].size().sort_values(ascending=False)\n",
        "\n",
        "# plotar o gráfico de barras\n",
        "plt.figure(figsize=(20,8))\n",
        "grouped.plot(kind='bar')\n",
        "\n",
        "# definir o título do gráfico e dos eixos\n",
        "\n",
        "plt.title('Contagem de ocorrências por Subprefeitura')\n",
        "plt.xlabel('Subprefeitura')\n",
        "plt.ylabel('Contagem')\n",
        "\n",
        "# exibir o gráfico\n",
        "plt.show()"
      ],
      "metadata": {
        "colab": {
          "base_uri": "https://localhost:8080/",
          "height": 642
        },
        "id": "9xTVp13A2tT5",
        "outputId": "cb7f99db-5959-408b-fb6e-5b9b47d3df2f"
      },
      "execution_count": null,
      "outputs": [
        {
          "output_type": "display_data",
          "data": {
            "text/plain": [
              "<Figure size 1440x576 with 1 Axes>"
            ],
            "image/png": "[encoded data removed]"
          },
          "metadata": {
            "needs_background": "light"
          }
        }
      ]
    },
    {
      "cell_type": "markdown",
      "source": [
        "### DecisionTree ###"
      ],
      "metadata": {
        "id": "jwkp0x43Jq-9"
      }
    },
    {
      "cell_type": "code",
      "source": [
        "df.head()"
      ],
      "metadata": {
        "colab": {
          "base_uri": "https://localhost:8080/",
          "height": 455
        },
        "id": "7vECawuJKXkq",
        "outputId": "9048135b-0e22-4310-9ea2-dc12f2e00292"
      },
      "execution_count": null,
      "outputs": [
        {
          "output_type": "execute_result",
          "data": {
            "text/plain": [
              "   ID Situação de rua Onde dormiu ontem Tempo de permanência       Sexo  \\\n",
              "0   1             Rua     Não se aplica        Não se aplica   Feminino   \n",
              "1   2        Acolhido               Rua        Não se aplica  Masculino   \n",
              "2   3             Rua     Não se aplica        Não se aplica   Feminino   \n",
              "3   4             Rua     Não se aplica        Não se aplica  Masculino   \n",
              "4   5             Rua     Não se aplica        Não se aplica   Feminino   \n",
              "\n",
              "  Identifica com o sexo nasceu          Idade  Faixa de idade  \\\n",
              "0                Não respondeu  Não respondeu  Sem informação   \n",
              "1              Homem Cisgênero             38         31 a 49   \n",
              "2             Mulher Cisgênero             27         18 a 30   \n",
              "3              Homem Cisgênero             15         12 a 17   \n",
              "4             Mulher Cisgênero  Não respondeu  Sem informação   \n",
              "\n",
              "  Classificação de idade     Cor_Raça_Etnia  ...           Tempo na situação  \\\n",
              "0         Sem informação  Sem identificação  ...                       NR/NS   \n",
              "1                 Adulto              Parda  ...             Mais de 10 anos   \n",
              "2              Juventude              Parda  ...   Mais de 2 anos até 5 anos   \n",
              "3            Adolescente             Branca  ...  Mais de 5 anos até 10 anos   \n",
              "4         Sem informação  Sem identificação  ...                       NR/NS   \n",
              "\n",
              "      Tipo de ponto Presença_Moradia_Improvisada Criança_acomp_Adulto  \\\n",
              "0             Praça                          Não                  Não   \n",
              "1     Não se aplica                Não se aplica        Não se aplica   \n",
              "2             Praça                          Sim                  Não   \n",
              "3           Calçada                          Sim                  Não   \n",
              "4  Canteiro central                          Sim                  Não   \n",
              "\n",
              "  Criança_Sozinha           Latitude          Longitude      Data  \\\n",
              "0             Não  -23,4962781999999         -46,391831  10/25/21   \n",
              "1   Não se aplica        -23,5225168         -46,522712  10/25/21   \n",
              "2             Não        -23,5232932        -46,6549845   11/3/21   \n",
              "3             Não  -23,7430783949666  -46,6929477602377  10/27/21   \n",
              "4             Não        -23,5251419        -46,6255225   11/9/21   \n",
              "\n",
              "       Subprefeitura        Distrito  \n",
              "0     Itaim Paulista  Itaim Paulista  \n",
              "1              Penha           Penha  \n",
              "2                 Sé   Santa Cecília  \n",
              "3  Capela do Socorro          Grajaú  \n",
              "4              Mooca            Pari  \n",
              "\n",
              "[5 rows x 21 columns]"
            ],
            "text/html": [
              "\n",
              "  <div id=\"df-68567216-fb54-40c6-b333-4c7e927fd101\">\n",
              "    <div class=\"colab-df-container\">\n",
              "      <div>\n",
              "<style scoped>\n",
              "    .dataframe tbody tr th:only-of-type {\n",
              "        vertical-align: middle;\n",
              "    }\n",
              "\n",
              "    .dataframe tbody tr th {\n",
              "        vertical-align: top;\n",
              "    }\n",
              "\n",
              "    .dataframe thead th {\n",
              "        text-align: right;\n",
              "    }\n",
              "</style>\n",
              "<table border=\"1\" class=\"dataframe\">\n",
              "  <thead>\n",
              "    <tr style=\"text-align: right;\">\n",
              "      <th></th>\n",
              "      <th>ID</th>\n",
              "      <th>Situação de rua</th>\n",
              "      <th>Onde dormiu ontem</th>\n",
              "      <th>Tempo de permanência</th>\n",
              "      <th>Sexo</th>\n",
              "      <th>Identifica com o sexo nasceu</th>\n",
              "      <th>Idade</th>\n",
              "      <th>Faixa de idade</th>\n",
              "      <th>Classificação de idade</th>\n",
              "      <th>Cor_Raça_Etnia</th>\n",
              "      <th>...</th>\n",
              "      <th>Tempo na situação</th>\n",
              "      <th>Tipo de ponto</th>\n",
              "      <th>Presença_Moradia_Improvisada</th>\n",
              "      <th>Criança_acomp_Adulto</th>\n",
              "      <th>Criança_Sozinha</th>\n",
              "      <th>Latitude</th>\n",
              "      <th>Longitude</th>\n",
              "      <th>Data</th>\n",
              "      <th>Subprefeitura</th>\n",
              "      <th>Distrito</th>\n",
              "    </tr>\n",
              "  </thead>\n",
              "  <tbody>\n",
              "    <tr>\n",
              "      <th>0</th>\n",
              "      <td>1</td>\n",
              "      <td>Rua</td>\n",
              "      <td>Não se aplica</td>\n",
              "      <td>Não se aplica</td>\n",
              "      <td>Feminino</td>\n",
              "      <td>Não respondeu</td>\n",
              "      <td>Não respondeu</td>\n",
              "      <td>Sem informação</td>\n",
              "      <td>Sem informação</td>\n",
              "      <td>Sem identificação</td>\n",
              "      <td>...</td>\n",
              "      <td>NR/NS</td>\n",
              "      <td>Praça</td>\n",
              "      <td>Não</td>\n",
              "      <td>Não</td>\n",
              "      <td>Não</td>\n",
              "      <td>-23,4962781999999</td>\n",
              "      <td>-46,391831</td>\n",
              "      <td>10/25/21</td>\n",
              "      <td>Itaim Paulista</td>\n",
              "      <td>Itaim Paulista</td>\n",
              "    </tr>\n",
              "    <tr>\n",
              "      <th>1</th>\n",
              "      <td>2</td>\n",
              "      <td>Acolhido</td>\n",
              "      <td>Rua</td>\n",
              "      <td>Não se aplica</td>\n",
              "      <td>Masculino</td>\n",
              "      <td>Homem Cisgênero</td>\n",
              "      <td>38</td>\n",
              "      <td>31 a 49</td>\n",
              "      <td>Adulto</td>\n",
              "      <td>Parda</td>\n",
              "      <td>...</td>\n",
              "      <td>Mais de 10 anos</td>\n",
              "      <td>Não se aplica</td>\n",
              "      <td>Não se aplica</td>\n",
              "      <td>Não se aplica</td>\n",
              "      <td>Não se aplica</td>\n",
              "      <td>-23,5225168</td>\n",
              "      <td>-46,522712</td>\n",
              "      <td>10/25/21</td>\n",
              "      <td>Penha</td>\n",
              "      <td>Penha</td>\n",
              "    </tr>\n",
              "    <tr>\n",
              "      <th>2</th>\n",
              "      <td>3</td>\n",
              "      <td>Rua</td>\n",
              "      <td>Não se aplica</td>\n",
              "      <td>Não se aplica</td>\n",
              "      <td>Feminino</td>\n",
              "      <td>Mulher Cisgênero</td>\n",
              "      <td>27</td>\n",
              "      <td>18 a 30</td>\n",
              "      <td>Juventude</td>\n",
              "      <td>Parda</td>\n",
              "      <td>...</td>\n",
              "      <td>Mais de 2 anos até 5 anos</td>\n",
              "      <td>Praça</td>\n",
              "      <td>Sim</td>\n",
              "      <td>Não</td>\n",
              "      <td>Não</td>\n",
              "      <td>-23,5232932</td>\n",
              "      <td>-46,6549845</td>\n",
              "      <td>11/3/21</td>\n",
              "      <td>Sé</td>\n",
              "      <td>Santa Cecília</td>\n",
              "    </tr>\n",
              "    <tr>\n",
              "      <th>3</th>\n",
              "      <td>4</td>\n",
              "      <td>Rua</td>\n",
              "      <td>Não se aplica</td>\n",
              "      <td>Não se aplica</td>\n",
              "      <td>Masculino</td>\n",
              "      <td>Homem Cisgênero</td>\n",
              "      <td>15</td>\n",
              "      <td>12 a 17</td>\n",
              "      <td>Adolescente</td>\n",
              "      <td>Branca</td>\n",
              "      <td>...</td>\n",
              "      <td>Mais de 5 anos até 10 anos</td>\n",
              "      <td>Calçada</td>\n",
              "      <td>Sim</td>\n",
              "      <td>Não</td>\n",
              "      <td>Não</td>\n",
              "      <td>-23,7430783949666</td>\n",
              "      <td>-46,6929477602377</td>\n",
              "      <td>10/27/21</td>\n",
              "      <td>Capela do Socorro</td>\n",
              "      <td>Grajaú</td>\n",
              "    </tr>\n",
              "    <tr>\n",
              "      <th>4</th>\n",
              "      <td>5</td>\n",
              "      <td>Rua</td>\n",
              "      <td>Não se aplica</td>\n",
              "      <td>Não se aplica</td>\n",
              "      <td>Feminino</td>\n",
              "      <td>Mulher Cisgênero</td>\n",
              "      <td>Não respondeu</td>\n",
              "      <td>Sem informação</td>\n",
              "      <td>Sem informação</td>\n",
              "      <td>Sem identificação</td>\n",
              "      <td>...</td>\n",
              "      <td>NR/NS</td>\n",
              "      <td>Canteiro central</td>\n",
              "      <td>Sim</td>\n",
              "      <td>Não</td>\n",
              "      <td>Não</td>\n",
              "      <td>-23,5251419</td>\n",
              "      <td>-46,6255225</td>\n",
              "      <td>11/9/21</td>\n",
              "      <td>Mooca</td>\n",
              "      <td>Pari</td>\n",
              "    </tr>\n",
              "  </tbody>\n",
              "</table>\n",
              "<p>5 rows × 21 columns</p>\n",
              "</div>\n",
              "      <button class=\"colab-df-convert\" onclick=\"convertToInteractive('df-68567216-fb54-40c6-b333-4c7e927fd101')\"\n",
              "              title=\"Convert this dataframe to an interactive table.\"\n",
              "              style=\"display:none;\">\n",
              "        \n",
              "  <svg xmlns=\"http://www.w3.org/2000/svg\" height=\"24px\"viewBox=\"0 0 24 24\"\n",
              "       width=\"24px\">\n",
              "    <path d=\"M0 0h24v24H0V0z\" fill=\"none\"/>\n",
              "    <path d=\"M18.56 5.44l.94 2.06.94-2.06 2.06-.94-2.06-.94-.94-2.06-.94 2.06-2.06.94zm-11 1L8.5 8.5l.94-2.06 2.06-.94-2.06-.94L8.5 2.5l-.94 2.06-2.06.94zm10 10l.94 2.06.94-2.06 2.06-.94-2.06-.94-.94-2.06-.94 2.06-2.06.94z\"/><path d=\"M17.41 7.96l-1.37-1.37c-.4-.4-.92-.59-1.43-.59-.52 0-1.04.2-1.43.59L10.3 9.45l-7.72 7.72c-.78.78-.78 2.05 0 2.83L4 21.41c.39.39.9.59 1.41.59.51 0 1.02-.2 1.41-.59l7.78-7.78 2.81-2.81c.8-.78.8-2.07 0-2.86zM5.41 20L4 18.59l7.72-7.72 1.47 1.35L5.41 20z\"/>\n",
              "  </svg>\n",
              "      </button>\n",
              "      \n",
              "  <style>\n",
              "    .colab-df-container {\n",
              "      display:flex;\n",
              "      flex-wrap:wrap;\n",
              "      gap: 12px;\n",
              "    }\n",
              "\n",
              "    .colab-df-convert {\n",
              "      background-color: #E8F0FE;\n",
              "      border: none;\n",
              "      border-radius: 50%;\n",
              "      cursor: pointer;\n",
              "      display: none;\n",
              "      fill: #1967D2;\n",
              "      height: 32px;\n",
              "      padding: 0 0 0 0;\n",
              "      width: 32px;\n",
              "    }\n",
              "\n",
              "    .colab-df-convert:hover {\n",
              "      background-color: #E2EBFA;\n",
              "      box-shadow: 0px 1px 2px rgba(60, 64, 67, 0.3), 0px 1px 3px 1px rgba(60, 64, 67, 0.15);\n",
              "      fill: #174EA6;\n",
              "    }\n",
              "\n",
              "    [theme=dark] .colab-df-convert {\n",
              "      background-color: #3B4455;\n",
              "      fill: #D2E3FC;\n",
              "    }\n",
              "\n",
              "    [theme=dark] .colab-df-convert:hover {\n",
              "      background-color: #434B5C;\n",
              "      box-shadow: 0px 1px 3px 1px rgba(0, 0, 0, 0.15);\n",
              "      filter: drop-shadow(0px 1px 2px rgba(0, 0, 0, 0.3));\n",
              "      fill: #FFFFFF;\n",
              "    }\n",
              "  </style>\n",
              "\n",
              "      <script>\n",
              "        const buttonEl =\n",
              "          document.querySelector('#df-68567216-fb54-40c6-b333-4c7e927fd101 button.colab-df-convert');\n",
              "        buttonEl.style.display =\n",
              "          google.colab.kernel.accessAllowed ? 'block' : 'none';\n",
              "\n",
              "        async function convertToInteractive(key) {\n",
              "          const element = document.querySelector('#df-68567216-fb54-40c6-b333-4c7e927fd101');\n",
              "          const dataTable =\n",
              "            await google.colab.kernel.invokeFunction('convertToInteractive',\n",
              "                                                     [key], {});\n",
              "          if (!dataTable) return;\n",
              "\n",
              "          const docLinkHtml = 'Like what you see? Visit the ' +\n",
              "            '<a target=\"_blank\" href=https://colab.research.google.com/notebooks/data_table.ipynb>data table notebook</a>'\n",
              "            + ' to learn more about interactive tables.';\n",
              "          element.innerHTML = '';\n",
              "          dataTable['output_type'] = 'display_data';\n",
              "          await google.colab.output.renderOutput(dataTable, element);\n",
              "          const docLink = document.createElement('div');\n",
              "          docLink.innerHTML = docLinkHtml;\n",
              "          element.appendChild(docLink);\n",
              "        }\n",
              "      </script>\n",
              "    </div>\n",
              "  </div>\n",
              "  "
            ]
          },
          "metadata": {},
          "execution_count": 124
        }
      ]
    },
    {
      "cell_type": "code",
      "source": [
        "import numpy as np\n",
        "from sklearn.cluster import KMeans\n",
        "from sklearn.datasets import make_blobs\n",
        "import matplotlib.pyplot as plt\n",
        "\n"
      ],
      "metadata": {
        "id": "fKm7hKA_Js_a"
      },
      "execution_count": null,
      "outputs": []
    },
    {
      "cell_type": "code",
      "source": [
        "df_encoded = pd.get_dummies(df, columns=['Situação de rua','Onde dormiu ontem','Sexo'])\n",
        "\n",
        "# Print the encoded DataFrame\n",
        "df_encoded.head()\n",
        "\n"
      ],
      "metadata": {
        "colab": {
          "base_uri": "https://localhost:8080/",
          "height": 490
        },
        "id": "wf3rr0I8KY8B",
        "outputId": "560f8652-d0a0-4365-c74f-62615994ecde"
      },
      "execution_count": null,
      "outputs": [
        {
          "output_type": "execute_result",
          "data": {
            "text/plain": [
              "   ID Tempo de permanência Identifica com o sexo nasceu          Idade  \\\n",
              "0   1        Não se aplica                Não respondeu  Não respondeu   \n",
              "1   2        Não se aplica              Homem Cisgênero             38   \n",
              "2   3        Não se aplica             Mulher Cisgênero             27   \n",
              "3   4        Não se aplica              Homem Cisgênero             15   \n",
              "4   5        Não se aplica             Mulher Cisgênero  Não respondeu   \n",
              "\n",
              "   Faixa de idade Classificação de idade     Cor_Raça_Etnia Parentes no CA  \\\n",
              "0  Sem informação         Sem informação  Sem identificação  Não informado   \n",
              "1         31 a 49                 Adulto              Parda            Sim   \n",
              "2         18 a 30              Juventude              Parda            Sim   \n",
              "3         12 a 17            Adolescente             Branca            Sim   \n",
              "4  Sem informação         Sem informação  Sem identificação            Sim   \n",
              "\n",
              "            Tempo na situação     Tipo de ponto  ...  \\\n",
              "0                       NR/NS             Praça  ...   \n",
              "1             Mais de 10 anos     Não se aplica  ...   \n",
              "2   Mais de 2 anos até 5 anos             Praça  ...   \n",
              "3  Mais de 5 anos até 10 anos           Calçada  ...   \n",
              "4                       NR/NS  Canteiro central  ...   \n",
              "\n",
              "  Onde dormiu ontem_Casa própria  \\\n",
              "0                              0   \n",
              "1                              0   \n",
              "2                              0   \n",
              "3                              0   \n",
              "4                              0   \n",
              "\n",
              "  Onde dormiu ontem_Neste centro de acolhida (aqui)  \\\n",
              "0                                                 0   \n",
              "1                                                 0   \n",
              "2                                                 0   \n",
              "3                                                 0   \n",
              "4                                                 0   \n",
              "\n",
              "  Onde dormiu ontem_Não respondeu/Não sabe Onde dormiu ontem_Não se aplica  \\\n",
              "0                                        0                               1   \n",
              "1                                        0                               0   \n",
              "2                                        0                               1   \n",
              "3                                        0                               1   \n",
              "4                                        0                               1   \n",
              "\n",
              "  Onde dormiu ontem_Outro Onde dormiu ontem_Outro centro de acolhida  \\\n",
              "0                       0                                          0   \n",
              "1                       0                                          0   \n",
              "2                       0                                          0   \n",
              "3                       0                                          0   \n",
              "4                       0                                          0   \n",
              "\n",
              "  Onde dormiu ontem_Rua Sexo_Feminino  Sexo_Masculino  Sexo_Sem identificação  \n",
              "0                     0             1               0                       0  \n",
              "1                     1             0               1                       0  \n",
              "2                     0             1               0                       0  \n",
              "3                     0             0               1                       0  \n",
              "4                     0             1               0                       0  \n",
              "\n",
              "[5 rows x 31 columns]"
            ],
            "text/html": [
              "\n",
              "  <div id=\"df-e69567b9-7726-408e-9880-abf50b3dd817\">\n",
              "    <div class=\"colab-df-container\">\n",
              "      <div>\n",
              "<style scoped>\n",
              "    .dataframe tbody tr th:only-of-type {\n",
              "        vertical-align: middle;\n",
              "    }\n",
              "\n",
              "    .dataframe tbody tr th {\n",
              "        vertical-align: top;\n",
              "    }\n",
              "\n",
              "    .dataframe thead th {\n",
              "        text-align: right;\n",
              "    }\n",
              "</style>\n",
              "<table border=\"1\" class=\"dataframe\">\n",
              "  <thead>\n",
              "    <tr style=\"text-align: right;\">\n",
              "      <th></th>\n",
              "      <th>ID</th>\n",
              "      <th>Tempo de permanência</th>\n",
              "      <th>Identifica com o sexo nasceu</th>\n",
              "      <th>Idade</th>\n",
              "      <th>Faixa de idade</th>\n",
              "      <th>Classificação de idade</th>\n",
              "      <th>Cor_Raça_Etnia</th>\n",
              "      <th>Parentes no CA</th>\n",
              "      <th>Tempo na situação</th>\n",
              "      <th>Tipo de ponto</th>\n",
              "      <th>...</th>\n",
              "      <th>Onde dormiu ontem_Casa própria</th>\n",
              "      <th>Onde dormiu ontem_Neste centro de acolhida (aqui)</th>\n",
              "      <th>Onde dormiu ontem_Não respondeu/Não sabe</th>\n",
              "      <th>Onde dormiu ontem_Não se aplica</th>\n",
              "      <th>Onde dormiu ontem_Outro</th>\n",
              "      <th>Onde dormiu ontem_Outro centro de acolhida</th>\n",
              "      <th>Onde dormiu ontem_Rua</th>\n",
              "      <th>Sexo_Feminino</th>\n",
              "      <th>Sexo_Masculino</th>\n",
              "      <th>Sexo_Sem identificação</th>\n",
              "    </tr>\n",
              "  </thead>\n",
              "  <tbody>\n",
              "    <tr>\n",
              "      <th>0</th>\n",
              "      <td>1</td>\n",
              "      <td>Não se aplica</td>\n",
              "      <td>Não respondeu</td>\n",
              "      <td>Não respondeu</td>\n",
              "      <td>Sem informação</td>\n",
              "      <td>Sem informação</td>\n",
              "      <td>Sem identificação</td>\n",
              "      <td>Não informado</td>\n",
              "      <td>NR/NS</td>\n",
              "      <td>Praça</td>\n",
              "      <td>...</td>\n",
              "      <td>0</td>\n",
              "      <td>0</td>\n",
              "      <td>0</td>\n",
              "      <td>1</td>\n",
              "      <td>0</td>\n",
              "      <td>0</td>\n",
              "      <td>0</td>\n",
              "      <td>1</td>\n",
              "      <td>0</td>\n",
              "      <td>0</td>\n",
              "    </tr>\n",
              "    <tr>\n",
              "      <th>1</th>\n",
              "      <td>2</td>\n",
              "      <td>Não se aplica</td>\n",
              "      <td>Homem Cisgênero</td>\n",
              "      <td>38</td>\n",
              "      <td>31 a 49</td>\n",
              "      <td>Adulto</td>\n",
              "      <td>Parda</td>\n",
              "      <td>Sim</td>\n",
              "      <td>Mais de 10 anos</td>\n",
              "      <td>Não se aplica</td>\n",
              "      <td>...</td>\n",
              "      <td>0</td>\n",
              "      <td>0</td>\n",
              "      <td>0</td>\n",
              "      <td>0</td>\n",
              "      <td>0</td>\n",
              "      <td>0</td>\n",
              "      <td>1</td>\n",
              "      <td>0</td>\n",
              "      <td>1</td>\n",
              "      <td>0</td>\n",
              "    </tr>\n",
              "    <tr>\n",
              "      <th>2</th>\n",
              "      <td>3</td>\n",
              "      <td>Não se aplica</td>\n",
              "      <td>Mulher Cisgênero</td>\n",
              "      <td>27</td>\n",
              "      <td>18 a 30</td>\n",
              "      <td>Juventude</td>\n",
              "      <td>Parda</td>\n",
              "      <td>Sim</td>\n",
              "      <td>Mais de 2 anos até 5 anos</td>\n",
              "      <td>Praça</td>\n",
              "      <td>...</td>\n",
              "      <td>0</td>\n",
              "      <td>0</td>\n",
              "      <td>0</td>\n",
              "      <td>1</td>\n",
              "      <td>0</td>\n",
              "      <td>0</td>\n",
              "      <td>0</td>\n",
              "      <td>1</td>\n",
              "      <td>0</td>\n",
              "      <td>0</td>\n",
              "    </tr>\n",
              "    <tr>\n",
              "      <th>3</th>\n",
              "      <td>4</td>\n",
              "      <td>Não se aplica</td>\n",
              "      <td>Homem Cisgênero</td>\n",
              "      <td>15</td>\n",
              "      <td>12 a 17</td>\n",
              "      <td>Adolescente</td>\n",
              "      <td>Branca</td>\n",
              "      <td>Sim</td>\n",
              "      <td>Mais de 5 anos até 10 anos</td>\n",
              "      <td>Calçada</td>\n",
              "      <td>...</td>\n",
              "      <td>0</td>\n",
              "      <td>0</td>\n",
              "      <td>0</td>\n",
              "      <td>1</td>\n",
              "      <td>0</td>\n",
              "      <td>0</td>\n",
              "      <td>0</td>\n",
              "      <td>0</td>\n",
              "      <td>1</td>\n",
              "      <td>0</td>\n",
              "    </tr>\n",
              "    <tr>\n",
              "      <th>4</th>\n",
              "      <td>5</td>\n",
              "      <td>Não se aplica</td>\n",
              "      <td>Mulher Cisgênero</td>\n",
              "      <td>Não respondeu</td>\n",
              "      <td>Sem informação</td>\n",
              "      <td>Sem informação</td>\n",
              "      <td>Sem identificação</td>\n",
              "      <td>Sim</td>\n",
              "      <td>NR/NS</td>\n",
              "      <td>Canteiro central</td>\n",
              "      <td>...</td>\n",
              "      <td>0</td>\n",
              "      <td>0</td>\n",
              "      <td>0</td>\n",
              "      <td>1</td>\n",
              "      <td>0</td>\n",
              "      <td>0</td>\n",
              "      <td>0</td>\n",
              "      <td>1</td>\n",
              "      <td>0</td>\n",
              "      <td>0</td>\n",
              "    </tr>\n",
              "  </tbody>\n",
              "</table>\n",
              "<p>5 rows × 31 columns</p>\n",
              "</div>\n",
              "      <button class=\"colab-df-convert\" onclick=\"convertToInteractive('df-e69567b9-7726-408e-9880-abf50b3dd817')\"\n",
              "              title=\"Convert this dataframe to an interactive table.\"\n",
              "              style=\"display:none;\">\n",
              "        \n",
              "  <svg xmlns=\"http://www.w3.org/2000/svg\" height=\"24px\"viewBox=\"0 0 24 24\"\n",
              "       width=\"24px\">\n",
              "    <path d=\"M0 0h24v24H0V0z\" fill=\"none\"/>\n",
              "    <path d=\"M18.56 5.44l.94 2.06.94-2.06 2.06-.94-2.06-.94-.94-2.06-.94 2.06-2.06.94zm-11 1L8.5 8.5l.94-2.06 2.06-.94-2.06-.94L8.5 2.5l-.94 2.06-2.06.94zm10 10l.94 2.06.94-2.06 2.06-.94-2.06-.94-.94-2.06-.94 2.06-2.06.94z\"/><path d=\"M17.41 7.96l-1.37-1.37c-.4-.4-.92-.59-1.43-.59-.52 0-1.04.2-1.43.59L10.3 9.45l-7.72 7.72c-.78.78-.78 2.05 0 2.83L4 21.41c.39.39.9.59 1.41.59.51 0 1.02-.2 1.41-.59l7.78-7.78 2.81-2.81c.8-.78.8-2.07 0-2.86zM5.41 20L4 18.59l7.72-7.72 1.47 1.35L5.41 20z\"/>\n",
              "  </svg>\n",
              "      </button>\n",
              "      \n",
              "  <style>\n",
              "    .colab-df-container {\n",
              "      display:flex;\n",
              "      flex-wrap:wrap;\n",
              "      gap: 12px;\n",
              "    }\n",
              "\n",
              "    .colab-df-convert {\n",
              "      background-color: #E8F0FE;\n",
              "      border: none;\n",
              "      border-radius: 50%;\n",
              "      cursor: pointer;\n",
              "      display: none;\n",
              "      fill: #1967D2;\n",
              "      height: 32px;\n",
              "      padding: 0 0 0 0;\n",
              "      width: 32px;\n",
              "    }\n",
              "\n",
              "    .colab-df-convert:hover {\n",
              "      background-color: #E2EBFA;\n",
              "      box-shadow: 0px 1px 2px rgba(60, 64, 67, 0.3), 0px 1px 3px 1px rgba(60, 64, 67, 0.15);\n",
              "      fill: #174EA6;\n",
              "    }\n",
              "\n",
              "    [theme=dark] .colab-df-convert {\n",
              "      background-color: #3B4455;\n",
              "      fill: #D2E3FC;\n",
              "    }\n",
              "\n",
              "    [theme=dark] .colab-df-convert:hover {\n",
              "      background-color: #434B5C;\n",
              "      box-shadow: 0px 1px 3px 1px rgba(0, 0, 0, 0.15);\n",
              "      filter: drop-shadow(0px 1px 2px rgba(0, 0, 0, 0.3));\n",
              "      fill: #FFFFFF;\n",
              "    }\n",
              "  </style>\n",
              "\n",
              "      <script>\n",
              "        const buttonEl =\n",
              "          document.querySelector('#df-e69567b9-7726-408e-9880-abf50b3dd817 button.colab-df-convert');\n",
              "        buttonEl.style.display =\n",
              "          google.colab.kernel.accessAllowed ? 'block' : 'none';\n",
              "\n",
              "        async function convertToInteractive(key) {\n",
              "          const element = document.querySelector('#df-e69567b9-7726-408e-9880-abf50b3dd817');\n",
              "          const dataTable =\n",
              "            await google.colab.kernel.invokeFunction('convertToInteractive',\n",
              "                                                     [key], {});\n",
              "          if (!dataTable) return;\n",
              "\n",
              "          const docLinkHtml = 'Like what you see? Visit the ' +\n",
              "            '<a target=\"_blank\" href=https://colab.research.google.com/notebooks/data_table.ipynb>data table notebook</a>'\n",
              "            + ' to learn more about interactive tables.';\n",
              "          element.innerHTML = '';\n",
              "          dataTable['output_type'] = 'display_data';\n",
              "          await google.colab.output.renderOutput(dataTable, element);\n",
              "          const docLink = document.createElement('div');\n",
              "          docLink.innerHTML = docLinkHtml;\n",
              "          element.appendChild(docLink);\n",
              "        }\n",
              "      </script>\n",
              "    </div>\n",
              "  </div>\n",
              "  "
            ]
          },
          "metadata": {},
          "execution_count": 193
        }
      ]
    },
    {
      "cell_type": "code",
      "source": [
        "df_encoded.shape"
      ],
      "metadata": {
        "colab": {
          "base_uri": "https://localhost:8080/"
        },
        "id": "kagO8sk6VyDH",
        "outputId": "b6b819bf-f146-4565-bee3-df637dde8d6e"
      },
      "execution_count": null,
      "outputs": [
        {
          "output_type": "execute_result",
          "data": {
            "text/plain": [
              "(31884, 31)"
            ]
          },
          "metadata": {},
          "execution_count": 227
        }
      ]
    },
    {
      "cell_type": "code",
      "source": [
        "df_final =  df_encoded.iloc[:, [3,18,19,20,21,22,23,24,25,26,27,28,29,30]]\n",
        "df_final.head()"
      ],
      "metadata": {
        "colab": {
          "base_uri": "https://localhost:8080/",
          "height": 374
        },
        "id": "oB9g2z-pP1XZ",
        "outputId": "9b8d3fd8-47ff-4993-b76d-7503c35ef899"
      },
      "execution_count": null,
      "outputs": [
        {
          "output_type": "execute_result",
          "data": {
            "text/plain": [
              "           Idade  Situação de rua_Acolhido  Situação de rua_Rua  \\\n",
              "0  Não respondeu                         0                    1   \n",
              "1             38                         1                    0   \n",
              "2             27                         0                    1   \n",
              "3             15                         0                    1   \n",
              "4  Não respondeu                         0                    1   \n",
              "\n",
              "   Onde dormiu ontem_Casa de amigos/parentes  Onde dormiu ontem_Casa própria  \\\n",
              "0                                          0                               0   \n",
              "1                                          0                               0   \n",
              "2                                          0                               0   \n",
              "3                                          0                               0   \n",
              "4                                          0                               0   \n",
              "\n",
              "   Onde dormiu ontem_Neste centro de acolhida (aqui)  \\\n",
              "0                                                  0   \n",
              "1                                                  0   \n",
              "2                                                  0   \n",
              "3                                                  0   \n",
              "4                                                  0   \n",
              "\n",
              "   Onde dormiu ontem_Não respondeu/Não sabe  Onde dormiu ontem_Não se aplica  \\\n",
              "0                                         0                                1   \n",
              "1                                         0                                0   \n",
              "2                                         0                                1   \n",
              "3                                         0                                1   \n",
              "4                                         0                                1   \n",
              "\n",
              "   Onde dormiu ontem_Outro  Onde dormiu ontem_Outro centro de acolhida  \\\n",
              "0                        0                                           0   \n",
              "1                        0                                           0   \n",
              "2                        0                                           0   \n",
              "3                        0                                           0   \n",
              "4                        0                                           0   \n",
              "\n",
              "   Onde dormiu ontem_Rua  Sexo_Feminino  Sexo_Masculino  \\\n",
              "0                      0              1               0   \n",
              "1                      1              0               1   \n",
              "2                      0              1               0   \n",
              "3                      0              0               1   \n",
              "4                      0              1               0   \n",
              "\n",
              "   Sexo_Sem identificação  \n",
              "0                       0  \n",
              "1                       0  \n",
              "2                       0  \n",
              "3                       0  \n",
              "4                       0  "
            ],
            "text/html": [
              "\n",
              "  <div id=\"df-23db3e9c-f784-48fc-851c-5bdff1852132\">\n",
              "    <div class=\"colab-df-container\">\n",
              "      <div>\n",
              "<style scoped>\n",
              "    .dataframe tbody tr th:only-of-type {\n",
              "        vertical-align: middle;\n",
              "    }\n",
              "\n",
              "    .dataframe tbody tr th {\n",
              "        vertical-align: top;\n",
              "    }\n",
              "\n",
              "    .dataframe thead th {\n",
              "        text-align: right;\n",
              "    }\n",
              "</style>\n",
              "<table border=\"1\" class=\"dataframe\">\n",
              "  <thead>\n",
              "    <tr style=\"text-align: right;\">\n",
              "      <th></th>\n",
              "      <th>Idade</th>\n",
              "      <th>Situação de rua_Acolhido</th>\n",
              "      <th>Situação de rua_Rua</th>\n",
              "      <th>Onde dormiu ontem_Casa de amigos/parentes</th>\n",
              "      <th>Onde dormiu ontem_Casa própria</th>\n",
              "      <th>Onde dormiu ontem_Neste centro de acolhida (aqui)</th>\n",
              "      <th>Onde dormiu ontem_Não respondeu/Não sabe</th>\n",
              "      <th>Onde dormiu ontem_Não se aplica</th>\n",
              "      <th>Onde dormiu ontem_Outro</th>\n",
              "      <th>Onde dormiu ontem_Outro centro de acolhida</th>\n",
              "      <th>Onde dormiu ontem_Rua</th>\n",
              "      <th>Sexo_Feminino</th>\n",
              "      <th>Sexo_Masculino</th>\n",
              "      <th>Sexo_Sem identificação</th>\n",
              "    </tr>\n",
              "  </thead>\n",
              "  <tbody>\n",
              "    <tr>\n",
              "      <th>0</th>\n",
              "      <td>Não respondeu</td>\n",
              "      <td>0</td>\n",
              "      <td>1</td>\n",
              "      <td>0</td>\n",
              "      <td>0</td>\n",
              "      <td>0</td>\n",
              "      <td>0</td>\n",
              "      <td>1</td>\n",
              "      <td>0</td>\n",
              "      <td>0</td>\n",
              "      <td>0</td>\n",
              "      <td>1</td>\n",
              "      <td>0</td>\n",
              "      <td>0</td>\n",
              "    </tr>\n",
              "    <tr>\n",
              "      <th>1</th>\n",
              "      <td>38</td>\n",
              "      <td>1</td>\n",
              "      <td>0</td>\n",
              "      <td>0</td>\n",
              "      <td>0</td>\n",
              "      <td>0</td>\n",
              "      <td>0</td>\n",
              "      <td>0</td>\n",
              "      <td>0</td>\n",
              "      <td>0</td>\n",
              "      <td>1</td>\n",
              "      <td>0</td>\n",
              "      <td>1</td>\n",
              "      <td>0</td>\n",
              "    </tr>\n",
              "    <tr>\n",
              "      <th>2</th>\n",
              "      <td>27</td>\n",
              "      <td>0</td>\n",
              "      <td>1</td>\n",
              "      <td>0</td>\n",
              "      <td>0</td>\n",
              "      <td>0</td>\n",
              "      <td>0</td>\n",
              "      <td>1</td>\n",
              "      <td>0</td>\n",
              "      <td>0</td>\n",
              "      <td>0</td>\n",
              "      <td>1</td>\n",
              "      <td>0</td>\n",
              "      <td>0</td>\n",
              "    </tr>\n",
              "    <tr>\n",
              "      <th>3</th>\n",
              "      <td>15</td>\n",
              "      <td>0</td>\n",
              "      <td>1</td>\n",
              "      <td>0</td>\n",
              "      <td>0</td>\n",
              "      <td>0</td>\n",
              "      <td>0</td>\n",
              "      <td>1</td>\n",
              "      <td>0</td>\n",
              "      <td>0</td>\n",
              "      <td>0</td>\n",
              "      <td>0</td>\n",
              "      <td>1</td>\n",
              "      <td>0</td>\n",
              "    </tr>\n",
              "    <tr>\n",
              "      <th>4</th>\n",
              "      <td>Não respondeu</td>\n",
              "      <td>0</td>\n",
              "      <td>1</td>\n",
              "      <td>0</td>\n",
              "      <td>0</td>\n",
              "      <td>0</td>\n",
              "      <td>0</td>\n",
              "      <td>1</td>\n",
              "      <td>0</td>\n",
              "      <td>0</td>\n",
              "      <td>0</td>\n",
              "      <td>1</td>\n",
              "      <td>0</td>\n",
              "      <td>0</td>\n",
              "    </tr>\n",
              "  </tbody>\n",
              "</table>\n",
              "</div>\n",
              "      <button class=\"colab-df-convert\" onclick=\"convertToInteractive('df-23db3e9c-f784-48fc-851c-5bdff1852132')\"\n",
              "              title=\"Convert this dataframe to an interactive table.\"\n",
              "              style=\"display:none;\">\n",
              "        \n",
              "  <svg xmlns=\"http://www.w3.org/2000/svg\" height=\"24px\"viewBox=\"0 0 24 24\"\n",
              "       width=\"24px\">\n",
              "    <path d=\"M0 0h24v24H0V0z\" fill=\"none\"/>\n",
              "    <path d=\"M18.56 5.44l.94 2.06.94-2.06 2.06-.94-2.06-.94-.94-2.06-.94 2.06-2.06.94zm-11 1L8.5 8.5l.94-2.06 2.06-.94-2.06-.94L8.5 2.5l-.94 2.06-2.06.94zm10 10l.94 2.06.94-2.06 2.06-.94-2.06-.94-.94-2.06-.94 2.06-2.06.94z\"/><path d=\"M17.41 7.96l-1.37-1.37c-.4-.4-.92-.59-1.43-.59-.52 0-1.04.2-1.43.59L10.3 9.45l-7.72 7.72c-.78.78-.78 2.05 0 2.83L4 21.41c.39.39.9.59 1.41.59.51 0 1.02-.2 1.41-.59l7.78-7.78 2.81-2.81c.8-.78.8-2.07 0-2.86zM5.41 20L4 18.59l7.72-7.72 1.47 1.35L5.41 20z\"/>\n",
              "  </svg>\n",
              "      </button>\n",
              "      \n",
              "  <style>\n",
              "    .colab-df-container {\n",
              "      display:flex;\n",
              "      flex-wrap:wrap;\n",
              "      gap: 12px;\n",
              "    }\n",
              "\n",
              "    .colab-df-convert {\n",
              "      background-color: #E8F0FE;\n",
              "      border: none;\n",
              "      border-radius: 50%;\n",
              "      cursor: pointer;\n",
              "      display: none;\n",
              "      fill: #1967D2;\n",
              "      height: 32px;\n",
              "      padding: 0 0 0 0;\n",
              "      width: 32px;\n",
              "    }\n",
              "\n",
              "    .colab-df-convert:hover {\n",
              "      background-color: #E2EBFA;\n",
              "      box-shadow: 0px 1px 2px rgba(60, 64, 67, 0.3), 0px 1px 3px 1px rgba(60, 64, 67, 0.15);\n",
              "      fill: #174EA6;\n",
              "    }\n",
              "\n",
              "    [theme=dark] .colab-df-convert {\n",
              "      background-color: #3B4455;\n",
              "      fill: #D2E3FC;\n",
              "    }\n",
              "\n",
              "    [theme=dark] .colab-df-convert:hover {\n",
              "      background-color: #434B5C;\n",
              "      box-shadow: 0px 1px 3px 1px rgba(0, 0, 0, 0.15);\n",
              "      filter: drop-shadow(0px 1px 2px rgba(0, 0, 0, 0.3));\n",
              "      fill: #FFFFFF;\n",
              "    }\n",
              "  </style>\n",
              "\n",
              "      <script>\n",
              "        const buttonEl =\n",
              "          document.querySelector('#df-23db3e9c-f784-48fc-851c-5bdff1852132 button.colab-df-convert');\n",
              "        buttonEl.style.display =\n",
              "          google.colab.kernel.accessAllowed ? 'block' : 'none';\n",
              "\n",
              "        async function convertToInteractive(key) {\n",
              "          const element = document.querySelector('#df-23db3e9c-f784-48fc-851c-5bdff1852132');\n",
              "          const dataTable =\n",
              "            await google.colab.kernel.invokeFunction('convertToInteractive',\n",
              "                                                     [key], {});\n",
              "          if (!dataTable) return;\n",
              "\n",
              "          const docLinkHtml = 'Like what you see? Visit the ' +\n",
              "            '<a target=\"_blank\" href=https://colab.research.google.com/notebooks/data_table.ipynb>data table notebook</a>'\n",
              "            + ' to learn more about interactive tables.';\n",
              "          element.innerHTML = '';\n",
              "          dataTable['output_type'] = 'display_data';\n",
              "          await google.colab.output.renderOutput(dataTable, element);\n",
              "          const docLink = document.createElement('div');\n",
              "          docLink.innerHTML = docLinkHtml;\n",
              "          element.appendChild(docLink);\n",
              "        }\n",
              "      </script>\n",
              "    </div>\n",
              "  </div>\n",
              "  "
            ]
          },
          "metadata": {},
          "execution_count": 228
        }
      ]
    },
    {
      "cell_type": "code",
      "source": [
        "df_filtered = df_final[~df_final['Idade'].str.contains('Não respondeu')]"
      ],
      "metadata": {
        "id": "w7SXOi4tV_8F"
      },
      "execution_count": null,
      "outputs": []
    },
    {
      "cell_type": "code",
      "source": [
        "df_filtered.shape"
      ],
      "metadata": {
        "colab": {
          "base_uri": "https://localhost:8080/"
        },
        "id": "W8F0A5_-q1Oq",
        "outputId": "2785b7e2-5c41-4cc9-92cc-49497e928e21"
      },
      "execution_count": null,
      "outputs": [
        {
          "output_type": "execute_result",
          "data": {
            "text/plain": [
              "(22079, 14)"
            ]
          },
          "metadata": {},
          "execution_count": 230
        }
      ]
    },
    {
      "cell_type": "code",
      "source": [
        "df_filtered.head()"
      ],
      "metadata": {
        "colab": {
          "base_uri": "https://localhost:8080/",
          "height": 339
        },
        "id": "4hJ_pIDAaEVI",
        "outputId": "552f7c33-9dbb-4294-8ce2-c989790808db"
      },
      "execution_count": 405,
      "outputs": [
        {
          "output_type": "execute_result",
          "data": {
            "text/plain": [
              "  Idade  Situação de rua_Acolhido  Situação de rua_Rua  \\\n",
              "1    38                         1                    0   \n",
              "2    27                         0                    1   \n",
              "3    15                         0                    1   \n",
              "6    43                         0                    1   \n",
              "8    44                         1                    0   \n",
              "\n",
              "   Onde dormiu ontem_Casa de amigos/parentes  Onde dormiu ontem_Casa própria  \\\n",
              "1                                          0                               0   \n",
              "2                                          0                               0   \n",
              "3                                          0                               0   \n",
              "6                                          0                               0   \n",
              "8                                          0                               0   \n",
              "\n",
              "   Onde dormiu ontem_Neste centro de acolhida (aqui)  \\\n",
              "1                                                  0   \n",
              "2                                                  0   \n",
              "3                                                  0   \n",
              "6                                                  0   \n",
              "8                                                  1   \n",
              "\n",
              "   Onde dormiu ontem_Não respondeu/Não sabe  Onde dormiu ontem_Não se aplica  \\\n",
              "1                                         0                                0   \n",
              "2                                         0                                1   \n",
              "3                                         0                                1   \n",
              "6                                         0                                1   \n",
              "8                                         0                                0   \n",
              "\n",
              "   Onde dormiu ontem_Outro  Onde dormiu ontem_Outro centro de acolhida  \\\n",
              "1                        0                                           0   \n",
              "2                        0                                           0   \n",
              "3                        0                                           0   \n",
              "6                        0                                           0   \n",
              "8                        0                                           0   \n",
              "\n",
              "   Onde dormiu ontem_Rua  Sexo_Feminino  Sexo_Masculino  \\\n",
              "1                      1              0               1   \n",
              "2                      0              1               0   \n",
              "3                      0              0               1   \n",
              "6                      0              0               1   \n",
              "8                      0              1               0   \n",
              "\n",
              "   Sexo_Sem identificação  \n",
              "1                       0  \n",
              "2                       0  \n",
              "3                       0  \n",
              "6                       0  \n",
              "8                       0  "
            ],
            "text/html": [
              "\n",
              "  <div id=\"df-e2a16baf-ac84-4b94-ab4c-f694e566ac2c\">\n",
              "    <div class=\"colab-df-container\">\n",
              "      <div>\n",
              "<style scoped>\n",
              "    .dataframe tbody tr th:only-of-type {\n",
              "        vertical-align: middle;\n",
              "    }\n",
              "\n",
              "    .dataframe tbody tr th {\n",
              "        vertical-align: top;\n",
              "    }\n",
              "\n",
              "    .dataframe thead th {\n",
              "        text-align: right;\n",
              "    }\n",
              "</style>\n",
              "<table border=\"1\" class=\"dataframe\">\n",
              "  <thead>\n",
              "    <tr style=\"text-align: right;\">\n",
              "      <th></th>\n",
              "      <th>Idade</th>\n",
              "      <th>Situação de rua_Acolhido</th>\n",
              "      <th>Situação de rua_Rua</th>\n",
              "      <th>Onde dormiu ontem_Casa de amigos/parentes</th>\n",
              "      <th>Onde dormiu ontem_Casa própria</th>\n",
              "      <th>Onde dormiu ontem_Neste centro de acolhida (aqui)</th>\n",
              "      <th>Onde dormiu ontem_Não respondeu/Não sabe</th>\n",
              "      <th>Onde dormiu ontem_Não se aplica</th>\n",
              "      <th>Onde dormiu ontem_Outro</th>\n",
              "      <th>Onde dormiu ontem_Outro centro de acolhida</th>\n",
              "      <th>Onde dormiu ontem_Rua</th>\n",
              "      <th>Sexo_Feminino</th>\n",
              "      <th>Sexo_Masculino</th>\n",
              "      <th>Sexo_Sem identificação</th>\n",
              "    </tr>\n",
              "  </thead>\n",
              "  <tbody>\n",
              "    <tr>\n",
              "      <th>1</th>\n",
              "      <td>38</td>\n",
              "      <td>1</td>\n",
              "      <td>0</td>\n",
              "      <td>0</td>\n",
              "      <td>0</td>\n",
              "      <td>0</td>\n",
              "      <td>0</td>\n",
              "      <td>0</td>\n",
              "      <td>0</td>\n",
              "      <td>0</td>\n",
              "      <td>1</td>\n",
              "      <td>0</td>\n",
              "      <td>1</td>\n",
              "      <td>0</td>\n",
              "    </tr>\n",
              "    <tr>\n",
              "      <th>2</th>\n",
              "      <td>27</td>\n",
              "      <td>0</td>\n",
              "      <td>1</td>\n",
              "      <td>0</td>\n",
              "      <td>0</td>\n",
              "      <td>0</td>\n",
              "      <td>0</td>\n",
              "      <td>1</td>\n",
              "      <td>0</td>\n",
              "      <td>0</td>\n",
              "      <td>0</td>\n",
              "      <td>1</td>\n",
              "      <td>0</td>\n",
              "      <td>0</td>\n",
              "    </tr>\n",
              "    <tr>\n",
              "      <th>3</th>\n",
              "      <td>15</td>\n",
              "      <td>0</td>\n",
              "      <td>1</td>\n",
              "      <td>0</td>\n",
              "      <td>0</td>\n",
              "      <td>0</td>\n",
              "      <td>0</td>\n",
              "      <td>1</td>\n",
              "      <td>0</td>\n",
              "      <td>0</td>\n",
              "      <td>0</td>\n",
              "      <td>0</td>\n",
              "      <td>1</td>\n",
              "      <td>0</td>\n",
              "    </tr>\n",
              "    <tr>\n",
              "      <th>6</th>\n",
              "      <td>43</td>\n",
              "      <td>0</td>\n",
              "      <td>1</td>\n",
              "      <td>0</td>\n",
              "      <td>0</td>\n",
              "      <td>0</td>\n",
              "      <td>0</td>\n",
              "      <td>1</td>\n",
              "      <td>0</td>\n",
              "      <td>0</td>\n",
              "      <td>0</td>\n",
              "      <td>0</td>\n",
              "      <td>1</td>\n",
              "      <td>0</td>\n",
              "    </tr>\n",
              "    <tr>\n",
              "      <th>8</th>\n",
              "      <td>44</td>\n",
              "      <td>1</td>\n",
              "      <td>0</td>\n",
              "      <td>0</td>\n",
              "      <td>0</td>\n",
              "      <td>1</td>\n",
              "      <td>0</td>\n",
              "      <td>0</td>\n",
              "      <td>0</td>\n",
              "      <td>0</td>\n",
              "      <td>0</td>\n",
              "      <td>1</td>\n",
              "      <td>0</td>\n",
              "      <td>0</td>\n",
              "    </tr>\n",
              "  </tbody>\n",
              "</table>\n",
              "</div>\n",
              "      <button class=\"colab-df-convert\" onclick=\"convertToInteractive('df-e2a16baf-ac84-4b94-ab4c-f694e566ac2c')\"\n",
              "              title=\"Convert this dataframe to an interactive table.\"\n",
              "              style=\"display:none;\">\n",
              "        \n",
              "  <svg xmlns=\"http://www.w3.org/2000/svg\" height=\"24px\"viewBox=\"0 0 24 24\"\n",
              "       width=\"24px\">\n",
              "    <path d=\"M0 0h24v24H0V0z\" fill=\"none\"/>\n",
              "    <path d=\"M18.56 5.44l.94 2.06.94-2.06 2.06-.94-2.06-.94-.94-2.06-.94 2.06-2.06.94zm-11 1L8.5 8.5l.94-2.06 2.06-.94-2.06-.94L8.5 2.5l-.94 2.06-2.06.94zm10 10l.94 2.06.94-2.06 2.06-.94-2.06-.94-.94-2.06-.94 2.06-2.06.94z\"/><path d=\"M17.41 7.96l-1.37-1.37c-.4-.4-.92-.59-1.43-.59-.52 0-1.04.2-1.43.59L10.3 9.45l-7.72 7.72c-.78.78-.78 2.05 0 2.83L4 21.41c.39.39.9.59 1.41.59.51 0 1.02-.2 1.41-.59l7.78-7.78 2.81-2.81c.8-.78.8-2.07 0-2.86zM5.41 20L4 18.59l7.72-7.72 1.47 1.35L5.41 20z\"/>\n",
              "  </svg>\n",
              "      </button>\n",
              "      \n",
              "  <style>\n",
              "    .colab-df-container {\n",
              "      display:flex;\n",
              "      flex-wrap:wrap;\n",
              "      gap: 12px;\n",
              "    }\n",
              "\n",
              "    .colab-df-convert {\n",
              "      background-color: #E8F0FE;\n",
              "      border: none;\n",
              "      border-radius: 50%;\n",
              "      cursor: pointer;\n",
              "      display: none;\n",
              "      fill: #1967D2;\n",
              "      height: 32px;\n",
              "      padding: 0 0 0 0;\n",
              "      width: 32px;\n",
              "    }\n",
              "\n",
              "    .colab-df-convert:hover {\n",
              "      background-color: #E2EBFA;\n",
              "      box-shadow: 0px 1px 2px rgba(60, 64, 67, 0.3), 0px 1px 3px 1px rgba(60, 64, 67, 0.15);\n",
              "      fill: #174EA6;\n",
              "    }\n",
              "\n",
              "    [theme=dark] .colab-df-convert {\n",
              "      background-color: #3B4455;\n",
              "      fill: #D2E3FC;\n",
              "    }\n",
              "\n",
              "    [theme=dark] .colab-df-convert:hover {\n",
              "      background-color: #434B5C;\n",
              "      box-shadow: 0px 1px 3px 1px rgba(0, 0, 0, 0.15);\n",
              "      filter: drop-shadow(0px 1px 2px rgba(0, 0, 0, 0.3));\n",
              "      fill: #FFFFFF;\n",
              "    }\n",
              "  </style>\n",
              "\n",
              "      <script>\n",
              "        const buttonEl =\n",
              "          document.querySelector('#df-e2a16baf-ac84-4b94-ab4c-f694e566ac2c button.colab-df-convert');\n",
              "        buttonEl.style.display =\n",
              "          google.colab.kernel.accessAllowed ? 'block' : 'none';\n",
              "\n",
              "        async function convertToInteractive(key) {\n",
              "          const element = document.querySelector('#df-e2a16baf-ac84-4b94-ab4c-f694e566ac2c');\n",
              "          const dataTable =\n",
              "            await google.colab.kernel.invokeFunction('convertToInteractive',\n",
              "                                                     [key], {});\n",
              "          if (!dataTable) return;\n",
              "\n",
              "          const docLinkHtml = 'Like what you see? Visit the ' +\n",
              "            '<a target=\"_blank\" href=https://colab.research.google.com/notebooks/data_table.ipynb>data table notebook</a>'\n",
              "            + ' to learn more about interactive tables.';\n",
              "          element.innerHTML = '';\n",
              "          dataTable['output_type'] = 'display_data';\n",
              "          await google.colab.output.renderOutput(dataTable, element);\n",
              "          const docLink = document.createElement('div');\n",
              "          docLink.innerHTML = docLinkHtml;\n",
              "          element.appendChild(docLink);\n",
              "        }\n",
              "      </script>\n",
              "    </div>\n",
              "  </div>\n",
              "  "
            ]
          },
          "metadata": {},
          "execution_count": 405
        }
      ]
    },
    {
      "cell_type": "code",
      "source": [
        "df_filtered.shape"
      ],
      "metadata": {
        "colab": {
          "base_uri": "https://localhost:8080/"
        },
        "id": "EcafQzFFWhdz",
        "outputId": "d551f27d-d116-41a7-a768-160ac2582249"
      },
      "execution_count": 433,
      "outputs": [
        {
          "output_type": "execute_result",
          "data": {
            "text/plain": [
              "(22079, 14)"
            ]
          },
          "metadata": {},
          "execution_count": 433
        }
      ]
    },
    {
      "cell_type": "code",
      "source": [
        "from sklearn.tree import DecisionTreeRegressor\n",
        "from sklearn.tree import DecisionTreeClassifier, export_graphviz\n",
        "from sklearn.model_selection import train_test_split\n",
        "from sklearn.metrics import mean_absolute_error\n",
        "from sklearn.metrics import mean_squared_error\n"
      ],
      "metadata": {
        "id": "ZdbRyj8zW8gW"
      },
      "execution_count": null,
      "outputs": []
    },
    {
      "cell_type": "code",
      "source": [
        "features = df_filtered.iloc[:, 1:]\n",
        "target = df_filtered['Idade']"
      ],
      "metadata": {
        "id": "oOvzKZ3YYd_e"
      },
      "execution_count": 437,
      "outputs": []
    },
    {
      "cell_type": "code",
      "source": [
        "features.head()"
      ],
      "metadata": {
        "colab": {
          "base_uri": "https://localhost:8080/",
          "height": 339
        },
        "id": "Be8s0D3WfVag",
        "outputId": "4c52f421-ae91-4cb2-f41a-f847b70b4af9"
      },
      "execution_count": 438,
      "outputs": [
        {
          "output_type": "execute_result",
          "data": {
            "text/plain": [
              "   Situação de rua_Acolhido  Situação de rua_Rua  \\\n",
              "1                         1                    0   \n",
              "2                         0                    1   \n",
              "3                         0                    1   \n",
              "6                         0                    1   \n",
              "8                         1                    0   \n",
              "\n",
              "   Onde dormiu ontem_Casa de amigos/parentes  Onde dormiu ontem_Casa própria  \\\n",
              "1                                          0                               0   \n",
              "2                                          0                               0   \n",
              "3                                          0                               0   \n",
              "6                                          0                               0   \n",
              "8                                          0                               0   \n",
              "\n",
              "   Onde dormiu ontem_Neste centro de acolhida (aqui)  \\\n",
              "1                                                  0   \n",
              "2                                                  0   \n",
              "3                                                  0   \n",
              "6                                                  0   \n",
              "8                                                  1   \n",
              "\n",
              "   Onde dormiu ontem_Não respondeu/Não sabe  Onde dormiu ontem_Não se aplica  \\\n",
              "1                                         0                                0   \n",
              "2                                         0                                1   \n",
              "3                                         0                                1   \n",
              "6                                         0                                1   \n",
              "8                                         0                                0   \n",
              "\n",
              "   Onde dormiu ontem_Outro  Onde dormiu ontem_Outro centro de acolhida  \\\n",
              "1                        0                                           0   \n",
              "2                        0                                           0   \n",
              "3                        0                                           0   \n",
              "6                        0                                           0   \n",
              "8                        0                                           0   \n",
              "\n",
              "   Onde dormiu ontem_Rua  Sexo_Feminino  Sexo_Masculino  \\\n",
              "1                      1              0               1   \n",
              "2                      0              1               0   \n",
              "3                      0              0               1   \n",
              "6                      0              0               1   \n",
              "8                      0              1               0   \n",
              "\n",
              "   Sexo_Sem identificação  \n",
              "1                       0  \n",
              "2                       0  \n",
              "3                       0  \n",
              "6                       0  \n",
              "8                       0  "
            ],
            "text/html": [
              "\n",
              "  <div id=\"df-dd4a4c51-1cb7-4dd0-8e41-7a200e12d18d\">\n",
              "    <div class=\"colab-df-container\">\n",
              "      <div>\n",
              "<style scoped>\n",
              "    .dataframe tbody tr th:only-of-type {\n",
              "        vertical-align: middle;\n",
              "    }\n",
              "\n",
              "    .dataframe tbody tr th {\n",
              "        vertical-align: top;\n",
              "    }\n",
              "\n",
              "    .dataframe thead th {\n",
              "        text-align: right;\n",
              "    }\n",
              "</style>\n",
              "<table border=\"1\" class=\"dataframe\">\n",
              "  <thead>\n",
              "    <tr style=\"text-align: right;\">\n",
              "      <th></th>\n",
              "      <th>Situação de rua_Acolhido</th>\n",
              "      <th>Situação de rua_Rua</th>\n",
              "      <th>Onde dormiu ontem_Casa de amigos/parentes</th>\n",
              "      <th>Onde dormiu ontem_Casa própria</th>\n",
              "      <th>Onde dormiu ontem_Neste centro de acolhida (aqui)</th>\n",
              "      <th>Onde dormiu ontem_Não respondeu/Não sabe</th>\n",
              "      <th>Onde dormiu ontem_Não se aplica</th>\n",
              "      <th>Onde dormiu ontem_Outro</th>\n",
              "      <th>Onde dormiu ontem_Outro centro de acolhida</th>\n",
              "      <th>Onde dormiu ontem_Rua</th>\n",
              "      <th>Sexo_Feminino</th>\n",
              "      <th>Sexo_Masculino</th>\n",
              "      <th>Sexo_Sem identificação</th>\n",
              "    </tr>\n",
              "  </thead>\n",
              "  <tbody>\n",
              "    <tr>\n",
              "      <th>1</th>\n",
              "      <td>1</td>\n",
              "      <td>0</td>\n",
              "      <td>0</td>\n",
              "      <td>0</td>\n",
              "      <td>0</td>\n",
              "      <td>0</td>\n",
              "      <td>0</td>\n",
              "      <td>0</td>\n",
              "      <td>0</td>\n",
              "      <td>1</td>\n",
              "      <td>0</td>\n",
              "      <td>1</td>\n",
              "      <td>0</td>\n",
              "    </tr>\n",
              "    <tr>\n",
              "      <th>2</th>\n",
              "      <td>0</td>\n",
              "      <td>1</td>\n",
              "      <td>0</td>\n",
              "      <td>0</td>\n",
              "      <td>0</td>\n",
              "      <td>0</td>\n",
              "      <td>1</td>\n",
              "      <td>0</td>\n",
              "      <td>0</td>\n",
              "      <td>0</td>\n",
              "      <td>1</td>\n",
              "      <td>0</td>\n",
              "      <td>0</td>\n",
              "    </tr>\n",
              "    <tr>\n",
              "      <th>3</th>\n",
              "      <td>0</td>\n",
              "      <td>1</td>\n",
              "      <td>0</td>\n",
              "      <td>0</td>\n",
              "      <td>0</td>\n",
              "      <td>0</td>\n",
              "      <td>1</td>\n",
              "      <td>0</td>\n",
              "      <td>0</td>\n",
              "      <td>0</td>\n",
              "      <td>0</td>\n",
              "      <td>1</td>\n",
              "      <td>0</td>\n",
              "    </tr>\n",
              "    <tr>\n",
              "      <th>6</th>\n",
              "      <td>0</td>\n",
              "      <td>1</td>\n",
              "      <td>0</td>\n",
              "      <td>0</td>\n",
              "      <td>0</td>\n",
              "      <td>0</td>\n",
              "      <td>1</td>\n",
              "      <td>0</td>\n",
              "      <td>0</td>\n",
              "      <td>0</td>\n",
              "      <td>0</td>\n",
              "      <td>1</td>\n",
              "      <td>0</td>\n",
              "    </tr>\n",
              "    <tr>\n",
              "      <th>8</th>\n",
              "      <td>1</td>\n",
              "      <td>0</td>\n",
              "      <td>0</td>\n",
              "      <td>0</td>\n",
              "      <td>1</td>\n",
              "      <td>0</td>\n",
              "      <td>0</td>\n",
              "      <td>0</td>\n",
              "      <td>0</td>\n",
              "      <td>0</td>\n",
              "      <td>1</td>\n",
              "      <td>0</td>\n",
              "      <td>0</td>\n",
              "    </tr>\n",
              "  </tbody>\n",
              "</table>\n",
              "</div>\n",
              "      <button class=\"colab-df-convert\" onclick=\"convertToInteractive('df-dd4a4c51-1cb7-4dd0-8e41-7a200e12d18d')\"\n",
              "              title=\"Convert this dataframe to an interactive table.\"\n",
              "              style=\"display:none;\">\n",
              "        \n",
              "  <svg xmlns=\"http://www.w3.org/2000/svg\" height=\"24px\"viewBox=\"0 0 24 24\"\n",
              "       width=\"24px\">\n",
              "    <path d=\"M0 0h24v24H0V0z\" fill=\"none\"/>\n",
              "    <path d=\"M18.56 5.44l.94 2.06.94-2.06 2.06-.94-2.06-.94-.94-2.06-.94 2.06-2.06.94zm-11 1L8.5 8.5l.94-2.06 2.06-.94-2.06-.94L8.5 2.5l-.94 2.06-2.06.94zm10 10l.94 2.06.94-2.06 2.06-.94-2.06-.94-.94-2.06-.94 2.06-2.06.94z\"/><path d=\"M17.41 7.96l-1.37-1.37c-.4-.4-.92-.59-1.43-.59-.52 0-1.04.2-1.43.59L10.3 9.45l-7.72 7.72c-.78.78-.78 2.05 0 2.83L4 21.41c.39.39.9.59 1.41.59.51 0 1.02-.2 1.41-.59l7.78-7.78 2.81-2.81c.8-.78.8-2.07 0-2.86zM5.41 20L4 18.59l7.72-7.72 1.47 1.35L5.41 20z\"/>\n",
              "  </svg>\n",
              "      </button>\n",
              "      \n",
              "  <style>\n",
              "    .colab-df-container {\n",
              "      display:flex;\n",
              "      flex-wrap:wrap;\n",
              "      gap: 12px;\n",
              "    }\n",
              "\n",
              "    .colab-df-convert {\n",
              "      background-color: #E8F0FE;\n",
              "      border: none;\n",
              "      border-radius: 50%;\n",
              "      cursor: pointer;\n",
              "      display: none;\n",
              "      fill: #1967D2;\n",
              "      height: 32px;\n",
              "      padding: 0 0 0 0;\n",
              "      width: 32px;\n",
              "    }\n",
              "\n",
              "    .colab-df-convert:hover {\n",
              "      background-color: #E2EBFA;\n",
              "      box-shadow: 0px 1px 2px rgba(60, 64, 67, 0.3), 0px 1px 3px 1px rgba(60, 64, 67, 0.15);\n",
              "      fill: #174EA6;\n",
              "    }\n",
              "\n",
              "    [theme=dark] .colab-df-convert {\n",
              "      background-color: #3B4455;\n",
              "      fill: #D2E3FC;\n",
              "    }\n",
              "\n",
              "    [theme=dark] .colab-df-convert:hover {\n",
              "      background-color: #434B5C;\n",
              "      box-shadow: 0px 1px 3px 1px rgba(0, 0, 0, 0.15);\n",
              "      filter: drop-shadow(0px 1px 2px rgba(0, 0, 0, 0.3));\n",
              "      fill: #FFFFFF;\n",
              "    }\n",
              "  </style>\n",
              "\n",
              "      <script>\n",
              "        const buttonEl =\n",
              "          document.querySelector('#df-dd4a4c51-1cb7-4dd0-8e41-7a200e12d18d button.colab-df-convert');\n",
              "        buttonEl.style.display =\n",
              "          google.colab.kernel.accessAllowed ? 'block' : 'none';\n",
              "\n",
              "        async function convertToInteractive(key) {\n",
              "          const element = document.querySelector('#df-dd4a4c51-1cb7-4dd0-8e41-7a200e12d18d');\n",
              "          const dataTable =\n",
              "            await google.colab.kernel.invokeFunction('convertToInteractive',\n",
              "                                                     [key], {});\n",
              "          if (!dataTable) return;\n",
              "\n",
              "          const docLinkHtml = 'Like what you see? Visit the ' +\n",
              "            '<a target=\"_blank\" href=https://colab.research.google.com/notebooks/data_table.ipynb>data table notebook</a>'\n",
              "            + ' to learn more about interactive tables.';\n",
              "          element.innerHTML = '';\n",
              "          dataTable['output_type'] = 'display_data';\n",
              "          await google.colab.output.renderOutput(dataTable, element);\n",
              "          const docLink = document.createElement('div');\n",
              "          docLink.innerHTML = docLinkHtml;\n",
              "          element.appendChild(docLink);\n",
              "        }\n",
              "      </script>\n",
              "    </div>\n",
              "  </div>\n",
              "  "
            ]
          },
          "metadata": {},
          "execution_count": 438
        }
      ]
    },
    {
      "cell_type": "code",
      "source": [
        "target.head()"
      ],
      "metadata": {
        "colab": {
          "base_uri": "https://localhost:8080/"
        },
        "id": "wv1dv4WVjnAj",
        "outputId": "edf6b0db-d160-4689-d87a-e91d155c4270"
      },
      "execution_count": 439,
      "outputs": [
        {
          "output_type": "execute_result",
          "data": {
            "text/plain": [
              "1    38\n",
              "2    27\n",
              "3    15\n",
              "6    43\n",
              "8    44\n",
              "Name: Idade, dtype: object"
            ]
          },
          "metadata": {},
          "execution_count": 439
        }
      ]
    },
    {
      "cell_type": "code",
      "source": [
        "train_data, test_data, train_target, test_target = train_test_split(features, target, test_size=0.2, random_state=42)"
      ],
      "metadata": {
        "id": "xKhn6eOAZoGx"
      },
      "execution_count": 440,
      "outputs": []
    },
    {
      "cell_type": "code",
      "source": [
        "model = DecisionTreeRegressor()\n"
      ],
      "metadata": {
        "id": "_ROwXvAPZ4mu"
      },
      "execution_count": 441,
      "outputs": []
    },
    {
      "cell_type": "code",
      "source": [
        "model.fit(train_data, train_target)"
      ],
      "metadata": {
        "id": "75qjLbGNjaUV"
      },
      "execution_count": null,
      "outputs": []
    },
    {
      "cell_type": "code",
      "source": [
        "# Fazer previsões no conjunto de teste\n",
        "predictions = model.predict(test_data)"
      ],
      "metadata": {
        "id": "A8Lwbd8LiHz6"
      },
      "execution_count": 443,
      "outputs": []
    },
    {
      "cell_type": "code",
      "source": [
        "predictions = model.predict(test_data)"
      ],
      "metadata": {
        "id": "PEKPa77ybVKp"
      },
      "execution_count": 444,
      "outputs": []
    },
    {
      "cell_type": "code",
      "source": [
        "predictions"
      ],
      "metadata": {
        "colab": {
          "base_uri": "https://localhost:8080/"
        },
        "id": "TEuiPLhYcqfK",
        "outputId": "aa299a32-95c7-4c82-8ea6-ea79b36b15c8"
      },
      "execution_count": 445,
      "outputs": [
        {
          "output_type": "execute_result",
          "data": {
            "text/plain": [
              "array([39.37432744, 39.37432744, 40.33990936, ..., 40.33990936,\n",
              "       38.88537794, 38.88537794])"
            ]
          },
          "metadata": {},
          "execution_count": 445
        }
      ]
    },
    {
      "cell_type": "code",
      "source": [
        "mae = mean_absolute_error(test_target, predictions)\n",
        "print('Erro médio absoluto:', mae)"
      ],
      "metadata": {
        "colab": {
          "base_uri": "https://localhost:8080/"
        },
        "id": "MxlDN6ZNaSr3",
        "outputId": "5d01a31b-bfea-4c6c-afbe-9222b5ab4237"
      },
      "execution_count": 446,
      "outputs": [
        {
          "output_type": "stream",
          "name": "stdout",
          "text": [
            "Erro médio absoluto: 10.936577936797752\n"
          ]
        }
      ]
    },
    {
      "cell_type": "code",
      "source": [
        "### Novos Dados ###\n"
      ],
      "metadata": {
        "id": "Sablt8y5uSTr"
      },
      "execution_count": 449,
      "outputs": []
    },
    {
      "cell_type": "code",
      "source": [
        "test_target"
      ],
      "metadata": {
        "id": "__Uy_ZBN74Jg"
      },
      "execution_count": null,
      "outputs": []
    },
    {
      "cell_type": "code",
      "source": [
        "test_target.loc[28352]"
      ],
      "metadata": {
        "colab": {
          "base_uri": "https://localhost:8080/",
          "height": 36
        },
        "id": "SVwe1GNYappA",
        "outputId": "54bed722-db98-4451-dd87-14623992105b"
      },
      "execution_count": 451,
      "outputs": [
        {
          "output_type": "execute_result",
          "data": {
            "text/plain": [
              "'33'"
            ],
            "application/vnd.google.colaboratory.intrinsic+json": {
              "type": "string"
            }
          },
          "metadata": {},
          "execution_count": 451
        }
      ]
    },
    {
      "cell_type": "code",
      "source": [
        "test_data.loc[28352]"
      ],
      "metadata": {
        "colab": {
          "base_uri": "https://localhost:8080/"
        },
        "id": "FwDAwuRWa4kH",
        "outputId": "9ebe9d82-8526-48ad-a1b8-556cc46f7500"
      },
      "execution_count": 454,
      "outputs": [
        {
          "output_type": "execute_result",
          "data": {
            "text/plain": [
              "Situação de rua_Acolhido                             1\n",
              "Situação de rua_Rua                                  0\n",
              "Onde dormiu ontem_Casa de amigos/parentes            0\n",
              "Onde dormiu ontem_Casa própria                       0\n",
              "Onde dormiu ontem_Neste centro de acolhida (aqui)    1\n",
              "Onde dormiu ontem_Não respondeu/Não sabe             0\n",
              "Onde dormiu ontem_Não se aplica                      0\n",
              "Onde dormiu ontem_Outro                              0\n",
              "Onde dormiu ontem_Outro centro de acolhida           0\n",
              "Onde dormiu ontem_Rua                                0\n",
              "Sexo_Feminino                                        1\n",
              "Sexo_Masculino                                       0\n",
              "Sexo_Sem identificação                               0\n",
              "Name: 28352, dtype: uint8"
            ]
          },
          "metadata": {},
          "execution_count": 454
        }
      ]
    },
    {
      "cell_type": "code",
      "source": [
        "teste_data1 = pd.Series([1, 0, 0, 0, 1, 0, 0, 0, 0, 0, 1, 0, 0])\n",
        "#teste_data1 = pd.Series([0])"
      ],
      "metadata": {
        "id": "AiQmxHRwuJqO"
      },
      "execution_count": 455,
      "outputs": []
    },
    {
      "cell_type": "code",
      "source": [
        "pred = model.predict(test_data1)"
      ],
      "metadata": {
        "colab": {
          "base_uri": "https://localhost:8080/"
        },
        "id": "8JxMzri4uxSs",
        "outputId": "d96887c2-cd45-40ac-d3b0-e57d1ce67ee7"
      },
      "execution_count": 456,
      "outputs": [
        {
          "output_type": "stream",
          "name": "stderr",
          "text": [
            "/usr/local/lib/python3.9/dist-packages/sklearn/base.py:439: UserWarning: X does not have valid feature names, but DecisionTreeRegressor was fitted with feature names\n",
            "  warnings.warn(\n"
          ]
        }
      ]
    },
    {
      "cell_type": "code",
      "source": [
        "pred"
      ],
      "metadata": {
        "colab": {
          "base_uri": "https://localhost:8080/"
        },
        "id": "aQoTsLzD5ZNQ",
        "outputId": "b3dd2365-e1a2-419f-82bb-728db52db32d"
      },
      "execution_count": 457,
      "outputs": [
        {
          "output_type": "execute_result",
          "data": {
            "text/plain": [
              "array([38.88537794])"
            ]
          },
          "metadata": {},
          "execution_count": 457
        }
      ]
    },
    {
      "cell_type": "code",
      "source": [
        "import graphviz\n"
      ],
      "metadata": {
        "id": "0jN-CAbsvueM"
      },
      "execution_count": 458,
      "outputs": []
    },
    {
      "cell_type": "code",
      "source": [
        "features.shape"
      ],
      "metadata": {
        "colab": {
          "base_uri": "https://localhost:8080/"
        },
        "id": "6UXMQQmCyoUR",
        "outputId": "c088a4b1-686f-4e41-c6ea-8923d8fc678d"
      },
      "execution_count": 459,
      "outputs": [
        {
          "output_type": "execute_result",
          "data": {
            "text/plain": [
              "(22079, 13)"
            ]
          },
          "metadata": {},
          "execution_count": 459
        }
      ]
    },
    {
      "cell_type": "code",
      "source": [
        "target.shape"
      ],
      "metadata": {
        "colab": {
          "base_uri": "https://localhost:8080/"
        },
        "id": "6erkwMVnzuLf",
        "outputId": "f3b21385-428b-4d43-851d-aa61a97f3878"
      },
      "execution_count": 460,
      "outputs": [
        {
          "output_type": "execute_result",
          "data": {
            "text/plain": [
              "(22079,)"
            ]
          },
          "metadata": {},
          "execution_count": 460
        }
      ]
    },
    {
      "cell_type": "code",
      "source": [
        "col_names = features.columns.tolist()\n"
      ],
      "metadata": {
        "id": "ywIEv5ak0Xbr"
      },
      "execution_count": 461,
      "outputs": []
    },
    {
      "cell_type": "code",
      "source": [
        "col_names"
      ],
      "metadata": {
        "id": "bAoDjKYc0c2O"
      },
      "execution_count": null,
      "outputs": []
    },
    {
      "cell_type": "code",
      "source": [
        "dot_file = export_graphviz(model, out_file=None, feature_names=col_names, class_names=target)\n",
        "# exibe a árvore de decisão\n",
        "graph = graphviz.Source(dot_file)\n",
        "graph.view()"
      ],
      "metadata": {
        "colab": {
          "base_uri": "https://localhost:8080/",
          "height": 36
        },
        "id": "3TAzSMbCvvwr",
        "outputId": "4fc872b1-31ee-42d4-8de3-03eed9fb2511"
      },
      "execution_count": 463,
      "outputs": [
        {
          "output_type": "execute_result",
          "data": {
            "text/plain": [
              "'Source.gv.pdf'"
            ],
            "application/vnd.google.colaboratory.intrinsic+json": {
              "type": "string"
            }
          },
          "metadata": {},
          "execution_count": 463
        }
      ]
    }
  ]
}