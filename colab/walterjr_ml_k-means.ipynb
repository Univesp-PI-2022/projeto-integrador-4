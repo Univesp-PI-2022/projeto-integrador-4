{
  "nbformat": 4,
  "nbformat_minor": 0,
  "metadata": {
    "colab": {
      "provenance": []
    },
    "kernelspec": {
      "name": "python3",
      "display_name": "Python 3"
    },
    "language_info": {
      "name": "python"
    }
  },
  "cells": [
    {
      "cell_type": "markdown",
      "source": [
        "Importando bibliotecas \n"
      ],
      "metadata": {
        "id": "mdWvsOFGAnfU"
      }
    },
    {
      "cell_type": "code",
      "execution_count": 1,
      "metadata": {
        "id": "DJmaiwCuAJm-"
      },
      "outputs": [],
      "source": [
        "import pandas as pd\n",
        "import folium\n",
        "import matplotlib.pyplot as plt"
      ]
    },
    {
      "cell_type": "code",
      "source": [
        "\n",
        "\n",
        "# Ler o arquivo CSV\n",
        "df = pd.read_csv('https://raw.githubusercontent.com/Univesp-PI-2022/projeto-integrador-4/main/dados/censo1.csv',sep=\";\")\n",
        "\n",
        "# Exibir o DataFrame resultante\n",
        "df.head()\n"
      ],
      "metadata": {
        "colab": {
          "base_uri": "https://localhost:8080/",
          "height": 455
        },
        "id": "JSMIGRZqHzE6",
        "outputId": "9983a9cb-e7cd-47b6-d5c1-f00f89dd2bbb"
      },
      "execution_count": 2,
      "outputs": [
        {
          "output_type": "execute_result",
          "data": {
            "text/plain": [
              "   ID Situação de rua Onde dormiu ontem Tempo de permanência       Sexo  \\\n",
              "0   1             Rua     Não se aplica        Não se aplica   Feminino   \n",
              "1   2        Acolhido               Rua        Não se aplica  Masculino   \n",
              "2   3             Rua     Não se aplica        Não se aplica   Feminino   \n",
              "3   4             Rua     Não se aplica        Não se aplica  Masculino   \n",
              "4   5             Rua     Não se aplica        Não se aplica   Feminino   \n",
              "\n",
              "  Identifica com o sexo nasceu          Idade  Faixa de idade  \\\n",
              "0                Não respondeu  Não respondeu  Sem informação   \n",
              "1              Homem Cisgênero             38         31 a 49   \n",
              "2             Mulher Cisgênero             27         18 a 30   \n",
              "3              Homem Cisgênero             15         12 a 17   \n",
              "4             Mulher Cisgênero  Não respondeu  Sem informação   \n",
              "\n",
              "  Classificação de idade     Cor_Raça_Etnia  ...           Tempo na situação  \\\n",
              "0         Sem informação  Sem identificação  ...                       NR/NS   \n",
              "1                 Adulto              Parda  ...             Mais de 10 anos   \n",
              "2              Juventude              Parda  ...   Mais de 2 anos até 5 anos   \n",
              "3            Adolescente             Branca  ...  Mais de 5 anos até 10 anos   \n",
              "4         Sem informação  Sem identificação  ...                       NR/NS   \n",
              "\n",
              "      Tipo de ponto Presença_Moradia_Improvisada Criança_acomp_Adulto  \\\n",
              "0             Praça                          Não                  Não   \n",
              "1     Não se aplica                Não se aplica        Não se aplica   \n",
              "2             Praça                          Sim                  Não   \n",
              "3           Calçada                          Sim                  Não   \n",
              "4  Canteiro central                          Sim                  Não   \n",
              "\n",
              "  Criança_Sozinha           Latitude          Longitude      Data  \\\n",
              "0             Não  -23,4962781999999         -46,391831  10/25/21   \n",
              "1   Não se aplica        -23,5225168         -46,522712  10/25/21   \n",
              "2             Não        -23,5232932        -46,6549845   11/3/21   \n",
              "3             Não  -23,7430783949666  -46,6929477602377  10/27/21   \n",
              "4             Não        -23,5251419        -46,6255225   11/9/21   \n",
              "\n",
              "       Subprefeitura        Distrito  \n",
              "0     Itaim Paulista  Itaim Paulista  \n",
              "1              Penha           Penha  \n",
              "2                 Sé   Santa Cecília  \n",
              "3  Capela do Socorro          Grajaú  \n",
              "4              Mooca            Pari  \n",
              "\n",
              "[5 rows x 21 columns]"
            ],
            "text/html": [
              "\n",
              "  <div id=\"df-f0805e1a-ad05-40e6-9f10-b5c7634864f8\">\n",
              "    <div class=\"colab-df-container\">\n",
              "      <div>\n",
              "<style scoped>\n",
              "    .dataframe tbody tr th:only-of-type {\n",
              "        vertical-align: middle;\n",
              "    }\n",
              "\n",
              "    .dataframe tbody tr th {\n",
              "        vertical-align: top;\n",
              "    }\n",
              "\n",
              "    .dataframe thead th {\n",
              "        text-align: right;\n",
              "    }\n",
              "</style>\n",
              "<table border=\"1\" class=\"dataframe\">\n",
              "  <thead>\n",
              "    <tr style=\"text-align: right;\">\n",
              "      <th></th>\n",
              "      <th>ID</th>\n",
              "      <th>Situação de rua</th>\n",
              "      <th>Onde dormiu ontem</th>\n",
              "      <th>Tempo de permanência</th>\n",
              "      <th>Sexo</th>\n",
              "      <th>Identifica com o sexo nasceu</th>\n",
              "      <th>Idade</th>\n",
              "      <th>Faixa de idade</th>\n",
              "      <th>Classificação de idade</th>\n",
              "      <th>Cor_Raça_Etnia</th>\n",
              "      <th>...</th>\n",
              "      <th>Tempo na situação</th>\n",
              "      <th>Tipo de ponto</th>\n",
              "      <th>Presença_Moradia_Improvisada</th>\n",
              "      <th>Criança_acomp_Adulto</th>\n",
              "      <th>Criança_Sozinha</th>\n",
              "      <th>Latitude</th>\n",
              "      <th>Longitude</th>\n",
              "      <th>Data</th>\n",
              "      <th>Subprefeitura</th>\n",
              "      <th>Distrito</th>\n",
              "    </tr>\n",
              "  </thead>\n",
              "  <tbody>\n",
              "    <tr>\n",
              "      <th>0</th>\n",
              "      <td>1</td>\n",
              "      <td>Rua</td>\n",
              "      <td>Não se aplica</td>\n",
              "      <td>Não se aplica</td>\n",
              "      <td>Feminino</td>\n",
              "      <td>Não respondeu</td>\n",
              "      <td>Não respondeu</td>\n",
              "      <td>Sem informação</td>\n",
              "      <td>Sem informação</td>\n",
              "      <td>Sem identificação</td>\n",
              "      <td>...</td>\n",
              "      <td>NR/NS</td>\n",
              "      <td>Praça</td>\n",
              "      <td>Não</td>\n",
              "      <td>Não</td>\n",
              "      <td>Não</td>\n",
              "      <td>-23,4962781999999</td>\n",
              "      <td>-46,391831</td>\n",
              "      <td>10/25/21</td>\n",
              "      <td>Itaim Paulista</td>\n",
              "      <td>Itaim Paulista</td>\n",
              "    </tr>\n",
              "    <tr>\n",
              "      <th>1</th>\n",
              "      <td>2</td>\n",
              "      <td>Acolhido</td>\n",
              "      <td>Rua</td>\n",
              "      <td>Não se aplica</td>\n",
              "      <td>Masculino</td>\n",
              "      <td>Homem Cisgênero</td>\n",
              "      <td>38</td>\n",
              "      <td>31 a 49</td>\n",
              "      <td>Adulto</td>\n",
              "      <td>Parda</td>\n",
              "      <td>...</td>\n",
              "      <td>Mais de 10 anos</td>\n",
              "      <td>Não se aplica</td>\n",
              "      <td>Não se aplica</td>\n",
              "      <td>Não se aplica</td>\n",
              "      <td>Não se aplica</td>\n",
              "      <td>-23,5225168</td>\n",
              "      <td>-46,522712</td>\n",
              "      <td>10/25/21</td>\n",
              "      <td>Penha</td>\n",
              "      <td>Penha</td>\n",
              "    </tr>\n",
              "    <tr>\n",
              "      <th>2</th>\n",
              "      <td>3</td>\n",
              "      <td>Rua</td>\n",
              "      <td>Não se aplica</td>\n",
              "      <td>Não se aplica</td>\n",
              "      <td>Feminino</td>\n",
              "      <td>Mulher Cisgênero</td>\n",
              "      <td>27</td>\n",
              "      <td>18 a 30</td>\n",
              "      <td>Juventude</td>\n",
              "      <td>Parda</td>\n",
              "      <td>...</td>\n",
              "      <td>Mais de 2 anos até 5 anos</td>\n",
              "      <td>Praça</td>\n",
              "      <td>Sim</td>\n",
              "      <td>Não</td>\n",
              "      <td>Não</td>\n",
              "      <td>-23,5232932</td>\n",
              "      <td>-46,6549845</td>\n",
              "      <td>11/3/21</td>\n",
              "      <td>Sé</td>\n",
              "      <td>Santa Cecília</td>\n",
              "    </tr>\n",
              "    <tr>\n",
              "      <th>3</th>\n",
              "      <td>4</td>\n",
              "      <td>Rua</td>\n",
              "      <td>Não se aplica</td>\n",
              "      <td>Não se aplica</td>\n",
              "      <td>Masculino</td>\n",
              "      <td>Homem Cisgênero</td>\n",
              "      <td>15</td>\n",
              "      <td>12 a 17</td>\n",
              "      <td>Adolescente</td>\n",
              "      <td>Branca</td>\n",
              "      <td>...</td>\n",
              "      <td>Mais de 5 anos até 10 anos</td>\n",
              "      <td>Calçada</td>\n",
              "      <td>Sim</td>\n",
              "      <td>Não</td>\n",
              "      <td>Não</td>\n",
              "      <td>-23,7430783949666</td>\n",
              "      <td>-46,6929477602377</td>\n",
              "      <td>10/27/21</td>\n",
              "      <td>Capela do Socorro</td>\n",
              "      <td>Grajaú</td>\n",
              "    </tr>\n",
              "    <tr>\n",
              "      <th>4</th>\n",
              "      <td>5</td>\n",
              "      <td>Rua</td>\n",
              "      <td>Não se aplica</td>\n",
              "      <td>Não se aplica</td>\n",
              "      <td>Feminino</td>\n",
              "      <td>Mulher Cisgênero</td>\n",
              "      <td>Não respondeu</td>\n",
              "      <td>Sem informação</td>\n",
              "      <td>Sem informação</td>\n",
              "      <td>Sem identificação</td>\n",
              "      <td>...</td>\n",
              "      <td>NR/NS</td>\n",
              "      <td>Canteiro central</td>\n",
              "      <td>Sim</td>\n",
              "      <td>Não</td>\n",
              "      <td>Não</td>\n",
              "      <td>-23,5251419</td>\n",
              "      <td>-46,6255225</td>\n",
              "      <td>11/9/21</td>\n",
              "      <td>Mooca</td>\n",
              "      <td>Pari</td>\n",
              "    </tr>\n",
              "  </tbody>\n",
              "</table>\n",
              "<p>5 rows × 21 columns</p>\n",
              "</div>\n",
              "      <button class=\"colab-df-convert\" onclick=\"convertToInteractive('df-f0805e1a-ad05-40e6-9f10-b5c7634864f8')\"\n",
              "              title=\"Convert this dataframe to an interactive table.\"\n",
              "              style=\"display:none;\">\n",
              "        \n",
              "  <svg xmlns=\"http://www.w3.org/2000/svg\" height=\"24px\"viewBox=\"0 0 24 24\"\n",
              "       width=\"24px\">\n",
              "    <path d=\"M0 0h24v24H0V0z\" fill=\"none\"/>\n",
              "    <path d=\"M18.56 5.44l.94 2.06.94-2.06 2.06-.94-2.06-.94-.94-2.06-.94 2.06-2.06.94zm-11 1L8.5 8.5l.94-2.06 2.06-.94-2.06-.94L8.5 2.5l-.94 2.06-2.06.94zm10 10l.94 2.06.94-2.06 2.06-.94-2.06-.94-.94-2.06-.94 2.06-2.06.94z\"/><path d=\"M17.41 7.96l-1.37-1.37c-.4-.4-.92-.59-1.43-.59-.52 0-1.04.2-1.43.59L10.3 9.45l-7.72 7.72c-.78.78-.78 2.05 0 2.83L4 21.41c.39.39.9.59 1.41.59.51 0 1.02-.2 1.41-.59l7.78-7.78 2.81-2.81c.8-.78.8-2.07 0-2.86zM5.41 20L4 18.59l7.72-7.72 1.47 1.35L5.41 20z\"/>\n",
              "  </svg>\n",
              "      </button>\n",
              "      \n",
              "  <style>\n",
              "    .colab-df-container {\n",
              "      display:flex;\n",
              "      flex-wrap:wrap;\n",
              "      gap: 12px;\n",
              "    }\n",
              "\n",
              "    .colab-df-convert {\n",
              "      background-color: #E8F0FE;\n",
              "      border: none;\n",
              "      border-radius: 50%;\n",
              "      cursor: pointer;\n",
              "      display: none;\n",
              "      fill: #1967D2;\n",
              "      height: 32px;\n",
              "      padding: 0 0 0 0;\n",
              "      width: 32px;\n",
              "    }\n",
              "\n",
              "    .colab-df-convert:hover {\n",
              "      background-color: #E2EBFA;\n",
              "      box-shadow: 0px 1px 2px rgba(60, 64, 67, 0.3), 0px 1px 3px 1px rgba(60, 64, 67, 0.15);\n",
              "      fill: #174EA6;\n",
              "    }\n",
              "\n",
              "    [theme=dark] .colab-df-convert {\n",
              "      background-color: #3B4455;\n",
              "      fill: #D2E3FC;\n",
              "    }\n",
              "\n",
              "    [theme=dark] .colab-df-convert:hover {\n",
              "      background-color: #434B5C;\n",
              "      box-shadow: 0px 1px 3px 1px rgba(0, 0, 0, 0.15);\n",
              "      filter: drop-shadow(0px 1px 2px rgba(0, 0, 0, 0.3));\n",
              "      fill: #FFFFFF;\n",
              "    }\n",
              "  </style>\n",
              "\n",
              "      <script>\n",
              "        const buttonEl =\n",
              "          document.querySelector('#df-f0805e1a-ad05-40e6-9f10-b5c7634864f8 button.colab-df-convert');\n",
              "        buttonEl.style.display =\n",
              "          google.colab.kernel.accessAllowed ? 'block' : 'none';\n",
              "\n",
              "        async function convertToInteractive(key) {\n",
              "          const element = document.querySelector('#df-f0805e1a-ad05-40e6-9f10-b5c7634864f8');\n",
              "          const dataTable =\n",
              "            await google.colab.kernel.invokeFunction('convertToInteractive',\n",
              "                                                     [key], {});\n",
              "          if (!dataTable) return;\n",
              "\n",
              "          const docLinkHtml = 'Like what you see? Visit the ' +\n",
              "            '<a target=\"_blank\" href=https://colab.research.google.com/notebooks/data_table.ipynb>data table notebook</a>'\n",
              "            + ' to learn more about interactive tables.';\n",
              "          element.innerHTML = '';\n",
              "          dataTable['output_type'] = 'display_data';\n",
              "          await google.colab.output.renderOutput(dataTable, element);\n",
              "          const docLink = document.createElement('div');\n",
              "          docLink.innerHTML = docLinkHtml;\n",
              "          element.appendChild(docLink);\n",
              "        }\n",
              "      </script>\n",
              "    </div>\n",
              "  </div>\n",
              "  "
            ]
          },
          "metadata": {},
          "execution_count": 2
        }
      ]
    },
    {
      "cell_type": "code",
      "source": [
        "df.count()"
      ],
      "metadata": {
        "colab": {
          "base_uri": "https://localhost:8080/"
        },
        "id": "csAKHjuCkXjH",
        "outputId": "7f767ee0-2130-4264-b79b-6c5725049210"
      },
      "execution_count": 3,
      "outputs": [
        {
          "output_type": "execute_result",
          "data": {
            "text/plain": [
              "ID                              31884\n",
              "Situação de rua                 31884\n",
              "Onde dormiu ontem               31884\n",
              "Tempo de permanência            31884\n",
              "Sexo                            31884\n",
              "Identifica com o sexo nasceu    31884\n",
              "Idade                           31884\n",
              "Faixa de idade                  31884\n",
              "Classificação de idade          31884\n",
              "Cor_Raça_Etnia                  31884\n",
              "Parentes no CA                  31884\n",
              "Tempo na situação               31884\n",
              "Tipo de ponto                   31884\n",
              "Presença_Moradia_Improvisada    31884\n",
              "Criança_acomp_Adulto            31884\n",
              "Criança_Sozinha                 31884\n",
              "Latitude                        31717\n",
              "Longitude                       31717\n",
              "Data                            31884\n",
              "Subprefeitura                   31884\n",
              "Distrito                        31884\n",
              "dtype: int64"
            ]
          },
          "metadata": {},
          "execution_count": 3
        }
      ]
    },
    {
      "cell_type": "markdown",
      "source": [
        "### Mostrando os lugares ###"
      ],
      "metadata": {
        "id": "nag4Lv7xdXjf"
      }
    },
    {
      "cell_type": "code",
      "source": [
        "df[['Latitude', 'Longitude']].head()"
      ],
      "metadata": {
        "colab": {
          "base_uri": "https://localhost:8080/",
          "height": 206
        },
        "id": "lY17qadFX21D",
        "outputId": "81b676b6-3b58-47f8-c18e-eed139393772"
      },
      "execution_count": 4,
      "outputs": [
        {
          "output_type": "execute_result",
          "data": {
            "text/plain": [
              "            Latitude          Longitude\n",
              "0  -23,4962781999999         -46,391831\n",
              "1        -23,5225168         -46,522712\n",
              "2        -23,5232932        -46,6549845\n",
              "3  -23,7430783949666  -46,6929477602377\n",
              "4        -23,5251419        -46,6255225"
            ],
            "text/html": [
              "\n",
              "  <div id=\"df-2a2c9c3c-edaa-40b9-9d58-fa7907ab7123\">\n",
              "    <div class=\"colab-df-container\">\n",
              "      <div>\n",
              "<style scoped>\n",
              "    .dataframe tbody tr th:only-of-type {\n",
              "        vertical-align: middle;\n",
              "    }\n",
              "\n",
              "    .dataframe tbody tr th {\n",
              "        vertical-align: top;\n",
              "    }\n",
              "\n",
              "    .dataframe thead th {\n",
              "        text-align: right;\n",
              "    }\n",
              "</style>\n",
              "<table border=\"1\" class=\"dataframe\">\n",
              "  <thead>\n",
              "    <tr style=\"text-align: right;\">\n",
              "      <th></th>\n",
              "      <th>Latitude</th>\n",
              "      <th>Longitude</th>\n",
              "    </tr>\n",
              "  </thead>\n",
              "  <tbody>\n",
              "    <tr>\n",
              "      <th>0</th>\n",
              "      <td>-23,4962781999999</td>\n",
              "      <td>-46,391831</td>\n",
              "    </tr>\n",
              "    <tr>\n",
              "      <th>1</th>\n",
              "      <td>-23,5225168</td>\n",
              "      <td>-46,522712</td>\n",
              "    </tr>\n",
              "    <tr>\n",
              "      <th>2</th>\n",
              "      <td>-23,5232932</td>\n",
              "      <td>-46,6549845</td>\n",
              "    </tr>\n",
              "    <tr>\n",
              "      <th>3</th>\n",
              "      <td>-23,7430783949666</td>\n",
              "      <td>-46,6929477602377</td>\n",
              "    </tr>\n",
              "    <tr>\n",
              "      <th>4</th>\n",
              "      <td>-23,5251419</td>\n",
              "      <td>-46,6255225</td>\n",
              "    </tr>\n",
              "  </tbody>\n",
              "</table>\n",
              "</div>\n",
              "      <button class=\"colab-df-convert\" onclick=\"convertToInteractive('df-2a2c9c3c-edaa-40b9-9d58-fa7907ab7123')\"\n",
              "              title=\"Convert this dataframe to an interactive table.\"\n",
              "              style=\"display:none;\">\n",
              "        \n",
              "  <svg xmlns=\"http://www.w3.org/2000/svg\" height=\"24px\"viewBox=\"0 0 24 24\"\n",
              "       width=\"24px\">\n",
              "    <path d=\"M0 0h24v24H0V0z\" fill=\"none\"/>\n",
              "    <path d=\"M18.56 5.44l.94 2.06.94-2.06 2.06-.94-2.06-.94-.94-2.06-.94 2.06-2.06.94zm-11 1L8.5 8.5l.94-2.06 2.06-.94-2.06-.94L8.5 2.5l-.94 2.06-2.06.94zm10 10l.94 2.06.94-2.06 2.06-.94-2.06-.94-.94-2.06-.94 2.06-2.06.94z\"/><path d=\"M17.41 7.96l-1.37-1.37c-.4-.4-.92-.59-1.43-.59-.52 0-1.04.2-1.43.59L10.3 9.45l-7.72 7.72c-.78.78-.78 2.05 0 2.83L4 21.41c.39.39.9.59 1.41.59.51 0 1.02-.2 1.41-.59l7.78-7.78 2.81-2.81c.8-.78.8-2.07 0-2.86zM5.41 20L4 18.59l7.72-7.72 1.47 1.35L5.41 20z\"/>\n",
              "  </svg>\n",
              "      </button>\n",
              "      \n",
              "  <style>\n",
              "    .colab-df-container {\n",
              "      display:flex;\n",
              "      flex-wrap:wrap;\n",
              "      gap: 12px;\n",
              "    }\n",
              "\n",
              "    .colab-df-convert {\n",
              "      background-color: #E8F0FE;\n",
              "      border: none;\n",
              "      border-radius: 50%;\n",
              "      cursor: pointer;\n",
              "      display: none;\n",
              "      fill: #1967D2;\n",
              "      height: 32px;\n",
              "      padding: 0 0 0 0;\n",
              "      width: 32px;\n",
              "    }\n",
              "\n",
              "    .colab-df-convert:hover {\n",
              "      background-color: #E2EBFA;\n",
              "      box-shadow: 0px 1px 2px rgba(60, 64, 67, 0.3), 0px 1px 3px 1px rgba(60, 64, 67, 0.15);\n",
              "      fill: #174EA6;\n",
              "    }\n",
              "\n",
              "    [theme=dark] .colab-df-convert {\n",
              "      background-color: #3B4455;\n",
              "      fill: #D2E3FC;\n",
              "    }\n",
              "\n",
              "    [theme=dark] .colab-df-convert:hover {\n",
              "      background-color: #434B5C;\n",
              "      box-shadow: 0px 1px 3px 1px rgba(0, 0, 0, 0.15);\n",
              "      filter: drop-shadow(0px 1px 2px rgba(0, 0, 0, 0.3));\n",
              "      fill: #FFFFFF;\n",
              "    }\n",
              "  </style>\n",
              "\n",
              "      <script>\n",
              "        const buttonEl =\n",
              "          document.querySelector('#df-2a2c9c3c-edaa-40b9-9d58-fa7907ab7123 button.colab-df-convert');\n",
              "        buttonEl.style.display =\n",
              "          google.colab.kernel.accessAllowed ? 'block' : 'none';\n",
              "\n",
              "        async function convertToInteractive(key) {\n",
              "          const element = document.querySelector('#df-2a2c9c3c-edaa-40b9-9d58-fa7907ab7123');\n",
              "          const dataTable =\n",
              "            await google.colab.kernel.invokeFunction('convertToInteractive',\n",
              "                                                     [key], {});\n",
              "          if (!dataTable) return;\n",
              "\n",
              "          const docLinkHtml = 'Like what you see? Visit the ' +\n",
              "            '<a target=\"_blank\" href=https://colab.research.google.com/notebooks/data_table.ipynb>data table notebook</a>'\n",
              "            + ' to learn more about interactive tables.';\n",
              "          element.innerHTML = '';\n",
              "          dataTable['output_type'] = 'display_data';\n",
              "          await google.colab.output.renderOutput(dataTable, element);\n",
              "          const docLink = document.createElement('div');\n",
              "          docLink.innerHTML = docLinkHtml;\n",
              "          element.appendChild(docLink);\n",
              "        }\n",
              "      </script>\n",
              "    </div>\n",
              "  </div>\n",
              "  "
            ]
          },
          "metadata": {},
          "execution_count": 4
        }
      ]
    },
    {
      "cell_type": "code",
      "source": [
        "df['Latitude'] = df['Latitude'].apply(lambda x: float(str(x).replace(',', '.')))\n",
        "df['Longitude'] = df['Longitude'].apply(lambda x: float(str(x).replace(',', '.')))\n"
      ],
      "metadata": {
        "id": "kivgugyFec2j"
      },
      "execution_count": 5,
      "outputs": []
    },
    {
      "cell_type": "code",
      "source": [
        "df[['Latitude', 'Longitude']].head()"
      ],
      "metadata": {
        "colab": {
          "base_uri": "https://localhost:8080/",
          "height": 206
        },
        "id": "iP-FWCLZek_7",
        "outputId": "50ee22b0-39ba-42a7-ba71-9117eb20e494"
      },
      "execution_count": 6,
      "outputs": [
        {
          "output_type": "execute_result",
          "data": {
            "text/plain": [
              "    Latitude  Longitude\n",
              "0 -23.496278 -46.391831\n",
              "1 -23.522517 -46.522712\n",
              "2 -23.523293 -46.654984\n",
              "3 -23.743078 -46.692948\n",
              "4 -23.525142 -46.625523"
            ],
            "text/html": [
              "\n",
              "  <div id=\"df-ee177069-b154-475b-a129-f883f8105073\">\n",
              "    <div class=\"colab-df-container\">\n",
              "      <div>\n",
              "<style scoped>\n",
              "    .dataframe tbody tr th:only-of-type {\n",
              "        vertical-align: middle;\n",
              "    }\n",
              "\n",
              "    .dataframe tbody tr th {\n",
              "        vertical-align: top;\n",
              "    }\n",
              "\n",
              "    .dataframe thead th {\n",
              "        text-align: right;\n",
              "    }\n",
              "</style>\n",
              "<table border=\"1\" class=\"dataframe\">\n",
              "  <thead>\n",
              "    <tr style=\"text-align: right;\">\n",
              "      <th></th>\n",
              "      <th>Latitude</th>\n",
              "      <th>Longitude</th>\n",
              "    </tr>\n",
              "  </thead>\n",
              "  <tbody>\n",
              "    <tr>\n",
              "      <th>0</th>\n",
              "      <td>-23.496278</td>\n",
              "      <td>-46.391831</td>\n",
              "    </tr>\n",
              "    <tr>\n",
              "      <th>1</th>\n",
              "      <td>-23.522517</td>\n",
              "      <td>-46.522712</td>\n",
              "    </tr>\n",
              "    <tr>\n",
              "      <th>2</th>\n",
              "      <td>-23.523293</td>\n",
              "      <td>-46.654984</td>\n",
              "    </tr>\n",
              "    <tr>\n",
              "      <th>3</th>\n",
              "      <td>-23.743078</td>\n",
              "      <td>-46.692948</td>\n",
              "    </tr>\n",
              "    <tr>\n",
              "      <th>4</th>\n",
              "      <td>-23.525142</td>\n",
              "      <td>-46.625523</td>\n",
              "    </tr>\n",
              "  </tbody>\n",
              "</table>\n",
              "</div>\n",
              "      <button class=\"colab-df-convert\" onclick=\"convertToInteractive('df-ee177069-b154-475b-a129-f883f8105073')\"\n",
              "              title=\"Convert this dataframe to an interactive table.\"\n",
              "              style=\"display:none;\">\n",
              "        \n",
              "  <svg xmlns=\"http://www.w3.org/2000/svg\" height=\"24px\"viewBox=\"0 0 24 24\"\n",
              "       width=\"24px\">\n",
              "    <path d=\"M0 0h24v24H0V0z\" fill=\"none\"/>\n",
              "    <path d=\"M18.56 5.44l.94 2.06.94-2.06 2.06-.94-2.06-.94-.94-2.06-.94 2.06-2.06.94zm-11 1L8.5 8.5l.94-2.06 2.06-.94-2.06-.94L8.5 2.5l-.94 2.06-2.06.94zm10 10l.94 2.06.94-2.06 2.06-.94-2.06-.94-.94-2.06-.94 2.06-2.06.94z\"/><path d=\"M17.41 7.96l-1.37-1.37c-.4-.4-.92-.59-1.43-.59-.52 0-1.04.2-1.43.59L10.3 9.45l-7.72 7.72c-.78.78-.78 2.05 0 2.83L4 21.41c.39.39.9.59 1.41.59.51 0 1.02-.2 1.41-.59l7.78-7.78 2.81-2.81c.8-.78.8-2.07 0-2.86zM5.41 20L4 18.59l7.72-7.72 1.47 1.35L5.41 20z\"/>\n",
              "  </svg>\n",
              "      </button>\n",
              "      \n",
              "  <style>\n",
              "    .colab-df-container {\n",
              "      display:flex;\n",
              "      flex-wrap:wrap;\n",
              "      gap: 12px;\n",
              "    }\n",
              "\n",
              "    .colab-df-convert {\n",
              "      background-color: #E8F0FE;\n",
              "      border: none;\n",
              "      border-radius: 50%;\n",
              "      cursor: pointer;\n",
              "      display: none;\n",
              "      fill: #1967D2;\n",
              "      height: 32px;\n",
              "      padding: 0 0 0 0;\n",
              "      width: 32px;\n",
              "    }\n",
              "\n",
              "    .colab-df-convert:hover {\n",
              "      background-color: #E2EBFA;\n",
              "      box-shadow: 0px 1px 2px rgba(60, 64, 67, 0.3), 0px 1px 3px 1px rgba(60, 64, 67, 0.15);\n",
              "      fill: #174EA6;\n",
              "    }\n",
              "\n",
              "    [theme=dark] .colab-df-convert {\n",
              "      background-color: #3B4455;\n",
              "      fill: #D2E3FC;\n",
              "    }\n",
              "\n",
              "    [theme=dark] .colab-df-convert:hover {\n",
              "      background-color: #434B5C;\n",
              "      box-shadow: 0px 1px 3px 1px rgba(0, 0, 0, 0.15);\n",
              "      filter: drop-shadow(0px 1px 2px rgba(0, 0, 0, 0.3));\n",
              "      fill: #FFFFFF;\n",
              "    }\n",
              "  </style>\n",
              "\n",
              "      <script>\n",
              "        const buttonEl =\n",
              "          document.querySelector('#df-ee177069-b154-475b-a129-f883f8105073 button.colab-df-convert');\n",
              "        buttonEl.style.display =\n",
              "          google.colab.kernel.accessAllowed ? 'block' : 'none';\n",
              "\n",
              "        async function convertToInteractive(key) {\n",
              "          const element = document.querySelector('#df-ee177069-b154-475b-a129-f883f8105073');\n",
              "          const dataTable =\n",
              "            await google.colab.kernel.invokeFunction('convertToInteractive',\n",
              "                                                     [key], {});\n",
              "          if (!dataTable) return;\n",
              "\n",
              "          const docLinkHtml = 'Like what you see? Visit the ' +\n",
              "            '<a target=\"_blank\" href=https://colab.research.google.com/notebooks/data_table.ipynb>data table notebook</a>'\n",
              "            + ' to learn more about interactive tables.';\n",
              "          element.innerHTML = '';\n",
              "          dataTable['output_type'] = 'display_data';\n",
              "          await google.colab.output.renderOutput(dataTable, element);\n",
              "          const docLink = document.createElement('div');\n",
              "          docLink.innerHTML = docLinkHtml;\n",
              "          element.appendChild(docLink);\n",
              "        }\n",
              "      </script>\n",
              "    </div>\n",
              "  </div>\n",
              "  "
            ]
          },
          "metadata": {},
          "execution_count": 6
        }
      ]
    },
    {
      "cell_type": "code",
      "source": [
        "df['Latitude'].count()"
      ],
      "metadata": {
        "colab": {
          "base_uri": "https://localhost:8080/"
        },
        "id": "ttRD57ccdeKI",
        "outputId": "9dd1bae6-bafe-45d2-9378-3f1db172deba"
      },
      "execution_count": 7,
      "outputs": [
        {
          "output_type": "execute_result",
          "data": {
            "text/plain": [
              "31717"
            ]
          },
          "metadata": {},
          "execution_count": 7
        }
      ]
    },
    {
      "cell_type": "code",
      "source": [
        "df['Longitude'].count()"
      ],
      "metadata": {
        "colab": {
          "base_uri": "https://localhost:8080/"
        },
        "id": "-iZmx2jIdtEh",
        "outputId": "9ddbe335-6cf9-4bb0-ab73-f41f1bec791a"
      },
      "execution_count": 8,
      "outputs": [
        {
          "output_type": "execute_result",
          "data": {
            "text/plain": [
              "31717"
            ]
          },
          "metadata": {},
          "execution_count": 8
        }
      ]
    },
    {
      "cell_type": "markdown",
      "source": [
        "### Removendo Nan ###"
      ],
      "metadata": {
        "id": "IQ8sd8Uset5-"
      }
    },
    {
      "cell_type": "code",
      "source": [
        "df.dropna(subset=['Latitude'], inplace=True)\n"
      ],
      "metadata": {
        "id": "h7BHUoaUcnB3"
      },
      "execution_count": 9,
      "outputs": []
    },
    {
      "cell_type": "code",
      "source": [
        "df.dropna(subset=['Longitude'], inplace=True)"
      ],
      "metadata": {
        "id": "XYSt9_cVgtxp"
      },
      "execution_count": 10,
      "outputs": []
    },
    {
      "cell_type": "code",
      "source": [
        "df.count()"
      ],
      "metadata": {
        "colab": {
          "base_uri": "https://localhost:8080/"
        },
        "id": "iQpgJrXLfXO_",
        "outputId": "43af9ddc-1c23-45b0-e079-e7d0013f2c59"
      },
      "execution_count": 11,
      "outputs": [
        {
          "output_type": "execute_result",
          "data": {
            "text/plain": [
              "ID                              31717\n",
              "Situação de rua                 31717\n",
              "Onde dormiu ontem               31717\n",
              "Tempo de permanência            31717\n",
              "Sexo                            31717\n",
              "Identifica com o sexo nasceu    31717\n",
              "Idade                           31717\n",
              "Faixa de idade                  31717\n",
              "Classificação de idade          31717\n",
              "Cor_Raça_Etnia                  31717\n",
              "Parentes no CA                  31717\n",
              "Tempo na situação               31717\n",
              "Tipo de ponto                   31717\n",
              "Presença_Moradia_Improvisada    31717\n",
              "Criança_acomp_Adulto            31717\n",
              "Criança_Sozinha                 31717\n",
              "Latitude                        31717\n",
              "Longitude                       31717\n",
              "Data                            31717\n",
              "Subprefeitura                   31717\n",
              "Distrito                        31717\n",
              "dtype: int64"
            ]
          },
          "metadata": {},
          "execution_count": 11
        }
      ]
    },
    {
      "cell_type": "code",
      "source": [
        "df['Latitude'].isna().sum()"
      ],
      "metadata": {
        "colab": {
          "base_uri": "https://localhost:8080/"
        },
        "id": "ipdz354pbA9X",
        "outputId": "ec5dcb49-bed4-4a8a-8a75-4038dcb3f367"
      },
      "execution_count": 12,
      "outputs": [
        {
          "output_type": "execute_result",
          "data": {
            "text/plain": [
              "0"
            ]
          },
          "metadata": {},
          "execution_count": 12
        }
      ]
    },
    {
      "cell_type": "code",
      "source": [
        "df['Longitude'].isna().sum()"
      ],
      "metadata": {
        "colab": {
          "base_uri": "https://localhost:8080/"
        },
        "id": "CM9_WdCrcX1x",
        "outputId": "ec18b31d-3c3f-4eda-c9c7-54cfa9b8420b"
      },
      "execution_count": 13,
      "outputs": [
        {
          "output_type": "execute_result",
          "data": {
            "text/plain": [
              "0"
            ]
          },
          "metadata": {},
          "execution_count": 13
        }
      ]
    },
    {
      "cell_type": "code",
      "source": [
        "df = df.sample(n=10000, random_state=42)"
      ],
      "metadata": {
        "id": "Fhjy_exuiech"
      },
      "execution_count": 14,
      "outputs": []
    },
    {
      "cell_type": "code",
      "source": [
        "df.count()"
      ],
      "metadata": {
        "colab": {
          "base_uri": "https://localhost:8080/"
        },
        "id": "Vm-f6tgRinPR",
        "outputId": "0aadd0cd-e4f5-4889-c9dc-53865b972900"
      },
      "execution_count": null,
      "outputs": [
        {
          "output_type": "execute_result",
          "data": {
            "text/plain": [
              "ID                              10000\n",
              "Situação de rua                 10000\n",
              "Onde dormiu ontem               10000\n",
              "Tempo de permanência            10000\n",
              "Sexo                            10000\n",
              "Identifica com o sexo nasceu    10000\n",
              "Idade                           10000\n",
              "Faixa de idade                  10000\n",
              "Classificação de idade          10000\n",
              "Cor_Raça_Etnia                  10000\n",
              "Parentes no CA                  10000\n",
              "Tempo na situação               10000\n",
              "Tipo de ponto                   10000\n",
              "Presença_Moradia_Improvisada    10000\n",
              "Criança_acomp_Adulto            10000\n",
              "Criança_Sozinha                 10000\n",
              "Latitude                        10000\n",
              "Longitude                       10000\n",
              "Data                            10000\n",
              "Subprefeitura                   10000\n",
              "Distrito                        10000\n",
              "dtype: int64"
            ]
          },
          "metadata": {},
          "execution_count": 39
        }
      ]
    },
    {
      "cell_type": "markdown",
      "source": [
        "### Modelo de machine learning que mostra clusters de concentracao usando K-Means ###\n"
      ],
      "metadata": {
        "id": "dNfXjHFgB1IE"
      }
    },
    {
      "cell_type": "code",
      "source": [
        "df[['Latitude', 'Longitude']]"
      ],
      "metadata": {
        "colab": {
          "base_uri": "https://localhost:8080/",
          "height": 423
        },
        "id": "aIYHfMRaCqHw",
        "outputId": "4071d694-a41b-42c6-f6d5-f824f8b33ef1"
      },
      "execution_count": 15,
      "outputs": [
        {
          "output_type": "execute_result",
          "data": {
            "text/plain": [
              "        Latitude  Longitude\n",
              "31212 -23.627176 -46.738046\n",
              "11889 -23.510752 -46.618353\n",
              "31686 -23.563061 -46.645435\n",
              "7610  -23.549240 -46.641932\n",
              "19575 -23.645113 -46.733419\n",
              "...          ...        ...\n",
              "4430  -23.542773 -46.591922\n",
              "20998 -23.558310 -46.645315\n",
              "29167 -23.519422 -46.595125\n",
              "23207 -23.549924 -46.611778\n",
              "1191  -23.534285 -46.642926\n",
              "\n",
              "[10000 rows x 2 columns]"
            ],
            "text/html": [
              "\n",
              "  <div id=\"df-d67f0036-dbc3-434b-92cc-8ad3191d3c10\">\n",
              "    <div class=\"colab-df-container\">\n",
              "      <div>\n",
              "<style scoped>\n",
              "    .dataframe tbody tr th:only-of-type {\n",
              "        vertical-align: middle;\n",
              "    }\n",
              "\n",
              "    .dataframe tbody tr th {\n",
              "        vertical-align: top;\n",
              "    }\n",
              "\n",
              "    .dataframe thead th {\n",
              "        text-align: right;\n",
              "    }\n",
              "</style>\n",
              "<table border=\"1\" class=\"dataframe\">\n",
              "  <thead>\n",
              "    <tr style=\"text-align: right;\">\n",
              "      <th></th>\n",
              "      <th>Latitude</th>\n",
              "      <th>Longitude</th>\n",
              "    </tr>\n",
              "  </thead>\n",
              "  <tbody>\n",
              "    <tr>\n",
              "      <th>31212</th>\n",
              "      <td>-23.627176</td>\n",
              "      <td>-46.738046</td>\n",
              "    </tr>\n",
              "    <tr>\n",
              "      <th>11889</th>\n",
              "      <td>-23.510752</td>\n",
              "      <td>-46.618353</td>\n",
              "    </tr>\n",
              "    <tr>\n",
              "      <th>31686</th>\n",
              "      <td>-23.563061</td>\n",
              "      <td>-46.645435</td>\n",
              "    </tr>\n",
              "    <tr>\n",
              "      <th>7610</th>\n",
              "      <td>-23.549240</td>\n",
              "      <td>-46.641932</td>\n",
              "    </tr>\n",
              "    <tr>\n",
              "      <th>19575</th>\n",
              "      <td>-23.645113</td>\n",
              "      <td>-46.733419</td>\n",
              "    </tr>\n",
              "    <tr>\n",
              "      <th>...</th>\n",
              "      <td>...</td>\n",
              "      <td>...</td>\n",
              "    </tr>\n",
              "    <tr>\n",
              "      <th>4430</th>\n",
              "      <td>-23.542773</td>\n",
              "      <td>-46.591922</td>\n",
              "    </tr>\n",
              "    <tr>\n",
              "      <th>20998</th>\n",
              "      <td>-23.558310</td>\n",
              "      <td>-46.645315</td>\n",
              "    </tr>\n",
              "    <tr>\n",
              "      <th>29167</th>\n",
              "      <td>-23.519422</td>\n",
              "      <td>-46.595125</td>\n",
              "    </tr>\n",
              "    <tr>\n",
              "      <th>23207</th>\n",
              "      <td>-23.549924</td>\n",
              "      <td>-46.611778</td>\n",
              "    </tr>\n",
              "    <tr>\n",
              "      <th>1191</th>\n",
              "      <td>-23.534285</td>\n",
              "      <td>-46.642926</td>\n",
              "    </tr>\n",
              "  </tbody>\n",
              "</table>\n",
              "<p>10000 rows × 2 columns</p>\n",
              "</div>\n",
              "      <button class=\"colab-df-convert\" onclick=\"convertToInteractive('df-d67f0036-dbc3-434b-92cc-8ad3191d3c10')\"\n",
              "              title=\"Convert this dataframe to an interactive table.\"\n",
              "              style=\"display:none;\">\n",
              "        \n",
              "  <svg xmlns=\"http://www.w3.org/2000/svg\" height=\"24px\"viewBox=\"0 0 24 24\"\n",
              "       width=\"24px\">\n",
              "    <path d=\"M0 0h24v24H0V0z\" fill=\"none\"/>\n",
              "    <path d=\"M18.56 5.44l.94 2.06.94-2.06 2.06-.94-2.06-.94-.94-2.06-.94 2.06-2.06.94zm-11 1L8.5 8.5l.94-2.06 2.06-.94-2.06-.94L8.5 2.5l-.94 2.06-2.06.94zm10 10l.94 2.06.94-2.06 2.06-.94-2.06-.94-.94-2.06-.94 2.06-2.06.94z\"/><path d=\"M17.41 7.96l-1.37-1.37c-.4-.4-.92-.59-1.43-.59-.52 0-1.04.2-1.43.59L10.3 9.45l-7.72 7.72c-.78.78-.78 2.05 0 2.83L4 21.41c.39.39.9.59 1.41.59.51 0 1.02-.2 1.41-.59l7.78-7.78 2.81-2.81c.8-.78.8-2.07 0-2.86zM5.41 20L4 18.59l7.72-7.72 1.47 1.35L5.41 20z\"/>\n",
              "  </svg>\n",
              "      </button>\n",
              "      \n",
              "  <style>\n",
              "    .colab-df-container {\n",
              "      display:flex;\n",
              "      flex-wrap:wrap;\n",
              "      gap: 12px;\n",
              "    }\n",
              "\n",
              "    .colab-df-convert {\n",
              "      background-color: #E8F0FE;\n",
              "      border: none;\n",
              "      border-radius: 50%;\n",
              "      cursor: pointer;\n",
              "      display: none;\n",
              "      fill: #1967D2;\n",
              "      height: 32px;\n",
              "      padding: 0 0 0 0;\n",
              "      width: 32px;\n",
              "    }\n",
              "\n",
              "    .colab-df-convert:hover {\n",
              "      background-color: #E2EBFA;\n",
              "      box-shadow: 0px 1px 2px rgba(60, 64, 67, 0.3), 0px 1px 3px 1px rgba(60, 64, 67, 0.15);\n",
              "      fill: #174EA6;\n",
              "    }\n",
              "\n",
              "    [theme=dark] .colab-df-convert {\n",
              "      background-color: #3B4455;\n",
              "      fill: #D2E3FC;\n",
              "    }\n",
              "\n",
              "    [theme=dark] .colab-df-convert:hover {\n",
              "      background-color: #434B5C;\n",
              "      box-shadow: 0px 1px 3px 1px rgba(0, 0, 0, 0.15);\n",
              "      filter: drop-shadow(0px 1px 2px rgba(0, 0, 0, 0.3));\n",
              "      fill: #FFFFFF;\n",
              "    }\n",
              "  </style>\n",
              "\n",
              "      <script>\n",
              "        const buttonEl =\n",
              "          document.querySelector('#df-d67f0036-dbc3-434b-92cc-8ad3191d3c10 button.colab-df-convert');\n",
              "        buttonEl.style.display =\n",
              "          google.colab.kernel.accessAllowed ? 'block' : 'none';\n",
              "\n",
              "        async function convertToInteractive(key) {\n",
              "          const element = document.querySelector('#df-d67f0036-dbc3-434b-92cc-8ad3191d3c10');\n",
              "          const dataTable =\n",
              "            await google.colab.kernel.invokeFunction('convertToInteractive',\n",
              "                                                     [key], {});\n",
              "          if (!dataTable) return;\n",
              "\n",
              "          const docLinkHtml = 'Like what you see? Visit the ' +\n",
              "            '<a target=\"_blank\" href=https://colab.research.google.com/notebooks/data_table.ipynb>data table notebook</a>'\n",
              "            + ' to learn more about interactive tables.';\n",
              "          element.innerHTML = '';\n",
              "          dataTable['output_type'] = 'display_data';\n",
              "          await google.colab.output.renderOutput(dataTable, element);\n",
              "          const docLink = document.createElement('div');\n",
              "          docLink.innerHTML = docLinkHtml;\n",
              "          element.appendChild(docLink);\n",
              "        }\n",
              "      </script>\n",
              "    </div>\n",
              "  </div>\n",
              "  "
            ]
          },
          "metadata": {},
          "execution_count": 15
        }
      ]
    },
    {
      "cell_type": "code",
      "source": [
        "\n",
        "from sklearn.cluster import KMeans\n",
        "import pandas as pd\n",
        "import matplotlib.pyplot as plt\n",
        "\n",
        "\n",
        "# Determinar o valor de K usando o método elbow\n",
        "distortions = []\n",
        "K = range(1, 10)\n",
        "for k in K:\n",
        "    model = KMeans(n_clusters=k)\n",
        "    model.fit(df[['Latitude', 'Longitude']])\n",
        "    distortions.append(model.inertia_)\n",
        "\n",
        "\n"
      ],
      "metadata": {
        "colab": {
          "base_uri": "https://localhost:8080/"
        },
        "id": "_j-IeMOkBqbx",
        "outputId": "90b69e36-a8ab-47a6-a4c8-67a12aa1c2c5"
      },
      "execution_count": 16,
      "outputs": [
        {
          "output_type": "stream",
          "name": "stderr",
          "text": [
            "/usr/local/lib/python3.9/dist-packages/sklearn/cluster/_kmeans.py:870: FutureWarning: The default value of `n_init` will change from 10 to 'auto' in 1.4. Set the value of `n_init` explicitly to suppress the warning\n",
            "  warnings.warn(\n",
            "/usr/local/lib/python3.9/dist-packages/sklearn/cluster/_kmeans.py:870: FutureWarning: The default value of `n_init` will change from 10 to 'auto' in 1.4. Set the value of `n_init` explicitly to suppress the warning\n",
            "  warnings.warn(\n",
            "/usr/local/lib/python3.9/dist-packages/sklearn/cluster/_kmeans.py:870: FutureWarning: The default value of `n_init` will change from 10 to 'auto' in 1.4. Set the value of `n_init` explicitly to suppress the warning\n",
            "  warnings.warn(\n",
            "/usr/local/lib/python3.9/dist-packages/sklearn/cluster/_kmeans.py:870: FutureWarning: The default value of `n_init` will change from 10 to 'auto' in 1.4. Set the value of `n_init` explicitly to suppress the warning\n",
            "  warnings.warn(\n",
            "/usr/local/lib/python3.9/dist-packages/sklearn/cluster/_kmeans.py:870: FutureWarning: The default value of `n_init` will change from 10 to 'auto' in 1.4. Set the value of `n_init` explicitly to suppress the warning\n",
            "  warnings.warn(\n",
            "/usr/local/lib/python3.9/dist-packages/sklearn/cluster/_kmeans.py:870: FutureWarning: The default value of `n_init` will change from 10 to 'auto' in 1.4. Set the value of `n_init` explicitly to suppress the warning\n",
            "  warnings.warn(\n",
            "/usr/local/lib/python3.9/dist-packages/sklearn/cluster/_kmeans.py:870: FutureWarning: The default value of `n_init` will change from 10 to 'auto' in 1.4. Set the value of `n_init` explicitly to suppress the warning\n",
            "  warnings.warn(\n",
            "/usr/local/lib/python3.9/dist-packages/sklearn/cluster/_kmeans.py:870: FutureWarning: The default value of `n_init` will change from 10 to 'auto' in 1.4. Set the value of `n_init` explicitly to suppress the warning\n",
            "  warnings.warn(\n",
            "/usr/local/lib/python3.9/dist-packages/sklearn/cluster/_kmeans.py:870: FutureWarning: The default value of `n_init` will change from 10 to 'auto' in 1.4. Set the value of `n_init` explicitly to suppress the warning\n",
            "  warnings.warn(\n"
          ]
        }
      ]
    },
    {
      "cell_type": "code",
      "source": [
        "plt.plot(K, distortions, 'bx-')\n",
        "plt.xlabel('k')\n",
        "plt.ylabel('Distortion')\n",
        "plt.title('Método do Cotovelo')\n",
        "plt.show()\n",
        "\n",
        "# Executar o algoritmo K-Means com K = 3\n",
        "model = KMeans(n_clusters=3)\n",
        "model.fit(df[['Latitude', 'Longitude']])\n",
        "\n",
        "# Visualizar os clusters\n",
        "labels = model.predict(df[['Latitude', 'Longitude']])\n",
        "plt.scatter(df['Longitude'], df['Latitude'], c=labels)\n",
        "plt.title('Clusters')\n",
        "plt.xlabel('Longitude')\n",
        "plt.ylabel('Latitude')\n",
        "plt.show()"
      ],
      "metadata": {
        "colab": {
          "base_uri": "https://localhost:8080/",
          "height": 984
        },
        "id": "F2g7ZXxwCCiV",
        "outputId": "e4fa3952-05e7-4d99-9d40-f851d59f0cad"
      },
      "execution_count": 19,
      "outputs": [
        {
          "output_type": "display_data",
          "data": {
            "text/plain": [
              "<Figure size 640x480 with 1 Axes>"
            ],
            "image/png": "[encoded data removed]"
          },
          "metadata": {}
        },
        {
          "output_type": "stream",
          "name": "stderr",
          "text": [
            "/usr/local/lib/python3.9/dist-packages/sklearn/cluster/_kmeans.py:870: FutureWarning: The default value of `n_init` will change from 10 to 'auto' in 1.4. Set the value of `n_init` explicitly to suppress the warning\n",
            "  warnings.warn(\n"
          ]
        },
        {
          "output_type": "display_data",
          "data": {
            "text/plain": [
              "<Figure size 640x480 with 1 Axes>"
            ],
            "image/png": "[encoded data removed]"
          },
          "metadata": {}
        }
      ]
    }
  ]
}