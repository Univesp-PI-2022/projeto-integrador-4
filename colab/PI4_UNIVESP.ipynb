{
  "nbformat": 4,
  "nbformat_minor": 0,
  "metadata": {
    "colab": {
      "provenance": []
    },
    "kernelspec": {
      "name": "python3",
      "display_name": "Python 3"
    },
    "language_info": {
      "name": "python"
    }
  },
  "cells": [
    {
      "cell_type": "markdown",
      "source": [
        "Importando bibliotecas \n"
      ],
      "metadata": {
        "id": "mdWvsOFGAnfU"
      }
    },
    {
      "cell_type": "code",
      "execution_count": 24,
      "metadata": {
        "id": "DJmaiwCuAJm-"
      },
      "outputs": [],
      "source": [
        "import pandas as pd\n",
        "import matplotlib.pyplot as plt"
      ]
    },
    {
      "cell_type": "code",
      "source": [
        "\n",
        "\n",
        "# Ler o arquivo CSV\n",
        "df = pd.read_csv('/content/censo1.csv',sep=\";\")\n",
        "\n",
        "# Exibir o DataFrame resultante\n",
        "df.head()\n"
      ],
      "metadata": {
        "colab": {
          "base_uri": "https://localhost:8080/",
          "height": 456
        },
        "id": "JSMIGRZqHzE6",
        "outputId": "d776de98-d3a7-4f5e-b48b-9f6692414bda"
      },
      "execution_count": 25,
      "outputs": [
        {
          "output_type": "execute_result",
          "data": {
            "text/plain": [
              "   ID Situação de rua Onde dormiu ontem Tempo de permanência       Sexo  \\\n",
              "0   1             Rua     Não se aplica        Não se aplica   Feminino   \n",
              "1   2        Acolhido               Rua        Não se aplica  Masculino   \n",
              "2   3             Rua     Não se aplica        Não se aplica   Feminino   \n",
              "3   4             Rua     Não se aplica        Não se aplica  Masculino   \n",
              "4   5             Rua     Não se aplica        Não se aplica   Feminino   \n",
              "\n",
              "  Identifica com o sexo nasceu          Idade  Faixa de idade  \\\n",
              "0                Não respondeu  Não respondeu  Sem informação   \n",
              "1              Homem Cisgênero             38         31 a 49   \n",
              "2             Mulher Cisgênero             27         18 a 30   \n",
              "3              Homem Cisgênero             15         12 a 17   \n",
              "4             Mulher Cisgênero  Não respondeu  Sem informação   \n",
              "\n",
              "  Classificação de idade     Cor_Raça_Etnia  ...           Tempo na situação  \\\n",
              "0         Sem informação  Sem identificação  ...                       NR/NS   \n",
              "1                 Adulto              Parda  ...             Mais de 10 anos   \n",
              "2              Juventude              Parda  ...   Mais de 2 anos até 5 anos   \n",
              "3            Adolescente             Branca  ...  Mais de 5 anos até 10 anos   \n",
              "4         Sem informação  Sem identificação  ...                       NR/NS   \n",
              "\n",
              "      Tipo de ponto Presença_Moradia_Improvisada Criança_acomp_Adulto  \\\n",
              "0             Praça                          Não                  Não   \n",
              "1     Não se aplica                Não se aplica        Não se aplica   \n",
              "2             Praça                          Sim                  Não   \n",
              "3           Calçada                          Sim                  Não   \n",
              "4  Canteiro central                          Sim                  Não   \n",
              "\n",
              "  Criança_Sozinha           Latitude          Longitude      Data  \\\n",
              "0             Não  -23,4962781999999         -46,391831  10/25/21   \n",
              "1   Não se aplica        -23,5225168         -46,522712  10/25/21   \n",
              "2             Não        -23,5232932        -46,6549845   11/3/21   \n",
              "3             Não  -23,7430783949666  -46,6929477602377  10/27/21   \n",
              "4             Não        -23,5251419        -46,6255225   11/9/21   \n",
              "\n",
              "       Subprefeitura        Distrito  \n",
              "0     Itaim Paulista  Itaim Paulista  \n",
              "1              Penha           Penha  \n",
              "2                 Sé   Santa Cecília  \n",
              "3  Capela do Socorro          Grajaú  \n",
              "4              Mooca            Pari  \n",
              "\n",
              "[5 rows x 21 columns]"
            ],
            "text/html": [
              "\n",
              "  <div id=\"df-de296f8b-377a-4ae4-bf2f-a8ed74623c81\">\n",
              "    <div class=\"colab-df-container\">\n",
              "      <div>\n",
              "<style scoped>\n",
              "    .dataframe tbody tr th:only-of-type {\n",
              "        vertical-align: middle;\n",
              "    }\n",
              "\n",
              "    .dataframe tbody tr th {\n",
              "        vertical-align: top;\n",
              "    }\n",
              "\n",
              "    .dataframe thead th {\n",
              "        text-align: right;\n",
              "    }\n",
              "</style>\n",
              "<table border=\"1\" class=\"dataframe\">\n",
              "  <thead>\n",
              "    <tr style=\"text-align: right;\">\n",
              "      <th></th>\n",
              "      <th>ID</th>\n",
              "      <th>Situação de rua</th>\n",
              "      <th>Onde dormiu ontem</th>\n",
              "      <th>Tempo de permanência</th>\n",
              "      <th>Sexo</th>\n",
              "      <th>Identifica com o sexo nasceu</th>\n",
              "      <th>Idade</th>\n",
              "      <th>Faixa de idade</th>\n",
              "      <th>Classificação de idade</th>\n",
              "      <th>Cor_Raça_Etnia</th>\n",
              "      <th>...</th>\n",
              "      <th>Tempo na situação</th>\n",
              "      <th>Tipo de ponto</th>\n",
              "      <th>Presença_Moradia_Improvisada</th>\n",
              "      <th>Criança_acomp_Adulto</th>\n",
              "      <th>Criança_Sozinha</th>\n",
              "      <th>Latitude</th>\n",
              "      <th>Longitude</th>\n",
              "      <th>Data</th>\n",
              "      <th>Subprefeitura</th>\n",
              "      <th>Distrito</th>\n",
              "    </tr>\n",
              "  </thead>\n",
              "  <tbody>\n",
              "    <tr>\n",
              "      <th>0</th>\n",
              "      <td>1</td>\n",
              "      <td>Rua</td>\n",
              "      <td>Não se aplica</td>\n",
              "      <td>Não se aplica</td>\n",
              "      <td>Feminino</td>\n",
              "      <td>Não respondeu</td>\n",
              "      <td>Não respondeu</td>\n",
              "      <td>Sem informação</td>\n",
              "      <td>Sem informação</td>\n",
              "      <td>Sem identificação</td>\n",
              "      <td>...</td>\n",
              "      <td>NR/NS</td>\n",
              "      <td>Praça</td>\n",
              "      <td>Não</td>\n",
              "      <td>Não</td>\n",
              "      <td>Não</td>\n",
              "      <td>-23,4962781999999</td>\n",
              "      <td>-46,391831</td>\n",
              "      <td>10/25/21</td>\n",
              "      <td>Itaim Paulista</td>\n",
              "      <td>Itaim Paulista</td>\n",
              "    </tr>\n",
              "    <tr>\n",
              "      <th>1</th>\n",
              "      <td>2</td>\n",
              "      <td>Acolhido</td>\n",
              "      <td>Rua</td>\n",
              "      <td>Não se aplica</td>\n",
              "      <td>Masculino</td>\n",
              "      <td>Homem Cisgênero</td>\n",
              "      <td>38</td>\n",
              "      <td>31 a 49</td>\n",
              "      <td>Adulto</td>\n",
              "      <td>Parda</td>\n",
              "      <td>...</td>\n",
              "      <td>Mais de 10 anos</td>\n",
              "      <td>Não se aplica</td>\n",
              "      <td>Não se aplica</td>\n",
              "      <td>Não se aplica</td>\n",
              "      <td>Não se aplica</td>\n",
              "      <td>-23,5225168</td>\n",
              "      <td>-46,522712</td>\n",
              "      <td>10/25/21</td>\n",
              "      <td>Penha</td>\n",
              "      <td>Penha</td>\n",
              "    </tr>\n",
              "    <tr>\n",
              "      <th>2</th>\n",
              "      <td>3</td>\n",
              "      <td>Rua</td>\n",
              "      <td>Não se aplica</td>\n",
              "      <td>Não se aplica</td>\n",
              "      <td>Feminino</td>\n",
              "      <td>Mulher Cisgênero</td>\n",
              "      <td>27</td>\n",
              "      <td>18 a 30</td>\n",
              "      <td>Juventude</td>\n",
              "      <td>Parda</td>\n",
              "      <td>...</td>\n",
              "      <td>Mais de 2 anos até 5 anos</td>\n",
              "      <td>Praça</td>\n",
              "      <td>Sim</td>\n",
              "      <td>Não</td>\n",
              "      <td>Não</td>\n",
              "      <td>-23,5232932</td>\n",
              "      <td>-46,6549845</td>\n",
              "      <td>11/3/21</td>\n",
              "      <td>Sé</td>\n",
              "      <td>Santa Cecília</td>\n",
              "    </tr>\n",
              "    <tr>\n",
              "      <th>3</th>\n",
              "      <td>4</td>\n",
              "      <td>Rua</td>\n",
              "      <td>Não se aplica</td>\n",
              "      <td>Não se aplica</td>\n",
              "      <td>Masculino</td>\n",
              "      <td>Homem Cisgênero</td>\n",
              "      <td>15</td>\n",
              "      <td>12 a 17</td>\n",
              "      <td>Adolescente</td>\n",
              "      <td>Branca</td>\n",
              "      <td>...</td>\n",
              "      <td>Mais de 5 anos até 10 anos</td>\n",
              "      <td>Calçada</td>\n",
              "      <td>Sim</td>\n",
              "      <td>Não</td>\n",
              "      <td>Não</td>\n",
              "      <td>-23,7430783949666</td>\n",
              "      <td>-46,6929477602377</td>\n",
              "      <td>10/27/21</td>\n",
              "      <td>Capela do Socorro</td>\n",
              "      <td>Grajaú</td>\n",
              "    </tr>\n",
              "    <tr>\n",
              "      <th>4</th>\n",
              "      <td>5</td>\n",
              "      <td>Rua</td>\n",
              "      <td>Não se aplica</td>\n",
              "      <td>Não se aplica</td>\n",
              "      <td>Feminino</td>\n",
              "      <td>Mulher Cisgênero</td>\n",
              "      <td>Não respondeu</td>\n",
              "      <td>Sem informação</td>\n",
              "      <td>Sem informação</td>\n",
              "      <td>Sem identificação</td>\n",
              "      <td>...</td>\n",
              "      <td>NR/NS</td>\n",
              "      <td>Canteiro central</td>\n",
              "      <td>Sim</td>\n",
              "      <td>Não</td>\n",
              "      <td>Não</td>\n",
              "      <td>-23,5251419</td>\n",
              "      <td>-46,6255225</td>\n",
              "      <td>11/9/21</td>\n",
              "      <td>Mooca</td>\n",
              "      <td>Pari</td>\n",
              "    </tr>\n",
              "  </tbody>\n",
              "</table>\n",
              "<p>5 rows × 21 columns</p>\n",
              "</div>\n",
              "      <button class=\"colab-df-convert\" onclick=\"convertToInteractive('df-de296f8b-377a-4ae4-bf2f-a8ed74623c81')\"\n",
              "              title=\"Convert this dataframe to an interactive table.\"\n",
              "              style=\"display:none;\">\n",
              "        \n",
              "  <svg xmlns=\"http://www.w3.org/2000/svg\" height=\"24px\"viewBox=\"0 0 24 24\"\n",
              "       width=\"24px\">\n",
              "    <path d=\"M0 0h24v24H0V0z\" fill=\"none\"/>\n",
              "    <path d=\"M18.56 5.44l.94 2.06.94-2.06 2.06-.94-2.06-.94-.94-2.06-.94 2.06-2.06.94zm-11 1L8.5 8.5l.94-2.06 2.06-.94-2.06-.94L8.5 2.5l-.94 2.06-2.06.94zm10 10l.94 2.06.94-2.06 2.06-.94-2.06-.94-.94-2.06-.94 2.06-2.06.94z\"/><path d=\"M17.41 7.96l-1.37-1.37c-.4-.4-.92-.59-1.43-.59-.52 0-1.04.2-1.43.59L10.3 9.45l-7.72 7.72c-.78.78-.78 2.05 0 2.83L4 21.41c.39.39.9.59 1.41.59.51 0 1.02-.2 1.41-.59l7.78-7.78 2.81-2.81c.8-.78.8-2.07 0-2.86zM5.41 20L4 18.59l7.72-7.72 1.47 1.35L5.41 20z\"/>\n",
              "  </svg>\n",
              "      </button>\n",
              "      \n",
              "  <style>\n",
              "    .colab-df-container {\n",
              "      display:flex;\n",
              "      flex-wrap:wrap;\n",
              "      gap: 12px;\n",
              "    }\n",
              "\n",
              "    .colab-df-convert {\n",
              "      background-color: #E8F0FE;\n",
              "      border: none;\n",
              "      border-radius: 50%;\n",
              "      cursor: pointer;\n",
              "      display: none;\n",
              "      fill: #1967D2;\n",
              "      height: 32px;\n",
              "      padding: 0 0 0 0;\n",
              "      width: 32px;\n",
              "    }\n",
              "\n",
              "    .colab-df-convert:hover {\n",
              "      background-color: #E2EBFA;\n",
              "      box-shadow: 0px 1px 2px rgba(60, 64, 67, 0.3), 0px 1px 3px 1px rgba(60, 64, 67, 0.15);\n",
              "      fill: #174EA6;\n",
              "    }\n",
              "\n",
              "    [theme=dark] .colab-df-convert {\n",
              "      background-color: #3B4455;\n",
              "      fill: #D2E3FC;\n",
              "    }\n",
              "\n",
              "    [theme=dark] .colab-df-convert:hover {\n",
              "      background-color: #434B5C;\n",
              "      box-shadow: 0px 1px 3px 1px rgba(0, 0, 0, 0.15);\n",
              "      filter: drop-shadow(0px 1px 2px rgba(0, 0, 0, 0.3));\n",
              "      fill: #FFFFFF;\n",
              "    }\n",
              "  </style>\n",
              "\n",
              "      <script>\n",
              "        const buttonEl =\n",
              "          document.querySelector('#df-de296f8b-377a-4ae4-bf2f-a8ed74623c81 button.colab-df-convert');\n",
              "        buttonEl.style.display =\n",
              "          google.colab.kernel.accessAllowed ? 'block' : 'none';\n",
              "\n",
              "        async function convertToInteractive(key) {\n",
              "          const element = document.querySelector('#df-de296f8b-377a-4ae4-bf2f-a8ed74623c81');\n",
              "          const dataTable =\n",
              "            await google.colab.kernel.invokeFunction('convertToInteractive',\n",
              "                                                     [key], {});\n",
              "          if (!dataTable) return;\n",
              "\n",
              "          const docLinkHtml = 'Like what you see? Visit the ' +\n",
              "            '<a target=\"_blank\" href=https://colab.research.google.com/notebooks/data_table.ipynb>data table notebook</a>'\n",
              "            + ' to learn more about interactive tables.';\n",
              "          element.innerHTML = '';\n",
              "          dataTable['output_type'] = 'display_data';\n",
              "          await google.colab.output.renderOutput(dataTable, element);\n",
              "          const docLink = document.createElement('div');\n",
              "          docLink.innerHTML = docLinkHtml;\n",
              "          element.appendChild(docLink);\n",
              "        }\n",
              "      </script>\n",
              "    </div>\n",
              "  </div>\n",
              "  "
            ]
          },
          "metadata": {},
          "execution_count": 25
        }
      ]
    },
    {
      "cell_type": "code",
      "source": [
        "df.shape"
      ],
      "metadata": {
        "colab": {
          "base_uri": "https://localhost:8080/"
        },
        "id": "5CuzVM5-IGqS",
        "outputId": "c9ec5824-d11a-457c-8835-b5b3a37b6dcd"
      },
      "execution_count": 23,
      "outputs": [
        {
          "output_type": "execute_result",
          "data": {
            "text/plain": [
              "(31884, 21)"
            ]
          },
          "metadata": {},
          "execution_count": 23
        }
      ]
    },
    {
      "cell_type": "code",
      "source": [
        "df['Sexo'].count()\n"
      ],
      "metadata": {
        "colab": {
          "base_uri": "https://localhost:8080/"
        },
        "id": "nXQ459ubJTfQ",
        "outputId": "f504f705-43ab-4d50-8523-756632781946"
      },
      "execution_count": 31,
      "outputs": [
        {
          "output_type": "execute_result",
          "data": {
            "text/plain": [
              "31884"
            ]
          },
          "metadata": {},
          "execution_count": 31
        }
      ]
    },
    {
      "cell_type": "code",
      "source": [
        "df['Sexo'].value_counts()"
      ],
      "metadata": {
        "colab": {
          "base_uri": "https://localhost:8080/"
        },
        "id": "b4xK94QTKLaK",
        "outputId": "0d848fa2-ad9a-464a-a351-a15281add5fe"
      },
      "execution_count": 36,
      "outputs": [
        {
          "output_type": "execute_result",
          "data": {
            "text/plain": [
              "Masculino            25717\n",
              "Feminino              5109\n",
              "Sem identificação     1058\n",
              "Name: Sexo, dtype: int64"
            ]
          },
          "metadata": {},
          "execution_count": 36
        }
      ]
    },
    {
      "cell_type": "code",
      "source": [
        "counts = df['Sexo'].value_counts()"
      ],
      "metadata": {
        "id": "HBXJs5bbKj8v"
      },
      "execution_count": 39,
      "outputs": []
    },
    {
      "cell_type": "code",
      "source": [
        "# gráfico de barras\n",
        "fig, ax = plt.subplots()\n",
        "ax.bar(counts.index, counts.values)\n",
        "\n",
        "# Configurar os rótulos do eixo x e do título\n",
        "\n",
        "ax.set_xlabel('Classes')\n",
        "ax.set_ylabel('Frequência')\n",
        "ax.set_title('Distribuição [or Sexo]')\n",
        "\n",
        "# Mostrar o gráfico\n",
        "plt.show()"
      ],
      "metadata": {
        "colab": {
          "base_uri": "https://localhost:8080/",
          "height": 295
        },
        "id": "VBl5QuwMIJw_",
        "outputId": "a20c92eb-f233-42fc-b24c-99dd1bf4ac4f"
      },
      "execution_count": 41,
      "outputs": [
        {
          "output_type": "display_data",
          "data": {
            "text/plain": [
              "<Figure size 432x288 with 1 Axes>"
            ],
            "image/png": "[encoded data removed]"
          },
          "metadata": {
            "needs_background": "light"
          }
        }
      ]
    }
  ]
}
